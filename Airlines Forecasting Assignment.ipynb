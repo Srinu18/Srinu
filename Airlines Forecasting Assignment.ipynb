{
 "cells": [
  {
   "cell_type": "code",
   "execution_count": 42,
   "id": "d9f3ae5a",
   "metadata": {
    "ExecuteTime": {
     "end_time": "2022-10-22T06:57:43.981634Z",
     "start_time": "2022-10-22T06:57:43.970478Z"
    }
   },
   "outputs": [],
   "source": [
    "#Import the required libraries\n",
    "import numpy as np\n",
    "import pandas as pd\n",
    "import matplotlib.pyplot as plt\n",
    "import seaborn as sns \n",
    "import statsmodels.formula.api as smf\n",
    "from sklearn.metrics import mean_squared_error "
   ]
  },
  {
   "cell_type": "code",
   "execution_count": 43,
   "id": "4483d046",
   "metadata": {
    "ExecuteTime": {
     "end_time": "2022-10-22T06:57:44.011903Z",
     "start_time": "2022-10-22T06:57:43.984720Z"
    }
   },
   "outputs": [
    {
     "data": {
      "text/html": [
       "<div>\n",
       "<style scoped>\n",
       "    .dataframe tbody tr th:only-of-type {\n",
       "        vertical-align: middle;\n",
       "    }\n",
       "\n",
       "    .dataframe tbody tr th {\n",
       "        vertical-align: top;\n",
       "    }\n",
       "\n",
       "    .dataframe thead th {\n",
       "        text-align: right;\n",
       "    }\n",
       "</style>\n",
       "<table border=\"1\" class=\"dataframe\">\n",
       "  <thead>\n",
       "    <tr style=\"text-align: right;\">\n",
       "      <th></th>\n",
       "      <th>Month</th>\n",
       "      <th>Passengers</th>\n",
       "    </tr>\n",
       "  </thead>\n",
       "  <tbody>\n",
       "    <tr>\n",
       "      <th>0</th>\n",
       "      <td>Jan-95</td>\n",
       "      <td>112</td>\n",
       "    </tr>\n",
       "    <tr>\n",
       "      <th>1</th>\n",
       "      <td>Feb-95</td>\n",
       "      <td>118</td>\n",
       "    </tr>\n",
       "    <tr>\n",
       "      <th>2</th>\n",
       "      <td>Mar-95</td>\n",
       "      <td>132</td>\n",
       "    </tr>\n",
       "    <tr>\n",
       "      <th>3</th>\n",
       "      <td>Apr-95</td>\n",
       "      <td>129</td>\n",
       "    </tr>\n",
       "    <tr>\n",
       "      <th>4</th>\n",
       "      <td>May-95</td>\n",
       "      <td>121</td>\n",
       "    </tr>\n",
       "    <tr>\n",
       "      <th>...</th>\n",
       "      <td>...</td>\n",
       "      <td>...</td>\n",
       "    </tr>\n",
       "    <tr>\n",
       "      <th>91</th>\n",
       "      <td>Aug-02</td>\n",
       "      <td>405</td>\n",
       "    </tr>\n",
       "    <tr>\n",
       "      <th>92</th>\n",
       "      <td>Sep-02</td>\n",
       "      <td>355</td>\n",
       "    </tr>\n",
       "    <tr>\n",
       "      <th>93</th>\n",
       "      <td>Oct-02</td>\n",
       "      <td>306</td>\n",
       "    </tr>\n",
       "    <tr>\n",
       "      <th>94</th>\n",
       "      <td>Nov-02</td>\n",
       "      <td>271</td>\n",
       "    </tr>\n",
       "    <tr>\n",
       "      <th>95</th>\n",
       "      <td>Dec-02</td>\n",
       "      <td>306</td>\n",
       "    </tr>\n",
       "  </tbody>\n",
       "</table>\n",
       "<p>96 rows × 2 columns</p>\n",
       "</div>"
      ],
      "text/plain": [
       "     Month  Passengers\n",
       "0   Jan-95         112\n",
       "1   Feb-95         118\n",
       "2   Mar-95         132\n",
       "3   Apr-95         129\n",
       "4   May-95         121\n",
       "..     ...         ...\n",
       "91  Aug-02         405\n",
       "92  Sep-02         355\n",
       "93  Oct-02         306\n",
       "94  Nov-02         271\n",
       "95  Dec-02         306\n",
       "\n",
       "[96 rows x 2 columns]"
      ]
     },
     "execution_count": 43,
     "metadata": {},
     "output_type": "execute_result"
    }
   ],
   "source": [
    "Airlines = pd.read_csv(\"Airlines_data.csv\")\n",
    "Airlines"
   ]
  },
  {
   "cell_type": "code",
   "execution_count": 44,
   "id": "e5e65f53",
   "metadata": {
    "ExecuteTime": {
     "end_time": "2022-10-22T06:57:44.197651Z",
     "start_time": "2022-10-22T06:57:44.013807Z"
    }
   },
   "outputs": [
    {
     "data": {
      "text/plain": [
       "<AxesSubplot:>"
      ]
     },
     "execution_count": 44,
     "metadata": {},
     "output_type": "execute_result"
    },
    {
     "data": {
      "image/png": "[encoded data removed]",
      "text/plain": [
       "<Figure size 432x288 with 1 Axes>"
      ]
     },
     "metadata": {
      "needs_background": "light"
     },
     "output_type": "display_data"
    }
   ],
   "source": [
    "Airlines.plot() "
   ]
  },
  {
   "cell_type": "code",
   "execution_count": 45,
   "id": "0c85cba6",
   "metadata": {
    "ExecuteTime": {
     "end_time": "2022-10-22T06:57:44.213335Z",
     "start_time": "2022-10-22T06:57:44.200541Z"
    }
   },
   "outputs": [],
   "source": [
    "month=['Jan','Feb','Mar','Apr','May','Jun','Jul','Aug','Sep','Oct','Nov','Dec']\n",
    "month=pd.DataFrame(month)\n",
    "months=pd.DataFrame(np.tile(month,(8,1)))\n",
    "Airlines=pd.concat([Airlines,months],axis=1)\n",
    "Airlines.columns=['Month','Passengers','months']"
   ]
  },
  {
   "cell_type": "code",
   "execution_count": 46,
   "id": "eb97c938",
   "metadata": {
    "ExecuteTime": {
     "end_time": "2022-10-22T06:57:44.229403Z",
     "start_time": "2022-10-22T06:57:44.215665Z"
    }
   },
   "outputs": [],
   "source": [
    "month_dummies=pd.get_dummies(Airlines['months'])\n",
    "Airlines=pd.concat([Airlines,month_dummies],axis=1)\n",
    "Airlines['t']=np.arange(1,97)\n",
    "Airlines['t_sq']=Airlines['t']*Airlines['t']\n",
    "Airlines['log_passengers']=np.log(Airlines['Passengers'])"
   ]
  },
  {
   "cell_type": "code",
   "execution_count": 47,
   "id": "397765c8",
   "metadata": {
    "ExecuteTime": {
     "end_time": "2022-10-22T06:57:44.259739Z",
     "start_time": "2022-10-22T06:57:44.230796Z"
    }
   },
   "outputs": [
    {
     "data": {
      "text/html": [
       "<div>\n",
       "<style scoped>\n",
       "    .dataframe tbody tr th:only-of-type {\n",
       "        vertical-align: middle;\n",
       "    }\n",
       "\n",
       "    .dataframe tbody tr th {\n",
       "        vertical-align: top;\n",
       "    }\n",
       "\n",
       "    .dataframe thead th {\n",
       "        text-align: right;\n",
       "    }\n",
       "</style>\n",
       "<table border=\"1\" class=\"dataframe\">\n",
       "  <thead>\n",
       "    <tr style=\"text-align: right;\">\n",
       "      <th></th>\n",
       "      <th>Month</th>\n",
       "      <th>Passengers</th>\n",
       "      <th>months</th>\n",
       "      <th>Apr</th>\n",
       "      <th>Aug</th>\n",
       "      <th>Dec</th>\n",
       "      <th>Feb</th>\n",
       "      <th>Jan</th>\n",
       "      <th>Jul</th>\n",
       "      <th>Jun</th>\n",
       "      <th>Mar</th>\n",
       "      <th>May</th>\n",
       "      <th>Nov</th>\n",
       "      <th>Oct</th>\n",
       "      <th>Sep</th>\n",
       "      <th>t</th>\n",
       "      <th>t_sq</th>\n",
       "      <th>log_passengers</th>\n",
       "    </tr>\n",
       "  </thead>\n",
       "  <tbody>\n",
       "    <tr>\n",
       "      <th>0</th>\n",
       "      <td>Jan-95</td>\n",
       "      <td>112</td>\n",
       "      <td>Jan</td>\n",
       "      <td>0</td>\n",
       "      <td>0</td>\n",
       "      <td>0</td>\n",
       "      <td>0</td>\n",
       "      <td>1</td>\n",
       "      <td>0</td>\n",
       "      <td>0</td>\n",
       "      <td>0</td>\n",
       "      <td>0</td>\n",
       "      <td>0</td>\n",
       "      <td>0</td>\n",
       "      <td>0</td>\n",
       "      <td>1</td>\n",
       "      <td>1</td>\n",
       "      <td>4.718499</td>\n",
       "    </tr>\n",
       "    <tr>\n",
       "      <th>1</th>\n",
       "      <td>Feb-95</td>\n",
       "      <td>118</td>\n",
       "      <td>Feb</td>\n",
       "      <td>0</td>\n",
       "      <td>0</td>\n",
       "      <td>0</td>\n",
       "      <td>1</td>\n",
       "      <td>0</td>\n",
       "      <td>0</td>\n",
       "      <td>0</td>\n",
       "      <td>0</td>\n",
       "      <td>0</td>\n",
       "      <td>0</td>\n",
       "      <td>0</td>\n",
       "      <td>0</td>\n",
       "      <td>2</td>\n",
       "      <td>4</td>\n",
       "      <td>4.770685</td>\n",
       "    </tr>\n",
       "    <tr>\n",
       "      <th>2</th>\n",
       "      <td>Mar-95</td>\n",
       "      <td>132</td>\n",
       "      <td>Mar</td>\n",
       "      <td>0</td>\n",
       "      <td>0</td>\n",
       "      <td>0</td>\n",
       "      <td>0</td>\n",
       "      <td>0</td>\n",
       "      <td>0</td>\n",
       "      <td>0</td>\n",
       "      <td>1</td>\n",
       "      <td>0</td>\n",
       "      <td>0</td>\n",
       "      <td>0</td>\n",
       "      <td>0</td>\n",
       "      <td>3</td>\n",
       "      <td>9</td>\n",
       "      <td>4.882802</td>\n",
       "    </tr>\n",
       "    <tr>\n",
       "      <th>3</th>\n",
       "      <td>Apr-95</td>\n",
       "      <td>129</td>\n",
       "      <td>Apr</td>\n",
       "      <td>1</td>\n",
       "      <td>0</td>\n",
       "      <td>0</td>\n",
       "      <td>0</td>\n",
       "      <td>0</td>\n",
       "      <td>0</td>\n",
       "      <td>0</td>\n",
       "      <td>0</td>\n",
       "      <td>0</td>\n",
       "      <td>0</td>\n",
       "      <td>0</td>\n",
       "      <td>0</td>\n",
       "      <td>4</td>\n",
       "      <td>16</td>\n",
       "      <td>4.859812</td>\n",
       "    </tr>\n",
       "    <tr>\n",
       "      <th>4</th>\n",
       "      <td>May-95</td>\n",
       "      <td>121</td>\n",
       "      <td>May</td>\n",
       "      <td>0</td>\n",
       "      <td>0</td>\n",
       "      <td>0</td>\n",
       "      <td>0</td>\n",
       "      <td>0</td>\n",
       "      <td>0</td>\n",
       "      <td>0</td>\n",
       "      <td>0</td>\n",
       "      <td>1</td>\n",
       "      <td>0</td>\n",
       "      <td>0</td>\n",
       "      <td>0</td>\n",
       "      <td>5</td>\n",
       "      <td>25</td>\n",
       "      <td>4.795791</td>\n",
       "    </tr>\n",
       "  </tbody>\n",
       "</table>\n",
       "</div>"
      ],
      "text/plain": [
       "    Month  Passengers months  Apr  Aug  Dec  Feb  Jan  Jul  Jun  Mar  May  \\\n",
       "0  Jan-95         112    Jan    0    0    0    0    1    0    0    0    0   \n",
       "1  Feb-95         118    Feb    0    0    0    1    0    0    0    0    0   \n",
       "2  Mar-95         132    Mar    0    0    0    0    0    0    0    1    0   \n",
       "3  Apr-95         129    Apr    1    0    0    0    0    0    0    0    0   \n",
       "4  May-95         121    May    0    0    0    0    0    0    0    0    1   \n",
       "\n",
       "   Nov  Oct  Sep  t  t_sq  log_passengers  \n",
       "0    0    0    0  1     1        4.718499  \n",
       "1    0    0    0  2     4        4.770685  \n",
       "2    0    0    0  3     9        4.882802  \n",
       "3    0    0    0  4    16        4.859812  \n",
       "4    0    0    0  5    25        4.795791  "
      ]
     },
     "execution_count": 47,
     "metadata": {},
     "output_type": "execute_result"
    }
   ],
   "source": [
    "Airlines.head(5)"
   ]
  },
  {
   "cell_type": "code",
   "execution_count": 48,
   "id": "aed8f5cc",
   "metadata": {
    "ExecuteTime": {
     "end_time": "2022-10-22T06:57:44.306459Z",
     "start_time": "2022-10-22T06:57:44.261620Z"
    }
   },
   "outputs": [
    {
     "data": {
      "text/html": [
       "<div>\n",
       "<style scoped>\n",
       "    .dataframe tbody tr th:only-of-type {\n",
       "        vertical-align: middle;\n",
       "    }\n",
       "\n",
       "    .dataframe tbody tr th {\n",
       "        vertical-align: top;\n",
       "    }\n",
       "\n",
       "    .dataframe thead th {\n",
       "        text-align: right;\n",
       "    }\n",
       "</style>\n",
       "<table border=\"1\" class=\"dataframe\">\n",
       "  <thead>\n",
       "    <tr style=\"text-align: right;\">\n",
       "      <th></th>\n",
       "      <th>Passengers</th>\n",
       "      <th>Apr</th>\n",
       "      <th>Aug</th>\n",
       "      <th>Dec</th>\n",
       "      <th>Feb</th>\n",
       "      <th>Jan</th>\n",
       "      <th>Jul</th>\n",
       "      <th>Jun</th>\n",
       "      <th>Mar</th>\n",
       "      <th>May</th>\n",
       "      <th>Nov</th>\n",
       "      <th>Oct</th>\n",
       "      <th>Sep</th>\n",
       "      <th>t</th>\n",
       "      <th>t_sq</th>\n",
       "      <th>log_passengers</th>\n",
       "    </tr>\n",
       "  </thead>\n",
       "  <tbody>\n",
       "    <tr>\n",
       "      <th>count</th>\n",
       "      <td>96.000000</td>\n",
       "      <td>96.000000</td>\n",
       "      <td>96.000000</td>\n",
       "      <td>96.000000</td>\n",
       "      <td>96.000000</td>\n",
       "      <td>96.000000</td>\n",
       "      <td>96.000000</td>\n",
       "      <td>96.000000</td>\n",
       "      <td>96.000000</td>\n",
       "      <td>96.000000</td>\n",
       "      <td>96.000000</td>\n",
       "      <td>96.000000</td>\n",
       "      <td>96.000000</td>\n",
       "      <td>96.000000</td>\n",
       "      <td>96.000000</td>\n",
       "      <td>96.000000</td>\n",
       "    </tr>\n",
       "    <tr>\n",
       "      <th>mean</th>\n",
       "      <td>213.708333</td>\n",
       "      <td>0.083333</td>\n",
       "      <td>0.083333</td>\n",
       "      <td>0.083333</td>\n",
       "      <td>0.083333</td>\n",
       "      <td>0.083333</td>\n",
       "      <td>0.083333</td>\n",
       "      <td>0.083333</td>\n",
       "      <td>0.083333</td>\n",
       "      <td>0.083333</td>\n",
       "      <td>0.083333</td>\n",
       "      <td>0.083333</td>\n",
       "      <td>0.083333</td>\n",
       "      <td>48.500000</td>\n",
       "      <td>3120.166667</td>\n",
       "      <td>5.309322</td>\n",
       "    </tr>\n",
       "    <tr>\n",
       "      <th>std</th>\n",
       "      <td>71.918216</td>\n",
       "      <td>0.277836</td>\n",
       "      <td>0.277836</td>\n",
       "      <td>0.277836</td>\n",
       "      <td>0.277836</td>\n",
       "      <td>0.277836</td>\n",
       "      <td>0.277836</td>\n",
       "      <td>0.277836</td>\n",
       "      <td>0.277836</td>\n",
       "      <td>0.277836</td>\n",
       "      <td>0.277836</td>\n",
       "      <td>0.277836</td>\n",
       "      <td>0.277836</td>\n",
       "      <td>27.856777</td>\n",
       "      <td>2788.897895</td>\n",
       "      <td>0.335338</td>\n",
       "    </tr>\n",
       "    <tr>\n",
       "      <th>min</th>\n",
       "      <td>104.000000</td>\n",
       "      <td>0.000000</td>\n",
       "      <td>0.000000</td>\n",
       "      <td>0.000000</td>\n",
       "      <td>0.000000</td>\n",
       "      <td>0.000000</td>\n",
       "      <td>0.000000</td>\n",
       "      <td>0.000000</td>\n",
       "      <td>0.000000</td>\n",
       "      <td>0.000000</td>\n",
       "      <td>0.000000</td>\n",
       "      <td>0.000000</td>\n",
       "      <td>0.000000</td>\n",
       "      <td>1.000000</td>\n",
       "      <td>1.000000</td>\n",
       "      <td>4.644391</td>\n",
       "    </tr>\n",
       "    <tr>\n",
       "      <th>25%</th>\n",
       "      <td>156.000000</td>\n",
       "      <td>0.000000</td>\n",
       "      <td>0.000000</td>\n",
       "      <td>0.000000</td>\n",
       "      <td>0.000000</td>\n",
       "      <td>0.000000</td>\n",
       "      <td>0.000000</td>\n",
       "      <td>0.000000</td>\n",
       "      <td>0.000000</td>\n",
       "      <td>0.000000</td>\n",
       "      <td>0.000000</td>\n",
       "      <td>0.000000</td>\n",
       "      <td>0.000000</td>\n",
       "      <td>24.750000</td>\n",
       "      <td>612.750000</td>\n",
       "      <td>5.049605</td>\n",
       "    </tr>\n",
       "    <tr>\n",
       "      <th>50%</th>\n",
       "      <td>200.000000</td>\n",
       "      <td>0.000000</td>\n",
       "      <td>0.000000</td>\n",
       "      <td>0.000000</td>\n",
       "      <td>0.000000</td>\n",
       "      <td>0.000000</td>\n",
       "      <td>0.000000</td>\n",
       "      <td>0.000000</td>\n",
       "      <td>0.000000</td>\n",
       "      <td>0.000000</td>\n",
       "      <td>0.000000</td>\n",
       "      <td>0.000000</td>\n",
       "      <td>0.000000</td>\n",
       "      <td>48.500000</td>\n",
       "      <td>2352.500000</td>\n",
       "      <td>5.298305</td>\n",
       "    </tr>\n",
       "    <tr>\n",
       "      <th>75%</th>\n",
       "      <td>264.750000</td>\n",
       "      <td>0.000000</td>\n",
       "      <td>0.000000</td>\n",
       "      <td>0.000000</td>\n",
       "      <td>0.000000</td>\n",
       "      <td>0.000000</td>\n",
       "      <td>0.000000</td>\n",
       "      <td>0.000000</td>\n",
       "      <td>0.000000</td>\n",
       "      <td>0.000000</td>\n",
       "      <td>0.000000</td>\n",
       "      <td>0.000000</td>\n",
       "      <td>0.000000</td>\n",
       "      <td>72.250000</td>\n",
       "      <td>5220.250000</td>\n",
       "      <td>5.578774</td>\n",
       "    </tr>\n",
       "    <tr>\n",
       "      <th>max</th>\n",
       "      <td>413.000000</td>\n",
       "      <td>1.000000</td>\n",
       "      <td>1.000000</td>\n",
       "      <td>1.000000</td>\n",
       "      <td>1.000000</td>\n",
       "      <td>1.000000</td>\n",
       "      <td>1.000000</td>\n",
       "      <td>1.000000</td>\n",
       "      <td>1.000000</td>\n",
       "      <td>1.000000</td>\n",
       "      <td>1.000000</td>\n",
       "      <td>1.000000</td>\n",
       "      <td>1.000000</td>\n",
       "      <td>96.000000</td>\n",
       "      <td>9216.000000</td>\n",
       "      <td>6.023448</td>\n",
       "    </tr>\n",
       "  </tbody>\n",
       "</table>\n",
       "</div>"
      ],
      "text/plain": [
       "       Passengers        Apr        Aug        Dec        Feb        Jan  \\\n",
       "count   96.000000  96.000000  96.000000  96.000000  96.000000  96.000000   \n",
       "mean   213.708333   0.083333   0.083333   0.083333   0.083333   0.083333   \n",
       "std     71.918216   0.277836   0.277836   0.277836   0.277836   0.277836   \n",
       "min    104.000000   0.000000   0.000000   0.000000   0.000000   0.000000   \n",
       "25%    156.000000   0.000000   0.000000   0.000000   0.000000   0.000000   \n",
       "50%    200.000000   0.000000   0.000000   0.000000   0.000000   0.000000   \n",
       "75%    264.750000   0.000000   0.000000   0.000000   0.000000   0.000000   \n",
       "max    413.000000   1.000000   1.000000   1.000000   1.000000   1.000000   \n",
       "\n",
       "             Jul        Jun        Mar        May        Nov        Oct  \\\n",
       "count  96.000000  96.000000  96.000000  96.000000  96.000000  96.000000   \n",
       "mean    0.083333   0.083333   0.083333   0.083333   0.083333   0.083333   \n",
       "std     0.277836   0.277836   0.277836   0.277836   0.277836   0.277836   \n",
       "min     0.000000   0.000000   0.000000   0.000000   0.000000   0.000000   \n",
       "25%     0.000000   0.000000   0.000000   0.000000   0.000000   0.000000   \n",
       "50%     0.000000   0.000000   0.000000   0.000000   0.000000   0.000000   \n",
       "75%     0.000000   0.000000   0.000000   0.000000   0.000000   0.000000   \n",
       "max     1.000000   1.000000   1.000000   1.000000   1.000000   1.000000   \n",
       "\n",
       "             Sep          t         t_sq  log_passengers  \n",
       "count  96.000000  96.000000    96.000000       96.000000  \n",
       "mean    0.083333  48.500000  3120.166667        5.309322  \n",
       "std     0.277836  27.856777  2788.897895        0.335338  \n",
       "min     0.000000   1.000000     1.000000        4.644391  \n",
       "25%     0.000000  24.750000   612.750000        5.049605  \n",
       "50%     0.000000  48.500000  2352.500000        5.298305  \n",
       "75%     0.000000  72.250000  5220.250000        5.578774  \n",
       "max     1.000000  96.000000  9216.000000        6.023448  "
      ]
     },
     "execution_count": 48,
     "metadata": {},
     "output_type": "execute_result"
    }
   ],
   "source": [
    "Airlines.describe()"
   ]
  },
  {
   "cell_type": "code",
   "execution_count": 49,
   "id": "426d2602",
   "metadata": {
    "ExecuteTime": {
     "end_time": "2022-10-22T06:57:44.584983Z",
     "start_time": "2022-10-22T06:57:44.308269Z"
    }
   },
   "outputs": [
    {
     "data": {
      "text/plain": [
       "<AxesSubplot:>"
      ]
     },
     "execution_count": 49,
     "metadata": {},
     "output_type": "execute_result"
    },
    {
     "data": {
      "image/png": "[encoded data removed]",
      "text/plain": [
       "<Figure size 432x288 with 1 Axes>"
      ]
     },
     "metadata": {
      "needs_background": "light"
     },
     "output_type": "display_data"
    }
   ],
   "source": [
    "Airlines.plot()"
   ]
  },
  {
   "cell_type": "code",
   "execution_count": 50,
   "id": "2db77ab2",
   "metadata": {
    "ExecuteTime": {
     "end_time": "2022-10-22T06:57:44.600515Z",
     "start_time": "2022-10-22T06:57:44.585753Z"
    }
   },
   "outputs": [
    {
     "name": "stdout",
     "output_type": "stream",
     "text": [
      "<class 'pandas.core.frame.DataFrame'>\n",
      "RangeIndex: 96 entries, 0 to 95\n",
      "Data columns (total 18 columns):\n",
      " #   Column          Non-Null Count  Dtype  \n",
      "---  ------          --------------  -----  \n",
      " 0   Month           96 non-null     object \n",
      " 1   Passengers      96 non-null     int64  \n",
      " 2   months          96 non-null     object \n",
      " 3   Apr             96 non-null     uint8  \n",
      " 4   Aug             96 non-null     uint8  \n",
      " 5   Dec             96 non-null     uint8  \n",
      " 6   Feb             96 non-null     uint8  \n",
      " 7   Jan             96 non-null     uint8  \n",
      " 8   Jul             96 non-null     uint8  \n",
      " 9   Jun             96 non-null     uint8  \n",
      " 10  Mar             96 non-null     uint8  \n",
      " 11  May             96 non-null     uint8  \n",
      " 12  Nov             96 non-null     uint8  \n",
      " 13  Oct             96 non-null     uint8  \n",
      " 14  Sep             96 non-null     uint8  \n",
      " 15  t               96 non-null     int32  \n",
      " 16  t_sq            96 non-null     int32  \n",
      " 17  log_passengers  96 non-null     float64\n",
      "dtypes: float64(1), int32(2), int64(1), object(2), uint8(12)\n",
      "memory usage: 5.0+ KB\n"
     ]
    }
   ],
   "source": [
    "Airlines.info()"
   ]
  },
  {
   "cell_type": "code",
   "execution_count": 51,
   "id": "c3666ea4",
   "metadata": {
    "ExecuteTime": {
     "end_time": "2022-10-22T06:57:44.616173Z",
     "start_time": "2022-10-22T06:57:44.603557Z"
    }
   },
   "outputs": [
    {
     "data": {
      "text/plain": [
       "Jan    8\n",
       "Feb    8\n",
       "Mar    8\n",
       "Apr    8\n",
       "May    8\n",
       "Jun    8\n",
       "Jul    8\n",
       "Aug    8\n",
       "Sep    8\n",
       "Oct    8\n",
       "Nov    8\n",
       "Dec    8\n",
       "Name: months, dtype: int64"
      ]
     },
     "execution_count": 51,
     "metadata": {},
     "output_type": "execute_result"
    }
   ],
   "source": [
    "Airlines.months.value_counts()"
   ]
  },
  {
   "cell_type": "code",
   "execution_count": 52,
   "id": "ff2fa14c",
   "metadata": {
    "ExecuteTime": {
     "end_time": "2022-10-22T06:57:44.787942Z",
     "start_time": "2022-10-22T06:57:44.617354Z"
    }
   },
   "outputs": [
    {
     "data": {
      "text/plain": [
       "<AxesSubplot:xlabel='months', ylabel='count'>"
      ]
     },
     "execution_count": 52,
     "metadata": {},
     "output_type": "execute_result"
    },
    {
     "data": {
      "image/png": "[encoded data removed]",
      "text/plain": [
       "<Figure size 432x288 with 1 Axes>"
      ]
     },
     "metadata": {
      "needs_background": "light"
     },
     "output_type": "display_data"
    }
   ],
   "source": [
    "sns.countplot(x=\"months\",data=Airlines)"
   ]
  },
  {
   "cell_type": "code",
   "execution_count": 53,
   "id": "ddd455c1",
   "metadata": {
    "ExecuteTime": {
     "end_time": "2022-10-22T06:57:45.115306Z",
     "start_time": "2022-10-22T06:57:44.790001Z"
    }
   },
   "outputs": [
    {
     "data": {
      "text/plain": [
       "<AxesSubplot:xlabel='months', ylabel='Passengers'>"
      ]
     },
     "execution_count": 53,
     "metadata": {},
     "output_type": "execute_result"
    },
    {
     "data": {
      "image/png": "[encoded data removed]",
      "text/plain": [
       "<Figure size 576x432 with 1 Axes>"
      ]
     },
     "metadata": {
      "needs_background": "light"
     },
     "output_type": "display_data"
    }
   ],
   "source": [
    "# Boxplot for ever\n",
    "plt.figure(figsize=(8,6))\n",
    "plt.subplot(211)\n",
    "sns.boxplot(x=\"months\",y=\"Passengers\",data=Airlines)"
   ]
  },
  {
   "cell_type": "code",
   "execution_count": 54,
   "id": "e3a4a286",
   "metadata": {
    "ExecuteTime": {
     "end_time": "2022-10-22T06:57:45.618064Z",
     "start_time": "2022-10-22T06:57:45.117148Z"
    }
   },
   "outputs": [
    {
     "data": {
      "text/plain": [
       "<AxesSubplot:xlabel='months', ylabel='Passengers'>"
      ]
     },
     "execution_count": 54,
     "metadata": {},
     "output_type": "execute_result"
    },
    {
     "data": {
      "image/png": "[encoded data removed]",
      "text/plain": [
       "<Figure size 864x216 with 1 Axes>"
      ]
     },
     "metadata": {
      "needs_background": "light"
     },
     "output_type": "display_data"
    }
   ],
   "source": [
    "plt.figure(figsize=(12,3))\n",
    "sns.lineplot(x=\"months\",y=\"Passengers\",data=Airlines) "
   ]
  },
  {
   "cell_type": "code",
   "execution_count": 55,
   "id": "6cbad74b",
   "metadata": {
    "ExecuteTime": {
     "end_time": "2022-10-22T06:57:45.633018Z",
     "start_time": "2022-10-22T06:57:45.619079Z"
    }
   },
   "outputs": [
    {
     "data": {
      "text/plain": [
       "Index(['Month', 'Passengers', 'months', 'Apr', 'Aug', 'Dec', 'Feb', 'Jan',\n",
       "       'Jul', 'Jun', 'Mar', 'May', 'Nov', 'Oct', 'Sep', 't', 't_sq',\n",
       "       'log_passengers'],\n",
       "      dtype='object')"
      ]
     },
     "execution_count": 55,
     "metadata": {},
     "output_type": "execute_result"
    }
   ],
   "source": [
    "Airlines.columns"
   ]
  },
  {
   "cell_type": "code",
   "execution_count": 56,
   "id": "0ce6af8b",
   "metadata": {
    "ExecuteTime": {
     "end_time": "2022-10-22T06:57:45.664554Z",
     "start_time": "2022-10-22T06:57:45.634180Z"
    }
   },
   "outputs": [
    {
     "data": {
      "text/html": [
       "<div>\n",
       "<style scoped>\n",
       "    .dataframe tbody tr th:only-of-type {\n",
       "        vertical-align: middle;\n",
       "    }\n",
       "\n",
       "    .dataframe tbody tr th {\n",
       "        vertical-align: top;\n",
       "    }\n",
       "\n",
       "    .dataframe thead th {\n",
       "        text-align: right;\n",
       "    }\n",
       "</style>\n",
       "<table border=\"1\" class=\"dataframe\">\n",
       "  <thead>\n",
       "    <tr style=\"text-align: right;\">\n",
       "      <th></th>\n",
       "      <th>Passengers</th>\n",
       "      <th>Apr</th>\n",
       "      <th>Aug</th>\n",
       "      <th>Dec</th>\n",
       "      <th>Feb</th>\n",
       "      <th>Jan</th>\n",
       "      <th>Jul</th>\n",
       "      <th>Jun</th>\n",
       "      <th>Mar</th>\n",
       "      <th>May</th>\n",
       "      <th>Nov</th>\n",
       "      <th>Oct</th>\n",
       "      <th>Sep</th>\n",
       "      <th>t</th>\n",
       "      <th>t_sq</th>\n",
       "      <th>log_passengers</th>\n",
       "    </tr>\n",
       "  </thead>\n",
       "  <tbody>\n",
       "    <tr>\n",
       "      <th>Passengers</th>\n",
       "      <td>1.000000</td>\n",
       "      <td>-0.030379</td>\n",
       "      <td>0.192986</td>\n",
       "      <td>-0.040915</td>\n",
       "      <td>-0.127311</td>\n",
       "      <td>-0.126784</td>\n",
       "      <td>0.200361</td>\n",
       "      <td>0.087625</td>\n",
       "      <td>-0.005619</td>\n",
       "      <td>-0.030379</td>\n",
       "      <td>-0.148910</td>\n",
       "      <td>-0.044603</td>\n",
       "      <td>0.073928</td>\n",
       "      <td>0.904327</td>\n",
       "      <td>0.902284</td>\n",
       "      <td>0.983507</td>\n",
       "    </tr>\n",
       "    <tr>\n",
       "      <th>Apr</th>\n",
       "      <td>-0.030379</td>\n",
       "      <td>1.000000</td>\n",
       "      <td>-0.090909</td>\n",
       "      <td>-0.090909</td>\n",
       "      <td>-0.090909</td>\n",
       "      <td>-0.090909</td>\n",
       "      <td>-0.090909</td>\n",
       "      <td>-0.090909</td>\n",
       "      <td>-0.090909</td>\n",
       "      <td>-0.090909</td>\n",
       "      <td>-0.090909</td>\n",
       "      <td>-0.090909</td>\n",
       "      <td>-0.090909</td>\n",
       "      <td>-0.027201</td>\n",
       "      <td>-0.026970</td>\n",
       "      <td>-0.021669</td>\n",
       "    </tr>\n",
       "    <tr>\n",
       "      <th>Aug</th>\n",
       "      <td>0.192986</td>\n",
       "      <td>-0.090909</td>\n",
       "      <td>1.000000</td>\n",
       "      <td>-0.090909</td>\n",
       "      <td>-0.090909</td>\n",
       "      <td>-0.090909</td>\n",
       "      <td>-0.090909</td>\n",
       "      <td>-0.090909</td>\n",
       "      <td>-0.090909</td>\n",
       "      <td>-0.090909</td>\n",
       "      <td>-0.090909</td>\n",
       "      <td>-0.090909</td>\n",
       "      <td>-0.090909</td>\n",
       "      <td>0.016321</td>\n",
       "      <td>0.014762</td>\n",
       "      <td>0.178494</td>\n",
       "    </tr>\n",
       "    <tr>\n",
       "      <th>Dec</th>\n",
       "      <td>-0.040915</td>\n",
       "      <td>-0.090909</td>\n",
       "      <td>-0.090909</td>\n",
       "      <td>1.000000</td>\n",
       "      <td>-0.090909</td>\n",
       "      <td>-0.090909</td>\n",
       "      <td>-0.090909</td>\n",
       "      <td>-0.090909</td>\n",
       "      <td>-0.090909</td>\n",
       "      <td>-0.090909</td>\n",
       "      <td>-0.090909</td>\n",
       "      <td>-0.090909</td>\n",
       "      <td>-0.090909</td>\n",
       "      <td>0.059842</td>\n",
       "      <td>0.059973</td>\n",
       "      <td>-0.033235</td>\n",
       "    </tr>\n",
       "    <tr>\n",
       "      <th>Feb</th>\n",
       "      <td>-0.127311</td>\n",
       "      <td>-0.090909</td>\n",
       "      <td>-0.090909</td>\n",
       "      <td>-0.090909</td>\n",
       "      <td>1.000000</td>\n",
       "      <td>-0.090909</td>\n",
       "      <td>-0.090909</td>\n",
       "      <td>-0.090909</td>\n",
       "      <td>-0.090909</td>\n",
       "      <td>-0.090909</td>\n",
       "      <td>-0.090909</td>\n",
       "      <td>-0.090909</td>\n",
       "      <td>-0.090909</td>\n",
       "      <td>-0.048962</td>\n",
       "      <td>-0.046533</td>\n",
       "      <td>-0.121387</td>\n",
       "    </tr>\n",
       "    <tr>\n",
       "      <th>Jan</th>\n",
       "      <td>-0.126784</td>\n",
       "      <td>-0.090909</td>\n",
       "      <td>-0.090909</td>\n",
       "      <td>-0.090909</td>\n",
       "      <td>-0.090909</td>\n",
       "      <td>1.000000</td>\n",
       "      <td>-0.090909</td>\n",
       "      <td>-0.090909</td>\n",
       "      <td>-0.090909</td>\n",
       "      <td>-0.090909</td>\n",
       "      <td>-0.090909</td>\n",
       "      <td>-0.090909</td>\n",
       "      <td>-0.090909</td>\n",
       "      <td>-0.059842</td>\n",
       "      <td>-0.055988</td>\n",
       "      <td>-0.130899</td>\n",
       "    </tr>\n",
       "    <tr>\n",
       "      <th>Jul</th>\n",
       "      <td>0.200361</td>\n",
       "      <td>-0.090909</td>\n",
       "      <td>-0.090909</td>\n",
       "      <td>-0.090909</td>\n",
       "      <td>-0.090909</td>\n",
       "      <td>-0.090909</td>\n",
       "      <td>1.000000</td>\n",
       "      <td>-0.090909</td>\n",
       "      <td>-0.090909</td>\n",
       "      <td>-0.090909</td>\n",
       "      <td>-0.090909</td>\n",
       "      <td>-0.090909</td>\n",
       "      <td>-0.090909</td>\n",
       "      <td>0.005440</td>\n",
       "      <td>0.004003</td>\n",
       "      <td>0.180407</td>\n",
       "    </tr>\n",
       "    <tr>\n",
       "      <th>Jun</th>\n",
       "      <td>0.087625</td>\n",
       "      <td>-0.090909</td>\n",
       "      <td>-0.090909</td>\n",
       "      <td>-0.090909</td>\n",
       "      <td>-0.090909</td>\n",
       "      <td>-0.090909</td>\n",
       "      <td>-0.090909</td>\n",
       "      <td>1.000000</td>\n",
       "      <td>-0.090909</td>\n",
       "      <td>-0.090909</td>\n",
       "      <td>-0.090909</td>\n",
       "      <td>-0.090909</td>\n",
       "      <td>-0.090909</td>\n",
       "      <td>-0.005440</td>\n",
       "      <td>-0.006539</td>\n",
       "      <td>0.084370</td>\n",
       "    </tr>\n",
       "    <tr>\n",
       "      <th>Mar</th>\n",
       "      <td>-0.005619</td>\n",
       "      <td>-0.090909</td>\n",
       "      <td>-0.090909</td>\n",
       "      <td>-0.090909</td>\n",
       "      <td>-0.090909</td>\n",
       "      <td>-0.090909</td>\n",
       "      <td>-0.090909</td>\n",
       "      <td>-0.090909</td>\n",
       "      <td>1.000000</td>\n",
       "      <td>-0.090909</td>\n",
       "      <td>-0.090909</td>\n",
       "      <td>-0.090909</td>\n",
       "      <td>-0.090909</td>\n",
       "      <td>-0.038082</td>\n",
       "      <td>-0.036860</td>\n",
       "      <td>0.008025</td>\n",
       "    </tr>\n",
       "    <tr>\n",
       "      <th>May</th>\n",
       "      <td>-0.030379</td>\n",
       "      <td>-0.090909</td>\n",
       "      <td>-0.090909</td>\n",
       "      <td>-0.090909</td>\n",
       "      <td>-0.090909</td>\n",
       "      <td>-0.090909</td>\n",
       "      <td>-0.090909</td>\n",
       "      <td>-0.090909</td>\n",
       "      <td>-0.090909</td>\n",
       "      <td>1.000000</td>\n",
       "      <td>-0.090909</td>\n",
       "      <td>-0.090909</td>\n",
       "      <td>-0.090909</td>\n",
       "      <td>-0.016321</td>\n",
       "      <td>-0.016863</td>\n",
       "      <td>-0.027564</td>\n",
       "    </tr>\n",
       "    <tr>\n",
       "      <th>Nov</th>\n",
       "      <td>-0.148910</td>\n",
       "      <td>-0.090909</td>\n",
       "      <td>-0.090909</td>\n",
       "      <td>-0.090909</td>\n",
       "      <td>-0.090909</td>\n",
       "      <td>-0.090909</td>\n",
       "      <td>-0.090909</td>\n",
       "      <td>-0.090909</td>\n",
       "      <td>-0.090909</td>\n",
       "      <td>-0.090909</td>\n",
       "      <td>1.000000</td>\n",
       "      <td>-0.090909</td>\n",
       "      <td>-0.090909</td>\n",
       "      <td>0.048962</td>\n",
       "      <td>0.048344</td>\n",
       "      <td>-0.156652</td>\n",
       "    </tr>\n",
       "    <tr>\n",
       "      <th>Oct</th>\n",
       "      <td>-0.044603</td>\n",
       "      <td>-0.090909</td>\n",
       "      <td>-0.090909</td>\n",
       "      <td>-0.090909</td>\n",
       "      <td>-0.090909</td>\n",
       "      <td>-0.090909</td>\n",
       "      <td>-0.090909</td>\n",
       "      <td>-0.090909</td>\n",
       "      <td>-0.090909</td>\n",
       "      <td>-0.090909</td>\n",
       "      <td>-0.090909</td>\n",
       "      <td>1.000000</td>\n",
       "      <td>-0.090909</td>\n",
       "      <td>0.038082</td>\n",
       "      <td>0.036933</td>\n",
       "      <td>-0.038745</td>\n",
       "    </tr>\n",
       "    <tr>\n",
       "      <th>Sep</th>\n",
       "      <td>0.073928</td>\n",
       "      <td>-0.090909</td>\n",
       "      <td>-0.090909</td>\n",
       "      <td>-0.090909</td>\n",
       "      <td>-0.090909</td>\n",
       "      <td>-0.090909</td>\n",
       "      <td>-0.090909</td>\n",
       "      <td>-0.090909</td>\n",
       "      <td>-0.090909</td>\n",
       "      <td>-0.090909</td>\n",
       "      <td>-0.090909</td>\n",
       "      <td>-0.090909</td>\n",
       "      <td>1.000000</td>\n",
       "      <td>0.027201</td>\n",
       "      <td>0.025739</td>\n",
       "      <td>0.078855</td>\n",
       "    </tr>\n",
       "    <tr>\n",
       "      <th>t</th>\n",
       "      <td>0.904327</td>\n",
       "      <td>-0.027201</td>\n",
       "      <td>0.016321</td>\n",
       "      <td>0.059842</td>\n",
       "      <td>-0.048962</td>\n",
       "      <td>-0.059842</td>\n",
       "      <td>0.005440</td>\n",
       "      <td>-0.005440</td>\n",
       "      <td>-0.038082</td>\n",
       "      <td>-0.016321</td>\n",
       "      <td>0.048962</td>\n",
       "      <td>0.038082</td>\n",
       "      <td>0.027201</td>\n",
       "      <td>1.000000</td>\n",
       "      <td>0.968880</td>\n",
       "      <td>0.926372</td>\n",
       "    </tr>\n",
       "    <tr>\n",
       "      <th>t_sq</th>\n",
       "      <td>0.902284</td>\n",
       "      <td>-0.026970</td>\n",
       "      <td>0.014762</td>\n",
       "      <td>0.059973</td>\n",
       "      <td>-0.046533</td>\n",
       "      <td>-0.055988</td>\n",
       "      <td>0.004003</td>\n",
       "      <td>-0.006539</td>\n",
       "      <td>-0.036860</td>\n",
       "      <td>-0.016863</td>\n",
       "      <td>0.048344</td>\n",
       "      <td>0.036933</td>\n",
       "      <td>0.025739</td>\n",
       "      <td>0.968880</td>\n",
       "      <td>1.000000</td>\n",
       "      <td>0.891899</td>\n",
       "    </tr>\n",
       "    <tr>\n",
       "      <th>log_passengers</th>\n",
       "      <td>0.983507</td>\n",
       "      <td>-0.021669</td>\n",
       "      <td>0.178494</td>\n",
       "      <td>-0.033235</td>\n",
       "      <td>-0.121387</td>\n",
       "      <td>-0.130899</td>\n",
       "      <td>0.180407</td>\n",
       "      <td>0.084370</td>\n",
       "      <td>0.008025</td>\n",
       "      <td>-0.027564</td>\n",
       "      <td>-0.156652</td>\n",
       "      <td>-0.038745</td>\n",
       "      <td>0.078855</td>\n",
       "      <td>0.926372</td>\n",
       "      <td>0.891899</td>\n",
       "      <td>1.000000</td>\n",
       "    </tr>\n",
       "  </tbody>\n",
       "</table>\n",
       "</div>"
      ],
      "text/plain": [
       "                Passengers       Apr       Aug       Dec       Feb       Jan  \\\n",
       "Passengers        1.000000 -0.030379  0.192986 -0.040915 -0.127311 -0.126784   \n",
       "Apr              -0.030379  1.000000 -0.090909 -0.090909 -0.090909 -0.090909   \n",
       "Aug               0.192986 -0.090909  1.000000 -0.090909 -0.090909 -0.090909   \n",
       "Dec              -0.040915 -0.090909 -0.090909  1.000000 -0.090909 -0.090909   \n",
       "Feb              -0.127311 -0.090909 -0.090909 -0.090909  1.000000 -0.090909   \n",
       "Jan              -0.126784 -0.090909 -0.090909 -0.090909 -0.090909  1.000000   \n",
       "Jul               0.200361 -0.090909 -0.090909 -0.090909 -0.090909 -0.090909   \n",
       "Jun               0.087625 -0.090909 -0.090909 -0.090909 -0.090909 -0.090909   \n",
       "Mar              -0.005619 -0.090909 -0.090909 -0.090909 -0.090909 -0.090909   \n",
       "May              -0.030379 -0.090909 -0.090909 -0.090909 -0.090909 -0.090909   \n",
       "Nov              -0.148910 -0.090909 -0.090909 -0.090909 -0.090909 -0.090909   \n",
       "Oct              -0.044603 -0.090909 -0.090909 -0.090909 -0.090909 -0.090909   \n",
       "Sep               0.073928 -0.090909 -0.090909 -0.090909 -0.090909 -0.090909   \n",
       "t                 0.904327 -0.027201  0.016321  0.059842 -0.048962 -0.059842   \n",
       "t_sq              0.902284 -0.026970  0.014762  0.059973 -0.046533 -0.055988   \n",
       "log_passengers    0.983507 -0.021669  0.178494 -0.033235 -0.121387 -0.130899   \n",
       "\n",
       "                     Jul       Jun       Mar       May       Nov       Oct  \\\n",
       "Passengers      0.200361  0.087625 -0.005619 -0.030379 -0.148910 -0.044603   \n",
       "Apr            -0.090909 -0.090909 -0.090909 -0.090909 -0.090909 -0.090909   \n",
       "Aug            -0.090909 -0.090909 -0.090909 -0.090909 -0.090909 -0.090909   \n",
       "Dec            -0.090909 -0.090909 -0.090909 -0.090909 -0.090909 -0.090909   \n",
       "Feb            -0.090909 -0.090909 -0.090909 -0.090909 -0.090909 -0.090909   \n",
       "Jan            -0.090909 -0.090909 -0.090909 -0.090909 -0.090909 -0.090909   \n",
       "Jul             1.000000 -0.090909 -0.090909 -0.090909 -0.090909 -0.090909   \n",
       "Jun            -0.090909  1.000000 -0.090909 -0.090909 -0.090909 -0.090909   \n",
       "Mar            -0.090909 -0.090909  1.000000 -0.090909 -0.090909 -0.090909   \n",
       "May            -0.090909 -0.090909 -0.090909  1.000000 -0.090909 -0.090909   \n",
       "Nov            -0.090909 -0.090909 -0.090909 -0.090909  1.000000 -0.090909   \n",
       "Oct            -0.090909 -0.090909 -0.090909 -0.090909 -0.090909  1.000000   \n",
       "Sep            -0.090909 -0.090909 -0.090909 -0.090909 -0.090909 -0.090909   \n",
       "t               0.005440 -0.005440 -0.038082 -0.016321  0.048962  0.038082   \n",
       "t_sq            0.004003 -0.006539 -0.036860 -0.016863  0.048344  0.036933   \n",
       "log_passengers  0.180407  0.084370  0.008025 -0.027564 -0.156652 -0.038745   \n",
       "\n",
       "                     Sep         t      t_sq  log_passengers  \n",
       "Passengers      0.073928  0.904327  0.902284        0.983507  \n",
       "Apr            -0.090909 -0.027201 -0.026970       -0.021669  \n",
       "Aug            -0.090909  0.016321  0.014762        0.178494  \n",
       "Dec            -0.090909  0.059842  0.059973       -0.033235  \n",
       "Feb            -0.090909 -0.048962 -0.046533       -0.121387  \n",
       "Jan            -0.090909 -0.059842 -0.055988       -0.130899  \n",
       "Jul            -0.090909  0.005440  0.004003        0.180407  \n",
       "Jun            -0.090909 -0.005440 -0.006539        0.084370  \n",
       "Mar            -0.090909 -0.038082 -0.036860        0.008025  \n",
       "May            -0.090909 -0.016321 -0.016863       -0.027564  \n",
       "Nov            -0.090909  0.048962  0.048344       -0.156652  \n",
       "Oct            -0.090909  0.038082  0.036933       -0.038745  \n",
       "Sep             1.000000  0.027201  0.025739        0.078855  \n",
       "t               0.027201  1.000000  0.968880        0.926372  \n",
       "t_sq            0.025739  0.968880  1.000000        0.891899  \n",
       "log_passengers  0.078855  0.926372  0.891899        1.000000  "
      ]
     },
     "execution_count": 56,
     "metadata": {},
     "output_type": "execute_result"
    }
   ],
   "source": [
    "Airlines.corr()"
   ]
  },
  {
   "cell_type": "code",
   "execution_count": 57,
   "id": "bf44cef6",
   "metadata": {
    "ExecuteTime": {
     "end_time": "2022-10-22T06:57:47.120400Z",
     "start_time": "2022-10-22T06:57:45.665932Z"
    }
   },
   "outputs": [
    {
     "data": {
      "text/plain": [
       "<AxesSubplot:>"
      ]
     },
     "execution_count": 57,
     "metadata": {},
     "output_type": "execute_result"
    },
    {
     "data": {
      "image/png": "[encoded data removed]",
      "text/plain": [
       "<Figure size 1296x576 with 2 Axes>"
      ]
     },
     "metadata": {
      "needs_background": "light"
     },
     "output_type": "display_data"
    }
   ],
   "source": [
    "fig=plt.figure(figsize=(18,8))\n",
    "sns.heatmap(Airlines.corr(),annot=True,fmt=\"g\") #fmt is format of the grid values"
   ]
  },
  {
   "cell_type": "markdown",
   "id": "1b38db71",
   "metadata": {},
   "source": [
    "# Model Building"
   ]
  },
  {
   "cell_type": "code",
   "execution_count": 58,
   "id": "133f6a86",
   "metadata": {
    "ExecuteTime": {
     "end_time": "2022-10-22T06:57:47.136034Z",
     "start_time": "2022-10-22T06:57:47.122890Z"
    }
   },
   "outputs": [],
   "source": [
    "Train = Airlines.head(80)\n",
    "Test = Airlines.tail(16)  "
   ]
  },
  {
   "cell_type": "code",
   "execution_count": 59,
   "id": "05f368a1",
   "metadata": {
    "ExecuteTime": {
     "end_time": "2022-10-22T06:57:47.167260Z",
     "start_time": "2022-10-22T06:57:47.137604Z"
    }
   },
   "outputs": [
    {
     "data": {
      "text/plain": [
       "47.542624067726734"
      ]
     },
     "execution_count": 59,
     "metadata": {},
     "output_type": "execute_result"
    }
   ],
   "source": [
    "#Linear Model\n",
    "import statsmodels.formula.api as smf \n",
    "\n",
    "linear_model = smf.ols('Passengers~t',data=Train).fit()\n",
    "pred_linear =  pd.Series(linear_model.predict(pd.DataFrame(Test['t'])))\n",
    "rmse_linear = np.sqrt(np.mean((np.array(Test['Passengers'])-np.array(pred_linear))**2)) \n",
    "rmse_linear"
   ]
  },
  {
   "cell_type": "code",
   "execution_count": 60,
   "id": "239ff6f8",
   "metadata": {
    "ExecuteTime": {
     "end_time": "2022-10-22T06:57:47.198497Z",
     "start_time": "2022-10-22T06:57:47.170092Z"
    }
   },
   "outputs": [
    {
     "data": {
      "text/plain": [
       "43.79373939334317"
      ]
     },
     "execution_count": 60,
     "metadata": {},
     "output_type": "execute_result"
    }
   ],
   "source": [
    "#Exponential\n",
    "\n",
    "Exp = smf.ols('log_passengers~t',data=Train).fit()\n",
    "pred_Exp = pd.Series(Exp.predict(pd.DataFrame(Test['t'])))\n",
    "rmse_Exp = np.sqrt(np.mean((np.array(Test['Passengers'])-np.array(np.exp(pred_Exp)))**2))\n",
    "rmse_Exp "
   ]
  },
  {
   "cell_type": "code",
   "execution_count": 61,
   "id": "5ce54041",
   "metadata": {
    "ExecuteTime": {
     "end_time": "2022-10-22T06:57:47.229191Z",
     "start_time": "2022-10-22T06:57:47.200722Z"
    }
   },
   "outputs": [
    {
     "data": {
      "text/plain": [
       "43.65440369584248"
      ]
     },
     "execution_count": 61,
     "metadata": {},
     "output_type": "execute_result"
    }
   ],
   "source": [
    "#Quadratic \n",
    "\n",
    "Quad = smf.ols('Passengers~t+t_sq',data=Train).fit()\n",
    "pred_Quad = pd.Series(Quad.predict(Test[[\"t\",\"t_sq\"]]))\n",
    "rmse_Quad = np.sqrt(np.mean((np.array(Test['Passengers'])-np.array(pred_Quad))**2))\n",
    "rmse_Quad"
   ]
  },
  {
   "cell_type": "code",
   "execution_count": 62,
   "id": "39b88263",
   "metadata": {
    "ExecuteTime": {
     "end_time": "2022-10-22T06:57:47.276377Z",
     "start_time": "2022-10-22T06:57:47.231512Z"
    }
   },
   "outputs": [
    {
     "data": {
      "text/plain": [
       "129.266476414433"
      ]
     },
     "execution_count": 62,
     "metadata": {},
     "output_type": "execute_result"
    }
   ],
   "source": [
    "#Additive seasonality \n",
    "\n",
    "add_sea = smf.ols('Passengers~Jan+Feb+Mar+Apr+May+Jun+Jul+Aug+Sep+Oct+Nov+Dec',data=Train).fit()\n",
    "pred_add_sea = pd.Series(add_sea.predict(Test[['Jan','Feb','Mar','Apr','May','Jun','Jul','Aug','Sep','Oct','Nov','Dec']]))\n",
    "rmse_add_sea = np.sqrt(np.mean((np.array(Test['Passengers'])-np.array(pred_add_sea))**2))\n",
    "rmse_add_sea "
   ]
  },
  {
   "cell_type": "code",
   "execution_count": 63,
   "id": "700de841",
   "metadata": {
    "ExecuteTime": {
     "end_time": "2022-10-22T06:57:47.339134Z",
     "start_time": "2022-10-22T06:57:47.278142Z"
    }
   },
   "outputs": [
    {
     "data": {
      "text/plain": [
       "23.910983570108197"
      ]
     },
     "execution_count": 63,
     "metadata": {},
     "output_type": "execute_result"
    }
   ],
   "source": [
    "#Additive Seasonality Quadratic \n",
    "\n",
    "add_sea_Quad = smf.ols('Passengers~t+t_sq+Jan+Feb+Mar+Apr+May+Jun+Jul+Aug+Sep+Oct+Nov+Dec',data=Train).fit()\n",
    "pred_add_sea_quad = pd.Series(add_sea_Quad.predict(Test[['Jan','Feb','Mar','Apr','May','Jun','Jul','Aug','Sep','Oct','Nov','Dec','t','t_sq']]))\n",
    "rmse_add_sea_quad = np.sqrt(np.mean((np.array(Test['Passengers'])-np.array(pred_add_sea_quad))**2))\n",
    "rmse_add_sea_quad "
   ]
  },
  {
   "cell_type": "code",
   "execution_count": 64,
   "id": "d99c8e82",
   "metadata": {
    "ExecuteTime": {
     "end_time": "2022-10-22T06:57:47.385071Z",
     "start_time": "2022-10-22T06:57:47.341019Z"
    }
   },
   "outputs": [
    {
     "data": {
      "text/plain": [
       "135.32648414621053"
      ]
     },
     "execution_count": 64,
     "metadata": {},
     "output_type": "execute_result"
    }
   ],
   "source": [
    "##Multiplicative Seasonality\n",
    "\n",
    "Mul_sea = smf.ols('log_passengers~Jan+Feb+Mar+Apr+May+Jun+Jul+Aug+Sep+Oct+Nov+Dec',data = Train).fit()\n",
    "pred_Mult_sea = pd.Series(Mul_sea.predict(Test))\n",
    "rmse_Mult_sea = np.sqrt(np.mean((np.array(Test['Passengers'])-np.array(np.exp(pred_Mult_sea)))**2))\n",
    "rmse_Mult_sea "
   ]
  },
  {
   "cell_type": "code",
   "execution_count": 65,
   "id": "c15f86a7",
   "metadata": {
    "ExecuteTime": {
     "end_time": "2022-10-22T06:57:47.432035Z",
     "start_time": "2022-10-22T06:57:47.386899Z"
    }
   },
   "outputs": [
    {
     "data": {
      "text/plain": [
       "9.469000230375698"
      ]
     },
     "execution_count": 65,
     "metadata": {},
     "output_type": "execute_result"
    }
   ],
   "source": [
    "#Multiplicative Additive Seasonality \n",
    "\n",
    "Mul_Add_sea = smf.ols('log_passengers~t+Jan+Feb+Mar+Apr+May+Jun+Jul+Aug+Sep+Oct+Nov+Dec',data = Train).fit()\n",
    "pred_Mult_add_sea = pd.Series(Mul_Add_sea.predict(Test))\n",
    "rmse_Mult_add_sea = np.sqrt(np.mean((np.array(Test['Passengers'])-np.array(np.exp(pred_Mult_add_sea)))**2))\n",
    "rmse_Mult_add_sea"
   ]
  },
  {
   "cell_type": "code",
   "execution_count": 66,
   "id": "69ef14dd",
   "metadata": {
    "ExecuteTime": {
     "end_time": "2022-10-22T06:57:47.448098Z",
     "start_time": "2022-10-22T06:57:47.434052Z"
    }
   },
   "outputs": [
    {
     "data": {
      "text/html": [
       "<div>\n",
       "<style scoped>\n",
       "    .dataframe tbody tr th:only-of-type {\n",
       "        vertical-align: middle;\n",
       "    }\n",
       "\n",
       "    .dataframe tbody tr th {\n",
       "        vertical-align: top;\n",
       "    }\n",
       "\n",
       "    .dataframe thead th {\n",
       "        text-align: right;\n",
       "    }\n",
       "</style>\n",
       "<table border=\"1\" class=\"dataframe\">\n",
       "  <thead>\n",
       "    <tr style=\"text-align: right;\">\n",
       "      <th></th>\n",
       "      <th>MODEL</th>\n",
       "      <th>RMSE_Values</th>\n",
       "    </tr>\n",
       "  </thead>\n",
       "  <tbody>\n",
       "    <tr>\n",
       "      <th>6</th>\n",
       "      <td>rmse_Mult_add_sea</td>\n",
       "      <td>9.469000</td>\n",
       "    </tr>\n",
       "    <tr>\n",
       "      <th>4</th>\n",
       "      <td>rmse_add_sea_quad</td>\n",
       "      <td>23.910984</td>\n",
       "    </tr>\n",
       "    <tr>\n",
       "      <th>2</th>\n",
       "      <td>rmse_Quad</td>\n",
       "      <td>43.654404</td>\n",
       "    </tr>\n",
       "    <tr>\n",
       "      <th>1</th>\n",
       "      <td>rmse_Exp</td>\n",
       "      <td>43.793739</td>\n",
       "    </tr>\n",
       "    <tr>\n",
       "      <th>0</th>\n",
       "      <td>rmse_linear</td>\n",
       "      <td>47.542624</td>\n",
       "    </tr>\n",
       "    <tr>\n",
       "      <th>3</th>\n",
       "      <td>rmse_add_sea</td>\n",
       "      <td>129.266476</td>\n",
       "    </tr>\n",
       "    <tr>\n",
       "      <th>5</th>\n",
       "      <td>rmse_Mult_sea</td>\n",
       "      <td>135.326484</td>\n",
       "    </tr>\n",
       "  </tbody>\n",
       "</table>\n",
       "</div>"
      ],
      "text/plain": [
       "               MODEL  RMSE_Values\n",
       "6  rmse_Mult_add_sea     9.469000\n",
       "4  rmse_add_sea_quad    23.910984\n",
       "2          rmse_Quad    43.654404\n",
       "1           rmse_Exp    43.793739\n",
       "0        rmse_linear    47.542624\n",
       "3       rmse_add_sea   129.266476\n",
       "5      rmse_Mult_sea   135.326484"
      ]
     },
     "execution_count": 66,
     "metadata": {},
     "output_type": "execute_result"
    }
   ],
   "source": [
    "#Compare the results \n",
    "\n",
    "data = {\"MODEL\":pd.Series([\"rmse_linear\",\"rmse_Exp\",\"rmse_Quad\",\"rmse_add_sea\",\"rmse_add_sea_quad\",\"rmse_Mult_sea\",\"rmse_Mult_add_sea\"]),\"RMSE_Values\":pd.Series([rmse_linear,rmse_Exp,rmse_Quad,rmse_add_sea,rmse_add_sea_quad,rmse_Mult_sea,rmse_Mult_add_sea])}\n",
    "table_rmse=pd.DataFrame(data)\n",
    "table_rmse.sort_values(['RMSE_Values'])"
   ]
  },
  {
   "cell_type": "markdown",
   "id": "9f5359f9",
   "metadata": {},
   "source": [
    "# ARIMA MODEL"
   ]
  },
  {
   "cell_type": "code",
   "execution_count": 67,
   "id": "6fa0e717",
   "metadata": {
    "ExecuteTime": {
     "end_time": "2022-10-22T06:57:47.463692Z",
     "start_time": "2022-10-22T06:57:47.449782Z"
    }
   },
   "outputs": [
    {
     "data": {
      "text/html": [
       "<div>\n",
       "<style scoped>\n",
       "    .dataframe tbody tr th:only-of-type {\n",
       "        vertical-align: middle;\n",
       "    }\n",
       "\n",
       "    .dataframe tbody tr th {\n",
       "        vertical-align: top;\n",
       "    }\n",
       "\n",
       "    .dataframe thead th {\n",
       "        text-align: right;\n",
       "    }\n",
       "</style>\n",
       "<table border=\"1\" class=\"dataframe\">\n",
       "  <thead>\n",
       "    <tr style=\"text-align: right;\">\n",
       "      <th></th>\n",
       "      <th>Passengers</th>\n",
       "    </tr>\n",
       "    <tr>\n",
       "      <th>Month</th>\n",
       "      <th></th>\n",
       "    </tr>\n",
       "  </thead>\n",
       "  <tbody>\n",
       "    <tr>\n",
       "      <th>Jan-95</th>\n",
       "      <td>112</td>\n",
       "    </tr>\n",
       "    <tr>\n",
       "      <th>Feb-95</th>\n",
       "      <td>118</td>\n",
       "    </tr>\n",
       "    <tr>\n",
       "      <th>Mar-95</th>\n",
       "      <td>132</td>\n",
       "    </tr>\n",
       "    <tr>\n",
       "      <th>Apr-95</th>\n",
       "      <td>129</td>\n",
       "    </tr>\n",
       "    <tr>\n",
       "      <th>May-95</th>\n",
       "      <td>121</td>\n",
       "    </tr>\n",
       "    <tr>\n",
       "      <th>...</th>\n",
       "      <td>...</td>\n",
       "    </tr>\n",
       "    <tr>\n",
       "      <th>Aug-02</th>\n",
       "      <td>405</td>\n",
       "    </tr>\n",
       "    <tr>\n",
       "      <th>Sep-02</th>\n",
       "      <td>355</td>\n",
       "    </tr>\n",
       "    <tr>\n",
       "      <th>Oct-02</th>\n",
       "      <td>306</td>\n",
       "    </tr>\n",
       "    <tr>\n",
       "      <th>Nov-02</th>\n",
       "      <td>271</td>\n",
       "    </tr>\n",
       "    <tr>\n",
       "      <th>Dec-02</th>\n",
       "      <td>306</td>\n",
       "    </tr>\n",
       "  </tbody>\n",
       "</table>\n",
       "<p>96 rows × 1 columns</p>\n",
       "</div>"
      ],
      "text/plain": [
       "        Passengers\n",
       "Month             \n",
       "Jan-95         112\n",
       "Feb-95         118\n",
       "Mar-95         132\n",
       "Apr-95         129\n",
       "May-95         121\n",
       "...            ...\n",
       "Aug-02         405\n",
       "Sep-02         355\n",
       "Oct-02         306\n",
       "Nov-02         271\n",
       "Dec-02         306\n",
       "\n",
       "[96 rows x 1 columns]"
      ]
     },
     "execution_count": 67,
     "metadata": {},
     "output_type": "execute_result"
    }
   ],
   "source": [
    "data=pd.read_csv(\"Airlines_data.csv\",header=0,index_col=0)\n",
    "data"
   ]
  },
  {
   "cell_type": "code",
   "execution_count": 68,
   "id": "88af46ac",
   "metadata": {
    "ExecuteTime": {
     "end_time": "2022-10-22T06:57:47.478937Z",
     "start_time": "2022-10-22T06:57:47.465598Z"
    }
   },
   "outputs": [
    {
     "name": "stdout",
     "output_type": "stream",
     "text": [
      "df_Airlines 80,  Validation_Cocacola 16\n"
     ]
    }
   ],
   "source": [
    "#Separate out the validation dataset\n",
    "split_point=len(data)-16\n",
    "df_Airlines, Validation_Cocacola=data[0:split_point],data[split_point:]\n",
    "print(\"df_Airlines %d,  Validation_Cocacola %d\" % (len(df_Airlines),len( Validation_Cocacola)))"
   ]
  },
  {
   "cell_type": "code",
   "execution_count": 69,
   "id": "1f4969f4",
   "metadata": {
    "ExecuteTime": {
     "end_time": "2022-10-22T06:57:47.494299Z",
     "start_time": "2022-10-22T06:57:47.482692Z"
    }
   },
   "outputs": [],
   "source": [
    "df_Airlines.to_csv(\"df_Airlines.csv\",header=False)\n",
    "Validation_Cocacola.to_csv(\"Validation_Cocacola.csv\",header=False)"
   ]
  },
  {
   "cell_type": "code",
   "execution_count": 70,
   "id": "694aad1b",
   "metadata": {
    "ExecuteTime": {
     "end_time": "2022-10-22T06:57:47.541197Z",
     "start_time": "2022-10-22T06:57:47.495635Z"
    }
   },
   "outputs": [
    {
     "data": {
      "text/plain": [
       "0\n",
       "Jan-95    112\n",
       "Feb-95    118\n",
       "Mar-95    132\n",
       "Apr-95    129\n",
       "May-95    121\n",
       "         ... \n",
       "Apr-01    269\n",
       "May-01    270\n",
       "Jun-01    315\n",
       "Jul-01    364\n",
       "Aug-01    347\n",
       "Name: 1, Length: 80, dtype: int64"
      ]
     },
     "execution_count": 70,
     "metadata": {},
     "output_type": "execute_result"
    }
   ],
   "source": [
    "from pandas import read_csv\n",
    "from sklearn.metrics import mean_squared_error\n",
    "from math import sqrt\n",
    "import warnings\n",
    "warnings.filterwarnings(\"ignore\")\n",
    "train=read_csv(\"df_Airlines.csv\",header=None,index_col=0,parse_dates=True,squeeze=True)\n",
    "train"
   ]
  },
  {
   "cell_type": "code",
   "execution_count": 71,
   "id": "a8dd9869",
   "metadata": {
    "ExecuteTime": {
     "end_time": "2022-10-22T06:57:47.557050Z",
     "start_time": "2022-10-22T06:57:47.543197Z"
    }
   },
   "outputs": [],
   "source": [
    "X=train.values\n",
    "train_size=int(len(X)*0.50)\n",
    "train, test=X[0:train_size],X[train_size:]"
   ]
  },
  {
   "cell_type": "code",
   "execution_count": 72,
   "id": "84f5e07f",
   "metadata": {
    "ExecuteTime": {
     "end_time": "2022-10-22T06:57:47.572607Z",
     "start_time": "2022-10-22T06:57:47.559207Z"
    }
   },
   "outputs": [
    {
     "data": {
      "text/plain": [
       "(array([112, 118, 132, 129, 121, 135, 148, 148, 136, 119, 104, 118, 115,\n",
       "        126, 141, 135, 125, 149, 170, 170, 158, 133, 114, 140, 145, 150,\n",
       "        178, 163, 172, 178, 199, 199, 184, 162, 146, 166, 171, 180, 193,\n",
       "        181], dtype=int64),\n",
       " array([183, 218, 230, 242, 209, 191, 172, 194, 196, 196, 236, 235, 229,\n",
       "        243, 264, 272, 237, 211, 180, 201, 204, 188, 235, 227, 234, 264,\n",
       "        302, 293, 259, 229, 203, 229, 242, 233, 267, 269, 270, 315, 364,\n",
       "        347], dtype=int64))"
      ]
     },
     "execution_count": 72,
     "metadata": {},
     "output_type": "execute_result"
    }
   ],
   "source": [
    "train, test"
   ]
  },
  {
   "cell_type": "markdown",
   "id": "32f58f9e",
   "metadata": {},
   "source": [
    "# VALIDATION"
   ]
  },
  {
   "cell_type": "code",
   "execution_count": 73,
   "id": "7c6456dd",
   "metadata": {
    "ExecuteTime": {
     "end_time": "2022-10-22T06:57:47.588237Z",
     "start_time": "2022-10-22T06:57:47.574277Z"
    }
   },
   "outputs": [
    {
     "name": "stdout",
     "output_type": "stream",
     "text": [
      ">predicted=181.000, expected=183.000\n",
      ">predicted=183.000, expected=218.000\n",
      ">predicted=218.000, expected=230.000\n",
      ">predicted=230.000, expected=242.000\n",
      ">predicted=242.000, expected=209.000\n",
      ">predicted=209.000, expected=191.000\n",
      ">predicted=191.000, expected=172.000\n",
      ">predicted=172.000, expected=194.000\n",
      ">predicted=194.000, expected=196.000\n",
      ">predicted=196.000, expected=196.000\n",
      ">predicted=196.000, expected=236.000\n",
      ">predicted=236.000, expected=235.000\n",
      ">predicted=235.000, expected=229.000\n",
      ">predicted=229.000, expected=243.000\n",
      ">predicted=243.000, expected=264.000\n",
      ">predicted=264.000, expected=272.000\n",
      ">predicted=272.000, expected=237.000\n",
      ">predicted=237.000, expected=211.000\n",
      ">predicted=211.000, expected=180.000\n",
      ">predicted=180.000, expected=201.000\n",
      ">predicted=201.000, expected=204.000\n",
      ">predicted=204.000, expected=188.000\n",
      ">predicted=188.000, expected=235.000\n",
      ">predicted=235.000, expected=227.000\n",
      ">predicted=227.000, expected=234.000\n",
      ">predicted=234.000, expected=264.000\n",
      ">predicted=264.000, expected=302.000\n",
      ">predicted=302.000, expected=293.000\n",
      ">predicted=293.000, expected=259.000\n",
      ">predicted=259.000, expected=229.000\n",
      ">predicted=229.000, expected=203.000\n",
      ">predicted=203.000, expected=229.000\n",
      ">predicted=229.000, expected=242.000\n",
      ">predicted=242.000, expected=233.000\n",
      ">predicted=233.000, expected=267.000\n",
      ">predicted=267.000, expected=269.000\n",
      ">predicted=269.000, expected=270.000\n",
      ">predicted=270.000, expected=315.000\n",
      ">predicted=315.000, expected=364.000\n",
      ">predicted=364.000, expected=347.000\n"
     ]
    }
   ],
   "source": [
    "history=[x for x in train]\n",
    "predictions=list()\n",
    "for i in range (len(test)):\n",
    "    yhat=history[-1]\n",
    "    predictions.append(yhat)\n",
    "    obs=test[i]\n",
    "    history.append(obs)\n",
    "    print(\">predicted=%.3f, expected=%.3f\" % (yhat,obs))"
   ]
  },
  {
   "cell_type": "code",
   "execution_count": 74,
   "id": "9c03c2d0",
   "metadata": {
    "ExecuteTime": {
     "end_time": "2022-10-22T06:57:47.603850Z",
     "start_time": "2022-10-22T06:57:47.589361Z"
    }
   },
   "outputs": [
    {
     "data": {
      "text/plain": [
       "24.47754072614322"
      ]
     },
     "execution_count": 74,
     "metadata": {},
     "output_type": "execute_result"
    }
   ],
   "source": [
    "rmse_arima=sqrt(mean_squared_error(test,predictions))\n",
    "#print(\"RMSE: %.3F\" % rmse)\n",
    "rmse_arima"
   ]
  },
  {
   "cell_type": "code",
   "execution_count": 75,
   "id": "73851c11",
   "metadata": {
    "ExecuteTime": {
     "end_time": "2022-10-22T06:57:47.633449Z",
     "start_time": "2022-10-22T06:57:47.605883Z"
    }
   },
   "outputs": [
    {
     "data": {
      "text/html": [
       "<div>\n",
       "<style scoped>\n",
       "    .dataframe tbody tr th:only-of-type {\n",
       "        vertical-align: middle;\n",
       "    }\n",
       "\n",
       "    .dataframe tbody tr th {\n",
       "        vertical-align: top;\n",
       "    }\n",
       "\n",
       "    .dataframe thead th {\n",
       "        text-align: right;\n",
       "    }\n",
       "</style>\n",
       "<table border=\"1\" class=\"dataframe\">\n",
       "  <thead>\n",
       "    <tr style=\"text-align: right;\">\n",
       "      <th></th>\n",
       "      <th>MODEL</th>\n",
       "      <th>RMSE_Values</th>\n",
       "    </tr>\n",
       "  </thead>\n",
       "  <tbody>\n",
       "    <tr>\n",
       "      <th>6</th>\n",
       "      <td>rmse_Mult_add_sea</td>\n",
       "      <td>9.469000</td>\n",
       "    </tr>\n",
       "    <tr>\n",
       "      <th>4</th>\n",
       "      <td>rmse_add_sea_quad</td>\n",
       "      <td>23.910984</td>\n",
       "    </tr>\n",
       "    <tr>\n",
       "      <th>7</th>\n",
       "      <td>RMSE_ARIMA</td>\n",
       "      <td>24.477541</td>\n",
       "    </tr>\n",
       "    <tr>\n",
       "      <th>2</th>\n",
       "      <td>rmse_Quad</td>\n",
       "      <td>43.654404</td>\n",
       "    </tr>\n",
       "    <tr>\n",
       "      <th>1</th>\n",
       "      <td>rmse_Exp</td>\n",
       "      <td>43.793739</td>\n",
       "    </tr>\n",
       "    <tr>\n",
       "      <th>0</th>\n",
       "      <td>rmse_linear</td>\n",
       "      <td>47.542624</td>\n",
       "    </tr>\n",
       "    <tr>\n",
       "      <th>3</th>\n",
       "      <td>rmse_add_sea</td>\n",
       "      <td>129.266476</td>\n",
       "    </tr>\n",
       "    <tr>\n",
       "      <th>5</th>\n",
       "      <td>rmse_Mult_sea</td>\n",
       "      <td>135.326484</td>\n",
       "    </tr>\n",
       "  </tbody>\n",
       "</table>\n",
       "</div>"
      ],
      "text/plain": [
       "               MODEL  RMSE_Values\n",
       "6  rmse_Mult_add_sea     9.469000\n",
       "4  rmse_add_sea_quad    23.910984\n",
       "7         RMSE_ARIMA    24.477541\n",
       "2          rmse_Quad    43.654404\n",
       "1           rmse_Exp    43.793739\n",
       "0        rmse_linear    47.542624\n",
       "3       rmse_add_sea   129.266476\n",
       "5      rmse_Mult_sea   135.326484"
      ]
     },
     "execution_count": 75,
     "metadata": {},
     "output_type": "execute_result"
    }
   ],
   "source": [
    "\n",
    "data = {\"MODEL\":pd.Series([\"rmse_linear\",\"rmse_Exp\",\"rmse_Quad\",\"rmse_add_sea\",\"rmse_add_sea_quad\",\"rmse_Mult_sea\",\"rmse_Mult_add_sea\",\"RMSE_ARIMA\"]),\"RMSE_Values\":pd.Series([rmse_linear,rmse_Exp,rmse_Quad,rmse_add_sea,rmse_add_sea_quad,rmse_Mult_sea,rmse_Mult_add_sea,rmse_arima])}\n",
    "table_rmse=pd.DataFrame(data)\n",
    "table_rmse.sort_values(['RMSE_Values']) "
   ]
  },
  {
   "cell_type": "code",
   "execution_count": 76,
   "id": "564e313d",
   "metadata": {
    "ExecuteTime": {
     "end_time": "2022-10-22T06:57:47.648721Z",
     "start_time": "2022-10-22T06:57:47.636219Z"
    }
   },
   "outputs": [],
   "source": [
    "##Multiplicative Additive Seasonality has low rmse value, So it is considered as most preferred value"
   ]
  }
 ],
 "metadata": {
  "kernelspec": {
   "display_name": "Python 3 (ipykernel)",
   "language": "python",
   "name": "python3"
  },
  "language_info": {
   "codemirror_mode": {
    "name": "ipython",
    "version": 3
   },
   "file_extension": ".py",
   "mimetype": "text/x-python",
   "name": "python",
   "nbconvert_exporter": "python",
   "pygments_lexer": "ipython3",
   "version": "3.9.12"
  }
 },
 "nbformat": 4,
 "nbformat_minor": 5
}
