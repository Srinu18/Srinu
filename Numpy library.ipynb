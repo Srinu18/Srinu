{
 "cells": [
  {
   "cell_type": "code",
   "execution_count": 2,
   "id": "1746cff7",
   "metadata": {
    "ExecuteTime": {
     "end_time": "2022-12-03T09:57:09.400556Z",
     "start_time": "2022-12-03T09:57:09.053232Z"
    }
   },
   "outputs": [],
   "source": [
    "import numpy as np"
   ]
  },
  {
   "cell_type": "code",
   "execution_count": 3,
   "id": "e5e396e6",
   "metadata": {
    "ExecuteTime": {
     "end_time": "2022-12-03T09:57:09.430179Z",
     "start_time": "2022-12-03T09:57:09.405197Z"
    }
   },
   "outputs": [
    {
     "name": "stdout",
     "output_type": "stream",
     "text": [
      "[1 2 3 4]\n"
     ]
    }
   ],
   "source": [
    "arr_1d = np.array([1,2,3,4])\n",
    "print(arr_1d)"
   ]
  },
  {
   "cell_type": "code",
   "execution_count": 4,
   "id": "197b8498",
   "metadata": {
    "ExecuteTime": {
     "end_time": "2022-12-03T09:57:09.460462Z",
     "start_time": "2022-12-03T09:57:09.432863Z"
    }
   },
   "outputs": [
    {
     "data": {
      "text/plain": [
       "numpy.ndarray"
      ]
     },
     "execution_count": 4,
     "metadata": {},
     "output_type": "execute_result"
    }
   ],
   "source": [
    "type(arr_1d)"
   ]
  },
  {
   "cell_type": "code",
   "execution_count": 5,
   "id": "4d85ed3c",
   "metadata": {
    "ExecuteTime": {
     "end_time": "2022-12-03T09:57:09.481254Z",
     "start_time": "2022-12-03T09:57:09.460462Z"
    }
   },
   "outputs": [
    {
     "data": {
      "text/plain": [
       "4"
      ]
     },
     "execution_count": 5,
     "metadata": {},
     "output_type": "execute_result"
    }
   ],
   "source": [
    "arr_1d.size"
   ]
  },
  {
   "cell_type": "code",
   "execution_count": 6,
   "id": "ebdf74c5",
   "metadata": {
    "ExecuteTime": {
     "end_time": "2022-12-03T09:57:09.500466Z",
     "start_time": "2022-12-03T09:57:09.483634Z"
    }
   },
   "outputs": [
    {
     "data": {
      "text/plain": [
       "1"
      ]
     },
     "execution_count": 6,
     "metadata": {},
     "output_type": "execute_result"
    }
   ],
   "source": [
    "arr_1d.ndim"
   ]
  },
  {
   "cell_type": "code",
   "execution_count": 7,
   "id": "3c2a8e68",
   "metadata": {
    "ExecuteTime": {
     "end_time": "2022-12-03T09:57:09.522083Z",
     "start_time": "2022-12-03T09:57:09.500466Z"
    }
   },
   "outputs": [
    {
     "name": "stdout",
     "output_type": "stream",
     "text": [
      "[[1 2 3 4]\n",
      " [5 6 7 8]]\n"
     ]
    }
   ],
   "source": [
    "arr_2d = np.array([[1,2,3,4],[5,6,7,8]])\n",
    "print(arr_2d)"
   ]
  },
  {
   "cell_type": "code",
   "execution_count": 8,
   "id": "e728b458",
   "metadata": {
    "ExecuteTime": {
     "end_time": "2022-12-03T09:57:09.531956Z",
     "start_time": "2022-12-03T09:57:09.522083Z"
    }
   },
   "outputs": [
    {
     "data": {
      "text/plain": [
       "2"
      ]
     },
     "execution_count": 8,
     "metadata": {},
     "output_type": "execute_result"
    }
   ],
   "source": [
    "arr_2d.ndim"
   ]
  },
  {
   "cell_type": "code",
   "execution_count": 9,
   "id": "eef0b2be",
   "metadata": {
    "ExecuteTime": {
     "end_time": "2022-12-03T09:57:09.550601Z",
     "start_time": "2022-12-03T09:57:09.534652Z"
    }
   },
   "outputs": [
    {
     "data": {
      "text/plain": [
       "8"
      ]
     },
     "execution_count": 9,
     "metadata": {},
     "output_type": "execute_result"
    }
   ],
   "source": [
    "arr_2d.size"
   ]
  },
  {
   "cell_type": "code",
   "execution_count": 10,
   "id": "efb825f6",
   "metadata": {
    "ExecuteTime": {
     "end_time": "2022-12-03T09:57:09.581441Z",
     "start_time": "2022-12-03T09:57:09.553831Z"
    }
   },
   "outputs": [
    {
     "data": {
      "text/plain": [
       "(2, 4)"
      ]
     },
     "execution_count": 10,
     "metadata": {},
     "output_type": "execute_result"
    }
   ],
   "source": [
    "#rows,columns\n",
    "arr_2d.shape"
   ]
  },
  {
   "cell_type": "code",
   "execution_count": 11,
   "id": "085ad492",
   "metadata": {
    "ExecuteTime": {
     "end_time": "2022-12-03T09:57:09.612266Z",
     "start_time": "2022-12-03T09:57:09.588250Z"
    }
   },
   "outputs": [
    {
     "data": {
      "text/plain": [
       "dtype('int32')"
      ]
     },
     "execution_count": 11,
     "metadata": {},
     "output_type": "execute_result"
    }
   ],
   "source": [
    "arr_2d.dtype"
   ]
  },
  {
   "cell_type": "code",
   "execution_count": 12,
   "id": "6fbc3ade",
   "metadata": {
    "ExecuteTime": {
     "end_time": "2022-12-03T09:57:09.631717Z",
     "start_time": "2022-12-03T09:57:09.616366Z"
    }
   },
   "outputs": [
    {
     "name": "stdout",
     "output_type": "stream",
     "text": [
      "[[1 1 1]\n",
      " [1 1 1]\n",
      " [1 1 1]]\n"
     ]
    }
   ],
   "source": [
    "mx_1s = np.array([[1,1,1],[1,1,1],[1,1,1]])\n",
    "print(mx_1s)"
   ]
  },
  {
   "cell_type": "code",
   "execution_count": 13,
   "id": "d2d5aafa",
   "metadata": {
    "ExecuteTime": {
     "end_time": "2022-12-03T09:57:09.652278Z",
     "start_time": "2022-12-03T09:57:09.631717Z"
    }
   },
   "outputs": [
    {
     "name": "stdout",
     "output_type": "stream",
     "text": [
      "[1. 1. 1. 1. 1.]\n"
     ]
    }
   ],
   "source": [
    "mx_1s = np.ones(5)\n",
    "print(mx_1s)"
   ]
  },
  {
   "cell_type": "code",
   "execution_count": 14,
   "id": "88acb3cb",
   "metadata": {
    "ExecuteTime": {
     "end_time": "2022-12-03T09:57:09.669078Z",
     "start_time": "2022-12-03T09:57:09.655808Z"
    }
   },
   "outputs": [
    {
     "data": {
      "text/plain": [
       "dtype('float64')"
      ]
     },
     "execution_count": 14,
     "metadata": {},
     "output_type": "execute_result"
    }
   ],
   "source": [
    "mx_1s.dtype"
   ]
  },
  {
   "cell_type": "code",
   "execution_count": 15,
   "id": "1d73431a",
   "metadata": {
    "ExecuteTime": {
     "end_time": "2022-12-03T09:57:09.686155Z",
     "start_time": "2022-12-03T09:57:09.671973Z"
    }
   },
   "outputs": [
    {
     "name": "stdout",
     "output_type": "stream",
     "text": [
      "[[1. 1. 1. 1.]\n",
      " [1. 1. 1. 1.]\n",
      " [1. 1. 1. 1.]]\n"
     ]
    }
   ],
   "source": [
    "mx_1s = np.ones((3,4))\n",
    "print(mx_1s)"
   ]
  },
  {
   "cell_type": "code",
   "execution_count": 16,
   "id": "e936aaf6",
   "metadata": {
    "ExecuteTime": {
     "end_time": "2022-12-03T09:57:09.703975Z",
     "start_time": "2022-12-03T09:57:09.689729Z"
    }
   },
   "outputs": [
    {
     "name": "stdout",
     "output_type": "stream",
     "text": [
      "[[1 1 1 1]\n",
      " [1 1 1 1]\n",
      " [1 1 1 1]]\n"
     ]
    }
   ],
   "source": [
    "mx_1s = np.ones((3,4),dtype = int)\n",
    "print(mx_1s)"
   ]
  },
  {
   "cell_type": "code",
   "execution_count": 17,
   "id": "5343c673",
   "metadata": {
    "ExecuteTime": {
     "end_time": "2022-12-03T09:57:09.724076Z",
     "start_time": "2022-12-03T09:57:09.706029Z"
    }
   },
   "outputs": [
    {
     "name": "stdout",
     "output_type": "stream",
     "text": [
      "[[0. 0. 0. 0. 0. 0.]\n",
      " [0. 0. 0. 0. 0. 0.]\n",
      " [0. 0. 0. 0. 0. 0.]\n",
      " [0. 0. 0. 0. 0. 0.]]\n"
     ]
    }
   ],
   "source": [
    "mx_0s = np.zeros((4,6))\n",
    "print(mx_0s)"
   ]
  },
  {
   "cell_type": "code",
   "execution_count": 18,
   "id": "61918d5b",
   "metadata": {
    "ExecuteTime": {
     "end_time": "2022-12-03T09:57:09.742934Z",
     "start_time": "2022-12-03T09:57:09.724076Z"
    }
   },
   "outputs": [
    {
     "name": "stdout",
     "output_type": "stream",
     "text": [
      "[[False False False False False False]\n",
      " [False False False False False False]\n",
      " [False False False False False False]\n",
      " [False False False False False False]]\n"
     ]
    }
   ],
   "source": [
    "mx_0s = np.zeros((4,6),dtype = bool)\n",
    "print(mx_0s)"
   ]
  },
  {
   "cell_type": "code",
   "execution_count": 19,
   "id": "ff491e0f",
   "metadata": {
    "ExecuteTime": {
     "end_time": "2022-12-03T09:57:09.758858Z",
     "start_time": "2022-12-03T09:57:09.742934Z"
    }
   },
   "outputs": [
    {
     "name": "stdout",
     "output_type": "stream",
     "text": [
      "[['' '' '' '' '' '']\n",
      " ['' '' '' '' '' '']\n",
      " ['' '' '' '' '' '']\n",
      " ['' '' '' '' '' '']]\n"
     ]
    }
   ],
   "source": [
    "mx_0s = np.zeros((4,6),dtype = str)\n",
    "print(mx_0s)"
   ]
  },
  {
   "cell_type": "code",
   "execution_count": 20,
   "id": "deebb562",
   "metadata": {
    "ExecuteTime": {
     "end_time": "2022-12-03T09:57:09.780419Z",
     "start_time": "2022-12-03T09:57:09.758858Z"
    }
   },
   "outputs": [
    {
     "name": "stdout",
     "output_type": "stream",
     "text": [
      "False\n"
     ]
    }
   ],
   "source": [
    "em_str = ''\n",
    "print(bool(em_str))"
   ]
  },
  {
   "cell_type": "code",
   "execution_count": 21,
   "id": "e24b99b9",
   "metadata": {
    "ExecuteTime": {
     "end_time": "2022-12-03T09:57:09.799890Z",
     "start_time": "2022-12-03T09:57:09.780419Z"
    }
   },
   "outputs": [
    {
     "data": {
      "text/plain": [
       "array([[0., 0., 0.],\n",
       "       [0., 0., 0.],\n",
       "       [0., 0., 0.]])"
      ]
     },
     "execution_count": 21,
     "metadata": {},
     "output_type": "execute_result"
    }
   ],
   "source": [
    "em_mx = np.empty((3,3))\n",
    "em_mx"
   ]
  },
  {
   "cell_type": "markdown",
   "id": "5b441fed",
   "metadata": {},
   "source": [
    "# Numpy Functions"
   ]
  },
  {
   "cell_type": "code",
   "execution_count": 22,
   "id": "61a3f4c5",
   "metadata": {
    "ExecuteTime": {
     "end_time": "2022-12-03T09:57:09.815223Z",
     "start_time": "2022-12-03T09:57:09.803674Z"
    }
   },
   "outputs": [],
   "source": [
    "import numpy as np"
   ]
  },
  {
   "cell_type": "raw",
   "id": "c66d06a3",
   "metadata": {
    "ExecuteTime": {
     "end_time": "2022-11-30T10:25:52.504323Z",
     "start_time": "2022-11-30T10:25:52.488228Z"
    }
   },
   "source": [
    "# arrange()"
   ]
  },
  {
   "cell_type": "code",
   "execution_count": 23,
   "id": "cd7d2465",
   "metadata": {
    "ExecuteTime": {
     "end_time": "2022-12-03T09:57:09.833095Z",
     "start_time": "2022-12-03T09:57:09.815223Z"
    }
   },
   "outputs": [
    {
     "name": "stdout",
     "output_type": "stream",
     "text": [
      "[ 1  2  3  4  5  6  7  8  9 10 11 12]\n"
     ]
    }
   ],
   "source": [
    "ar_1d = np.arange(1,13)\n",
    "print(ar_1d)"
   ]
  },
  {
   "cell_type": "code",
   "execution_count": 24,
   "id": "2e0f1c78",
   "metadata": {
    "ExecuteTime": {
     "end_time": "2022-12-03T09:57:09.851437Z",
     "start_time": "2022-12-03T09:57:09.833095Z"
    }
   },
   "outputs": [
    {
     "name": "stdout",
     "output_type": "stream",
     "text": [
      "[ 1  3  5  7  9 11]\n"
     ]
    }
   ],
   "source": [
    "#Even\n",
    "even_ar= np.arange(1,13,2)\n",
    "print(even_ar)"
   ]
  },
  {
   "cell_type": "raw",
   "id": "3b1813a4",
   "metadata": {},
   "source": [
    "#Linspace"
   ]
  },
  {
   "cell_type": "code",
   "execution_count": 25,
   "id": "397aad85",
   "metadata": {
    "ExecuteTime": {
     "end_time": "2022-12-03T09:57:09.871887Z",
     "start_time": "2022-12-03T09:57:09.854804Z"
    }
   },
   "outputs": [
    {
     "data": {
      "text/plain": [
       "array([1.        , 2.33333333, 3.66666667, 5.        ])"
      ]
     },
     "execution_count": 25,
     "metadata": {},
     "output_type": "execute_result"
    }
   ],
   "source": [
    "np.linspace(1,5,4)"
   ]
  },
  {
   "cell_type": "code",
   "execution_count": 26,
   "id": "dd5c4d5a",
   "metadata": {
    "ExecuteTime": {
     "end_time": "2022-12-03T09:57:09.890723Z",
     "start_time": "2022-12-03T09:57:09.871887Z"
    }
   },
   "outputs": [
    {
     "data": {
      "text/plain": [
       "array([[ 1,  2,  3,  4],\n",
       "       [ 5,  6,  7,  8],\n",
       "       [ 9, 10, 11, 12]])"
      ]
     },
     "execution_count": 26,
     "metadata": {},
     "output_type": "execute_result"
    }
   ],
   "source": [
    "#reshape()\n",
    "ar_2d = ar_1d.reshape(3,4)\n",
    "ar_2d"
   ]
  },
  {
   "cell_type": "code",
   "execution_count": 27,
   "id": "f258a094",
   "metadata": {
    "ExecuteTime": {
     "end_time": "2022-12-03T09:57:09.903792Z",
     "start_time": "2022-12-03T09:57:09.894213Z"
    }
   },
   "outputs": [
    {
     "data": {
      "text/plain": [
       "array([[[ 1,  2],\n",
       "        [ 3,  4],\n",
       "        [ 5,  6]],\n",
       "\n",
       "       [[ 7,  8],\n",
       "        [ 9, 10],\n",
       "        [11, 12]]])"
      ]
     },
     "execution_count": 27,
     "metadata": {},
     "output_type": "execute_result"
    }
   ],
   "source": [
    "ar_3d = ar_1d.reshape(2,3,2)\n",
    "ar_3d"
   ]
  },
  {
   "cell_type": "code",
   "execution_count": 28,
   "id": "f02029f5",
   "metadata": {
    "ExecuteTime": {
     "end_time": "2022-12-03T09:57:09.919714Z",
     "start_time": "2022-12-03T09:57:09.905976Z"
    }
   },
   "outputs": [
    {
     "name": "stdout",
     "output_type": "stream",
     "text": [
      "[[ 1  2  3  4  5  6]\n",
      " [ 7  8  9 10 11 12]]\n"
     ]
    }
   ],
   "source": [
    "ar = np.arange(1,13).reshape(2,6)\n",
    "print(ar)"
   ]
  },
  {
   "cell_type": "raw",
   "id": "28d3ad8f",
   "metadata": {},
   "source": [
    "#ravel"
   ]
  },
  {
   "cell_type": "code",
   "execution_count": 29,
   "id": "657e49a2",
   "metadata": {
    "ExecuteTime": {
     "end_time": "2022-12-03T09:57:09.954656Z",
     "start_time": "2022-12-03T09:57:09.929711Z"
    }
   },
   "outputs": [
    {
     "data": {
      "text/plain": [
       "array([ 1,  2,  3,  4,  5,  6,  7,  8,  9, 10, 11, 12])"
      ]
     },
     "execution_count": 29,
     "metadata": {},
     "output_type": "execute_result"
    }
   ],
   "source": [
    "ar.ravel()"
   ]
  },
  {
   "cell_type": "raw",
   "id": "778650f7",
   "metadata": {},
   "source": [
    "#flatten()"
   ]
  },
  {
   "cell_type": "code",
   "execution_count": 30,
   "id": "766feab9",
   "metadata": {
    "ExecuteTime": {
     "end_time": "2022-12-03T09:57:09.974943Z",
     "start_time": "2022-12-03T09:57:09.955155Z"
    }
   },
   "outputs": [
    {
     "data": {
      "text/plain": [
       "array([ 1,  2,  3,  4,  5,  6,  7,  8,  9, 10, 11, 12])"
      ]
     },
     "execution_count": 30,
     "metadata": {},
     "output_type": "execute_result"
    }
   ],
   "source": [
    "ar.flatten()"
   ]
  },
  {
   "cell_type": "code",
   "execution_count": 31,
   "id": "681c28c8",
   "metadata": {
    "ExecuteTime": {
     "end_time": "2022-12-03T09:57:09.992878Z",
     "start_time": "2022-12-03T09:57:09.974943Z"
    }
   },
   "outputs": [
    {
     "data": {
      "text/plain": [
       "array([[ 1,  7],\n",
       "       [ 2,  8],\n",
       "       [ 3,  9],\n",
       "       [ 4, 10],\n",
       "       [ 5, 11],\n",
       "       [ 6, 12]])"
      ]
     },
     "execution_count": 31,
     "metadata": {},
     "output_type": "execute_result"
    }
   ],
   "source": [
    "#transpose()\n",
    "ar.transpose()"
   ]
  },
  {
   "cell_type": "code",
   "execution_count": 32,
   "id": "26c58d14",
   "metadata": {
    "ExecuteTime": {
     "end_time": "2022-12-03T09:57:10.015970Z",
     "start_time": "2022-12-03T09:57:09.992878Z"
    }
   },
   "outputs": [
    {
     "data": {
      "text/plain": [
       "array([[ 1,  7],\n",
       "       [ 2,  8],\n",
       "       [ 3,  9],\n",
       "       [ 4, 10],\n",
       "       [ 5, 11],\n",
       "       [ 6, 12]])"
      ]
     },
     "execution_count": 32,
     "metadata": {},
     "output_type": "execute_result"
    }
   ],
   "source": [
    "ar.T"
   ]
  },
  {
   "cell_type": "markdown",
   "id": "44c5ce47",
   "metadata": {},
   "source": [
    "# Mathematic Operation Using Numpy"
   ]
  },
  {
   "cell_type": "code",
   "execution_count": 33,
   "id": "f6a9f19f",
   "metadata": {
    "ExecuteTime": {
     "end_time": "2022-12-03T09:57:10.031164Z",
     "start_time": "2022-12-03T09:57:10.015970Z"
    }
   },
   "outputs": [],
   "source": [
    "import numpy as np"
   ]
  },
  {
   "cell_type": "code",
   "execution_count": 34,
   "id": "b1fdea68",
   "metadata": {
    "ExecuteTime": {
     "end_time": "2022-12-03T09:57:10.054014Z",
     "start_time": "2022-12-03T09:57:10.031164Z"
    }
   },
   "outputs": [
    {
     "name": "stdout",
     "output_type": "stream",
     "text": [
      "[[1 2 3]\n",
      " [4 5 6]\n",
      " [7 8 9]]\n",
      "[[1 2 3]\n",
      " [4 5 6]\n",
      " [7 8 9]]\n"
     ]
    }
   ],
   "source": [
    "arr_1 = np.arange(1,10).reshape(3,3)\n",
    "arr_2 = np.arange(1,10).reshape(3,3)\n",
    "print(arr_1)\n",
    "print(arr_2)"
   ]
  },
  {
   "cell_type": "code",
   "execution_count": 35,
   "id": "3ed20a1e",
   "metadata": {
    "ExecuteTime": {
     "end_time": "2022-12-03T09:57:10.075386Z",
     "start_time": "2022-12-03T09:57:10.057710Z"
    }
   },
   "outputs": [
    {
     "data": {
      "text/plain": [
       "array([[ 2,  4,  6],\n",
       "       [ 8, 10, 12],\n",
       "       [14, 16, 18]])"
      ]
     },
     "execution_count": 35,
     "metadata": {},
     "output_type": "execute_result"
    }
   ],
   "source": [
    "arr_1 + arr_2"
   ]
  },
  {
   "cell_type": "code",
   "execution_count": 36,
   "id": "7cd317df",
   "metadata": {
    "ExecuteTime": {
     "end_time": "2022-12-03T09:57:10.097021Z",
     "start_time": "2022-12-03T09:57:10.079085Z"
    }
   },
   "outputs": [
    {
     "data": {
      "text/plain": [
       "array([[ 2,  4,  6],\n",
       "       [ 8, 10, 12],\n",
       "       [14, 16, 18]])"
      ]
     },
     "execution_count": 36,
     "metadata": {},
     "output_type": "execute_result"
    }
   ],
   "source": [
    "np.add(arr_1,arr_2)"
   ]
  },
  {
   "cell_type": "code",
   "execution_count": 37,
   "id": "15f5de38",
   "metadata": {
    "ExecuteTime": {
     "end_time": "2022-12-03T09:57:10.113108Z",
     "start_time": "2022-12-03T09:57:10.097021Z"
    }
   },
   "outputs": [
    {
     "data": {
      "text/plain": [
       "array([[0, 0, 0],\n",
       "       [0, 0, 0],\n",
       "       [0, 0, 0]])"
      ]
     },
     "execution_count": 37,
     "metadata": {},
     "output_type": "execute_result"
    }
   ],
   "source": [
    "arr_1-arr_2"
   ]
  },
  {
   "cell_type": "code",
   "execution_count": 38,
   "id": "acbc53c0",
   "metadata": {
    "ExecuteTime": {
     "end_time": "2022-12-03T09:57:10.130178Z",
     "start_time": "2022-12-03T09:57:10.113108Z"
    }
   },
   "outputs": [
    {
     "data": {
      "text/plain": [
       "array([[0, 0, 0],\n",
       "       [0, 0, 0],\n",
       "       [0, 0, 0]])"
      ]
     },
     "execution_count": 38,
     "metadata": {},
     "output_type": "execute_result"
    }
   ],
   "source": [
    "np.subtract(arr_1,arr_2)"
   ]
  },
  {
   "cell_type": "code",
   "execution_count": 39,
   "id": "797f7b41",
   "metadata": {
    "ExecuteTime": {
     "end_time": "2022-12-03T09:57:10.146813Z",
     "start_time": "2022-12-03T09:57:10.130178Z"
    }
   },
   "outputs": [
    {
     "data": {
      "text/plain": [
       "array([[1., 1., 1.],\n",
       "       [1., 1., 1.],\n",
       "       [1., 1., 1.]])"
      ]
     },
     "execution_count": 39,
     "metadata": {},
     "output_type": "execute_result"
    }
   ],
   "source": [
    "arr_1/arr_2"
   ]
  },
  {
   "cell_type": "code",
   "execution_count": 40,
   "id": "7350d4cf",
   "metadata": {
    "ExecuteTime": {
     "end_time": "2022-12-03T09:57:10.164483Z",
     "start_time": "2022-12-03T09:57:10.150474Z"
    }
   },
   "outputs": [
    {
     "data": {
      "text/plain": [
       "array([[1., 1., 1.],\n",
       "       [1., 1., 1.],\n",
       "       [1., 1., 1.]])"
      ]
     },
     "execution_count": 40,
     "metadata": {},
     "output_type": "execute_result"
    }
   ],
   "source": [
    "np.divide(arr_1,arr_2)"
   ]
  },
  {
   "cell_type": "code",
   "execution_count": 41,
   "id": "9a05303f",
   "metadata": {
    "ExecuteTime": {
     "end_time": "2022-12-03T09:57:10.185336Z",
     "start_time": "2022-12-03T09:57:10.167713Z"
    }
   },
   "outputs": [
    {
     "data": {
      "text/plain": [
       "array([[ 1,  4,  9],\n",
       "       [16, 25, 36],\n",
       "       [49, 64, 81]])"
      ]
     },
     "execution_count": 41,
     "metadata": {},
     "output_type": "execute_result"
    }
   ],
   "source": [
    "arr_1 * arr_2"
   ]
  },
  {
   "cell_type": "code",
   "execution_count": 42,
   "id": "29318305",
   "metadata": {
    "ExecuteTime": {
     "end_time": "2022-12-03T09:57:10.207701Z",
     "start_time": "2022-12-03T09:57:10.188188Z"
    }
   },
   "outputs": [
    {
     "data": {
      "text/plain": [
       "array([[ 1,  4,  9],\n",
       "       [16, 25, 36],\n",
       "       [49, 64, 81]])"
      ]
     },
     "execution_count": 42,
     "metadata": {},
     "output_type": "execute_result"
    }
   ],
   "source": [
    "np.multiply(arr_1,arr_2)"
   ]
  },
  {
   "cell_type": "code",
   "execution_count": 43,
   "id": "3b9c54d7",
   "metadata": {
    "ExecuteTime": {
     "end_time": "2022-12-03T09:57:10.229524Z",
     "start_time": "2022-12-03T09:57:10.208743Z"
    }
   },
   "outputs": [
    {
     "data": {
      "text/plain": [
       "array([[ 30,  36,  42],\n",
       "       [ 66,  81,  96],\n",
       "       [102, 126, 150]])"
      ]
     },
     "execution_count": 43,
     "metadata": {},
     "output_type": "execute_result"
    }
   ],
   "source": [
    "arr_1 @ arr_2"
   ]
  },
  {
   "cell_type": "code",
   "execution_count": 44,
   "id": "3ff7c15f",
   "metadata": {
    "ExecuteTime": {
     "end_time": "2022-12-03T09:57:10.250991Z",
     "start_time": "2022-12-03T09:57:10.229524Z"
    }
   },
   "outputs": [
    {
     "data": {
      "text/plain": [
       "array([[ 30,  36,  42],\n",
       "       [ 66,  81,  96],\n",
       "       [102, 126, 150]])"
      ]
     },
     "execution_count": 44,
     "metadata": {},
     "output_type": "execute_result"
    }
   ],
   "source": [
    "arr_1.dot(arr_2)"
   ]
  },
  {
   "cell_type": "code",
   "execution_count": 45,
   "id": "08e582ff",
   "metadata": {
    "ExecuteTime": {
     "end_time": "2022-12-03T09:57:10.269997Z",
     "start_time": "2022-12-03T09:57:10.252332Z"
    }
   },
   "outputs": [
    {
     "data": {
      "text/plain": [
       "9"
      ]
     },
     "execution_count": 45,
     "metadata": {},
     "output_type": "execute_result"
    }
   ],
   "source": [
    "arr_1.max()"
   ]
  },
  {
   "cell_type": "code",
   "execution_count": 46,
   "id": "165ba6ed",
   "metadata": {
    "ExecuteTime": {
     "end_time": "2022-12-03T09:57:10.298365Z",
     "start_time": "2022-12-03T09:57:10.271175Z"
    }
   },
   "outputs": [
    {
     "data": {
      "text/plain": [
       "8"
      ]
     },
     "execution_count": 46,
     "metadata": {},
     "output_type": "execute_result"
    }
   ],
   "source": [
    "arr_1.argmax()"
   ]
  },
  {
   "cell_type": "code",
   "execution_count": 47,
   "id": "d587bb4d",
   "metadata": {
    "ExecuteTime": {
     "end_time": "2022-12-03T09:57:10.308788Z",
     "start_time": "2022-12-03T09:57:10.298365Z"
    }
   },
   "outputs": [
    {
     "data": {
      "text/plain": [
       "1"
      ]
     },
     "execution_count": 47,
     "metadata": {},
     "output_type": "execute_result"
    }
   ],
   "source": [
    "arr_1.min()"
   ]
  },
  {
   "cell_type": "code",
   "execution_count": 48,
   "id": "8bb03f06",
   "metadata": {
    "ExecuteTime": {
     "end_time": "2022-12-03T09:57:10.329918Z",
     "start_time": "2022-12-03T09:57:10.309288Z"
    }
   },
   "outputs": [
    {
     "data": {
      "text/plain": [
       "array([7, 8, 9])"
      ]
     },
     "execution_count": 48,
     "metadata": {},
     "output_type": "execute_result"
    }
   ],
   "source": [
    "# 0 - columns/1 - rows\n",
    "arr_1.max(axis = 0)"
   ]
  },
  {
   "cell_type": "code",
   "execution_count": 49,
   "id": "fdb01d42",
   "metadata": {
    "ExecuteTime": {
     "end_time": "2022-12-03T09:57:10.346571Z",
     "start_time": "2022-12-03T09:57:10.332031Z"
    }
   },
   "outputs": [
    {
     "data": {
      "text/plain": [
       "array([3, 6, 9])"
      ]
     },
     "execution_count": 49,
     "metadata": {},
     "output_type": "execute_result"
    }
   ],
   "source": [
    "arr_1.max(axis = 1)"
   ]
  },
  {
   "cell_type": "code",
   "execution_count": 50,
   "id": "873cb4ee",
   "metadata": {
    "ExecuteTime": {
     "end_time": "2022-12-03T09:57:10.365511Z",
     "start_time": "2022-12-03T09:57:10.346571Z"
    }
   },
   "outputs": [
    {
     "data": {
      "text/plain": [
       "0"
      ]
     },
     "execution_count": 50,
     "metadata": {},
     "output_type": "execute_result"
    }
   ],
   "source": [
    "arr_1.argmin()"
   ]
  },
  {
   "cell_type": "code",
   "execution_count": 51,
   "id": "76982dbc",
   "metadata": {
    "ExecuteTime": {
     "end_time": "2022-12-03T09:57:10.387487Z",
     "start_time": "2022-12-03T09:57:10.369408Z"
    }
   },
   "outputs": [
    {
     "data": {
      "text/plain": [
       "array([1, 2, 3])"
      ]
     },
     "execution_count": 51,
     "metadata": {},
     "output_type": "execute_result"
    }
   ],
   "source": [
    "arr_1.min(axis=0)"
   ]
  },
  {
   "cell_type": "code",
   "execution_count": 52,
   "id": "6d96a73e",
   "metadata": {
    "ExecuteTime": {
     "end_time": "2022-12-03T09:57:10.408985Z",
     "start_time": "2022-12-03T09:57:10.387487Z"
    }
   },
   "outputs": [
    {
     "data": {
      "text/plain": [
       "array([1, 4, 7])"
      ]
     },
     "execution_count": 52,
     "metadata": {},
     "output_type": "execute_result"
    }
   ],
   "source": [
    "arr_1.min(axis=1)"
   ]
  },
  {
   "cell_type": "code",
   "execution_count": 53,
   "id": "a2bea37f",
   "metadata": {
    "ExecuteTime": {
     "end_time": "2022-12-03T09:57:10.437789Z",
     "start_time": "2022-12-03T09:57:10.408985Z"
    }
   },
   "outputs": [
    {
     "data": {
      "text/plain": [
       "45"
      ]
     },
     "execution_count": 53,
     "metadata": {},
     "output_type": "execute_result"
    }
   ],
   "source": [
    "np.sum(arr_1)"
   ]
  },
  {
   "cell_type": "code",
   "execution_count": 54,
   "id": "f80bcd8a",
   "metadata": {
    "ExecuteTime": {
     "end_time": "2022-12-03T09:57:10.456829Z",
     "start_time": "2022-12-03T09:57:10.440410Z"
    }
   },
   "outputs": [
    {
     "data": {
      "text/plain": [
       "array([12, 15, 18])"
      ]
     },
     "execution_count": 54,
     "metadata": {},
     "output_type": "execute_result"
    }
   ],
   "source": [
    "np.sum(arr_1,axis=0)"
   ]
  },
  {
   "cell_type": "code",
   "execution_count": 55,
   "id": "aa9f54da",
   "metadata": {
    "ExecuteTime": {
     "end_time": "2022-12-03T09:57:10.472096Z",
     "start_time": "2022-12-03T09:57:10.456829Z"
    }
   },
   "outputs": [
    {
     "data": {
      "text/plain": [
       "array([ 6, 15, 24])"
      ]
     },
     "execution_count": 55,
     "metadata": {},
     "output_type": "execute_result"
    }
   ],
   "source": [
    "np.sum(arr_1,axis=1)"
   ]
  },
  {
   "cell_type": "code",
   "execution_count": 56,
   "id": "3d51fa1b",
   "metadata": {
    "ExecuteTime": {
     "end_time": "2022-12-03T09:57:10.486675Z",
     "start_time": "2022-12-03T09:57:10.472096Z"
    }
   },
   "outputs": [
    {
     "data": {
      "text/plain": [
       "5.0"
      ]
     },
     "execution_count": 56,
     "metadata": {},
     "output_type": "execute_result"
    }
   ],
   "source": [
    "np.mean(arr_1)"
   ]
  },
  {
   "cell_type": "code",
   "execution_count": 57,
   "id": "25a3aae1",
   "metadata": {
    "ExecuteTime": {
     "end_time": "2022-12-03T09:57:10.506891Z",
     "start_time": "2022-12-03T09:57:10.487885Z"
    }
   },
   "outputs": [
    {
     "data": {
      "text/plain": [
       "array([[1.        , 1.41421356, 1.73205081],\n",
       "       [2.        , 2.23606798, 2.44948974],\n",
       "       [2.64575131, 2.82842712, 3.        ]])"
      ]
     },
     "execution_count": 57,
     "metadata": {},
     "output_type": "execute_result"
    }
   ],
   "source": [
    "np.sqrt(arr_1)"
   ]
  },
  {
   "cell_type": "code",
   "execution_count": 58,
   "id": "9b717012",
   "metadata": {
    "ExecuteTime": {
     "end_time": "2022-12-03T09:57:10.529761Z",
     "start_time": "2022-12-03T09:57:10.506891Z"
    }
   },
   "outputs": [
    {
     "data": {
      "text/plain": [
       "2.581988897471611"
      ]
     },
     "execution_count": 58,
     "metadata": {},
     "output_type": "execute_result"
    }
   ],
   "source": [
    "np.std(arr_1)"
   ]
  },
  {
   "cell_type": "code",
   "execution_count": 59,
   "id": "b97c9bb6",
   "metadata": {
    "ExecuteTime": {
     "end_time": "2022-12-03T09:57:10.550333Z",
     "start_time": "2022-12-03T09:57:10.529761Z"
    }
   },
   "outputs": [
    {
     "data": {
      "text/plain": [
       "array([[2.71828183e+00, 7.38905610e+00, 2.00855369e+01],\n",
       "       [5.45981500e+01, 1.48413159e+02, 4.03428793e+02],\n",
       "       [1.09663316e+03, 2.98095799e+03, 8.10308393e+03]])"
      ]
     },
     "execution_count": 59,
     "metadata": {},
     "output_type": "execute_result"
    }
   ],
   "source": [
    "np.exp(arr_1)"
   ]
  },
  {
   "cell_type": "code",
   "execution_count": 60,
   "id": "5217e2eb",
   "metadata": {
    "ExecuteTime": {
     "end_time": "2022-12-03T09:57:10.570885Z",
     "start_time": "2022-12-03T09:57:10.554519Z"
    }
   },
   "outputs": [
    {
     "data": {
      "text/plain": [
       "array([[0.        , 0.69314718, 1.09861229],\n",
       "       [1.38629436, 1.60943791, 1.79175947],\n",
       "       [1.94591015, 2.07944154, 2.19722458]])"
      ]
     },
     "execution_count": 60,
     "metadata": {},
     "output_type": "execute_result"
    }
   ],
   "source": [
    "np.log(arr_1)"
   ]
  },
  {
   "cell_type": "code",
   "execution_count": 61,
   "id": "df4601a5",
   "metadata": {
    "ExecuteTime": {
     "end_time": "2022-12-03T09:57:10.590025Z",
     "start_time": "2022-12-03T09:57:10.571225Z"
    }
   },
   "outputs": [
    {
     "data": {
      "text/plain": [
       "array([[0.        , 0.30103   , 0.47712125],\n",
       "       [0.60205999, 0.69897   , 0.77815125],\n",
       "       [0.84509804, 0.90308999, 0.95424251]])"
      ]
     },
     "execution_count": 61,
     "metadata": {},
     "output_type": "execute_result"
    }
   ],
   "source": [
    "np.log10(arr_1)"
   ]
  },
  {
   "cell_type": "markdown",
   "id": "7d744edd",
   "metadata": {
    "ExecuteTime": {
     "end_time": "2022-11-30T10:54:36.404023Z",
     "start_time": "2022-11-30T10:54:36.376592Z"
    }
   },
   "source": [
    "# Python numpy array slicing"
   ]
  },
  {
   "cell_type": "code",
   "execution_count": 62,
   "id": "b163b2d2",
   "metadata": {
    "ExecuteTime": {
     "end_time": "2022-12-03T09:57:10.606025Z",
     "start_time": "2022-12-03T09:57:10.590025Z"
    }
   },
   "outputs": [],
   "source": [
    "import numpy as np"
   ]
  },
  {
   "cell_type": "code",
   "execution_count": 63,
   "id": "2deb65ef",
   "metadata": {
    "ExecuteTime": {
     "end_time": "2022-12-03T09:57:10.625256Z",
     "start_time": "2022-12-03T09:57:10.609487Z"
    }
   },
   "outputs": [
    {
     "name": "stdout",
     "output_type": "stream",
     "text": [
      "[[  1   2   3   4   5   6   7   8   9  10]\n",
      " [ 11  12  13  14  15  16  17  18  19  20]\n",
      " [ 21  22  23  24  25  26  27  28  29  30]\n",
      " [ 31  32  33  34  35  36  37  38  39  40]\n",
      " [ 41  42  43  44  45  46  47  48  49  50]\n",
      " [ 51  52  53  54  55  56  57  58  59  60]\n",
      " [ 61  62  63  64  65  66  67  68  69  70]\n",
      " [ 71  72  73  74  75  76  77  78  79  80]\n",
      " [ 81  82  83  84  85  86  87  88  89  90]\n",
      " [ 91  92  93  94  95  96  97  98  99 100]]\n"
     ]
    }
   ],
   "source": [
    "mx = np.arange(1,101).reshape(10,10)\n",
    "print(mx)"
   ]
  },
  {
   "cell_type": "code",
   "execution_count": 64,
   "id": "96fa3b0b",
   "metadata": {
    "ExecuteTime": {
     "end_time": "2022-12-03T09:57:10.644568Z",
     "start_time": "2022-12-03T09:57:10.625256Z"
    }
   },
   "outputs": [
    {
     "data": {
      "text/plain": [
       "1"
      ]
     },
     "execution_count": 64,
     "metadata": {},
     "output_type": "execute_result"
    }
   ],
   "source": [
    "mx[0,0]"
   ]
  },
  {
   "cell_type": "code",
   "execution_count": 65,
   "id": "d19f2ab8",
   "metadata": {
    "ExecuteTime": {
     "end_time": "2022-12-03T09:57:10.664310Z",
     "start_time": "2022-12-03T09:57:10.646364Z"
    }
   },
   "outputs": [
    {
     "data": {
      "text/plain": [
       "49"
      ]
     },
     "execution_count": 65,
     "metadata": {},
     "output_type": "execute_result"
    }
   ],
   "source": [
    "mx[4,8]"
   ]
  },
  {
   "cell_type": "code",
   "execution_count": 66,
   "id": "e60df61f",
   "metadata": {
    "ExecuteTime": {
     "end_time": "2022-12-03T09:57:10.685630Z",
     "start_time": "2022-12-03T09:57:10.666710Z"
    }
   },
   "outputs": [
    {
     "data": {
      "text/plain": [
       "0"
      ]
     },
     "execution_count": 66,
     "metadata": {},
     "output_type": "execute_result"
    }
   ],
   "source": [
    "mx[4,8].ndim"
   ]
  },
  {
   "cell_type": "code",
   "execution_count": 67,
   "id": "f97a21b1",
   "metadata": {
    "ExecuteTime": {
     "end_time": "2022-12-03T09:57:10.705037Z",
     "start_time": "2022-12-03T09:57:10.687810Z"
    }
   },
   "outputs": [
    {
     "data": {
      "text/plain": [
       "array([ 1,  2,  3,  4,  5,  6,  7,  8,  9, 10])"
      ]
     },
     "execution_count": 67,
     "metadata": {},
     "output_type": "execute_result"
    }
   ],
   "source": [
    "mx[0]"
   ]
  },
  {
   "cell_type": "code",
   "execution_count": 68,
   "id": "12a1438d",
   "metadata": {
    "ExecuteTime": {
     "end_time": "2022-12-03T09:57:10.720523Z",
     "start_time": "2022-12-03T09:57:10.706036Z"
    }
   },
   "outputs": [
    {
     "data": {
      "text/plain": [
       "array([ 1, 11, 21, 31, 41, 51, 61, 71, 81, 91])"
      ]
     },
     "execution_count": 68,
     "metadata": {},
     "output_type": "execute_result"
    }
   ],
   "source": [
    "mx[:,0]"
   ]
  },
  {
   "cell_type": "code",
   "execution_count": 69,
   "id": "ae17bb7b",
   "metadata": {
    "ExecuteTime": {
     "end_time": "2022-12-03T09:57:10.737340Z",
     "start_time": "2022-12-03T09:57:10.721021Z"
    }
   },
   "outputs": [
    {
     "data": {
      "text/plain": [
       "array([[ 1],\n",
       "       [11],\n",
       "       [21],\n",
       "       [31],\n",
       "       [41],\n",
       "       [51],\n",
       "       [61],\n",
       "       [71],\n",
       "       [81],\n",
       "       [91]])"
      ]
     },
     "execution_count": 69,
     "metadata": {},
     "output_type": "execute_result"
    }
   ],
   "source": [
    "mx[:,0:1]"
   ]
  },
  {
   "cell_type": "code",
   "execution_count": 70,
   "id": "1d139708",
   "metadata": {
    "ExecuteTime": {
     "end_time": "2022-12-03T09:57:10.756346Z",
     "start_time": "2022-12-03T09:57:10.740329Z"
    }
   },
   "outputs": [
    {
     "data": {
      "text/plain": [
       "2"
      ]
     },
     "execution_count": 70,
     "metadata": {},
     "output_type": "execute_result"
    }
   ],
   "source": [
    "mx[:,0:1].ndim"
   ]
  },
  {
   "cell_type": "code",
   "execution_count": 71,
   "id": "4bf31707",
   "metadata": {
    "ExecuteTime": {
     "end_time": "2022-12-03T09:57:10.775198Z",
     "start_time": "2022-12-03T09:57:10.759036Z"
    }
   },
   "outputs": [
    {
     "data": {
      "text/plain": [
       "array([[13, 14, 15],\n",
       "       [23, 24, 25],\n",
       "       [33, 34, 35],\n",
       "       [43, 44, 45],\n",
       "       [53, 54, 55]])"
      ]
     },
     "execution_count": 71,
     "metadata": {},
     "output_type": "execute_result"
    }
   ],
   "source": [
    "mx[1:6,2:5]"
   ]
  },
  {
   "cell_type": "code",
   "execution_count": 72,
   "id": "4fed5ad1",
   "metadata": {
    "ExecuteTime": {
     "end_time": "2022-12-03T09:57:10.796103Z",
     "start_time": "2022-12-03T09:57:10.775198Z"
    }
   },
   "outputs": [
    {
     "data": {
      "text/plain": [
       "array([[ 2,  3],\n",
       "       [12, 13],\n",
       "       [22, 23],\n",
       "       [32, 33],\n",
       "       [42, 43],\n",
       "       [52, 53],\n",
       "       [62, 63],\n",
       "       [72, 73],\n",
       "       [82, 83],\n",
       "       [92, 93]])"
      ]
     },
     "execution_count": 72,
     "metadata": {},
     "output_type": "execute_result"
    }
   ],
   "source": [
    "mx[:,1:3]"
   ]
  },
  {
   "cell_type": "code",
   "execution_count": 73,
   "id": "989649a5",
   "metadata": {
    "ExecuteTime": {
     "end_time": "2022-12-03T09:57:10.812889Z",
     "start_time": "2022-12-03T09:57:10.796103Z"
    }
   },
   "outputs": [
    {
     "data": {
      "text/plain": [
       "array([[  1,   2,   3,   4,   5,   6,   7,   8,   9,  10],\n",
       "       [ 11,  12,  13,  14,  15,  16,  17,  18,  19,  20],\n",
       "       [ 21,  22,  23,  24,  25,  26,  27,  28,  29,  30],\n",
       "       [ 31,  32,  33,  34,  35,  36,  37,  38,  39,  40],\n",
       "       [ 41,  42,  43,  44,  45,  46,  47,  48,  49,  50],\n",
       "       [ 51,  52,  53,  54,  55,  56,  57,  58,  59,  60],\n",
       "       [ 61,  62,  63,  64,  65,  66,  67,  68,  69,  70],\n",
       "       [ 71,  72,  73,  74,  75,  76,  77,  78,  79,  80],\n",
       "       [ 81,  82,  83,  84,  85,  86,  87,  88,  89,  90],\n",
       "       [ 91,  92,  93,  94,  95,  96,  97,  98,  99, 100]])"
      ]
     },
     "execution_count": 73,
     "metadata": {},
     "output_type": "execute_result"
    }
   ],
   "source": [
    "mx[::]"
   ]
  },
  {
   "cell_type": "code",
   "execution_count": 74,
   "id": "331d078f",
   "metadata": {
    "ExecuteTime": {
     "end_time": "2022-12-03T09:57:10.830759Z",
     "start_time": "2022-12-03T09:57:10.816252Z"
    }
   },
   "outputs": [
    {
     "data": {
      "text/plain": [
       "4"
      ]
     },
     "execution_count": 74,
     "metadata": {},
     "output_type": "execute_result"
    }
   ],
   "source": [
    "mx.itemsize"
   ]
  },
  {
   "cell_type": "code",
   "execution_count": 75,
   "id": "90c2dc91",
   "metadata": {
    "ExecuteTime": {
     "end_time": "2022-12-03T09:57:10.846115Z",
     "start_time": "2022-12-03T09:57:10.835629Z"
    }
   },
   "outputs": [
    {
     "data": {
      "text/plain": [
       "dtype('int32')"
      ]
     },
     "execution_count": 75,
     "metadata": {},
     "output_type": "execute_result"
    }
   ],
   "source": [
    "mx.dtype"
   ]
  },
  {
   "cell_type": "code",
   "execution_count": 76,
   "id": "219aa7c7",
   "metadata": {
    "ExecuteTime": {
     "end_time": "2022-12-03T09:57:10.864500Z",
     "start_time": "2022-12-03T09:57:10.846115Z"
    }
   },
   "outputs": [
    {
     "data": {
      "text/plain": [
       "6.0"
      ]
     },
     "execution_count": 76,
     "metadata": {},
     "output_type": "execute_result"
    }
   ],
   "source": [
    "48/8"
   ]
  },
  {
   "cell_type": "markdown",
   "id": "5f86ea4d",
   "metadata": {},
   "source": [
    "# Python Numpy array Concatination and split()"
   ]
  },
  {
   "cell_type": "code",
   "execution_count": 77,
   "id": "23ff151c",
   "metadata": {
    "ExecuteTime": {
     "end_time": "2022-12-03T09:57:10.875329Z",
     "start_time": "2022-12-03T09:57:10.864500Z"
    }
   },
   "outputs": [],
   "source": [
    "import numpy as np"
   ]
  },
  {
   "cell_type": "code",
   "execution_count": 78,
   "id": "e13ba7e7",
   "metadata": {
    "ExecuteTime": {
     "end_time": "2022-12-03T09:57:10.892665Z",
     "start_time": "2022-12-03T09:57:10.875329Z"
    }
   },
   "outputs": [
    {
     "name": "stdout",
     "output_type": "stream",
     "text": [
      "[[ 1  2  3  4]\n",
      " [ 5  6  7  8]\n",
      " [ 9 10 11 12]\n",
      " [13 14 15 16]]\n"
     ]
    }
   ],
   "source": [
    "arr1 = np.arange(1,17).reshape(4,4)\n",
    "print(arr1)"
   ]
  },
  {
   "cell_type": "code",
   "execution_count": 79,
   "id": "dad97ed6",
   "metadata": {
    "ExecuteTime": {
     "end_time": "2022-12-03T09:57:10.908746Z",
     "start_time": "2022-12-03T09:57:10.896324Z"
    }
   },
   "outputs": [
    {
     "name": "stdout",
     "output_type": "stream",
     "text": [
      "[[17 18 19 20]\n",
      " [21 22 23 24]\n",
      " [25 26 27 28]\n",
      " [29 30 31 32]]\n"
     ]
    }
   ],
   "source": [
    "arr2 = np.arange(17,33).reshape(4,4)\n",
    "print(arr2)"
   ]
  },
  {
   "cell_type": "code",
   "execution_count": 80,
   "id": "12f9ac3c",
   "metadata": {
    "ExecuteTime": {
     "end_time": "2022-12-03T09:57:10.934215Z",
     "start_time": "2022-12-03T09:57:10.908746Z"
    }
   },
   "outputs": [
    {
     "data": {
      "text/plain": [
       "array([[ 1,  2,  3,  4],\n",
       "       [ 5,  6,  7,  8],\n",
       "       [ 9, 10, 11, 12],\n",
       "       [13, 14, 15, 16],\n",
       "       [17, 18, 19, 20],\n",
       "       [21, 22, 23, 24],\n",
       "       [25, 26, 27, 28],\n",
       "       [29, 30, 31, 32]])"
      ]
     },
     "execution_count": 80,
     "metadata": {},
     "output_type": "execute_result"
    }
   ],
   "source": [
    "#Concatination\n",
    "np.concatenate((arr1,arr2))"
   ]
  },
  {
   "cell_type": "code",
   "execution_count": 81,
   "id": "03967069",
   "metadata": {
    "ExecuteTime": {
     "end_time": "2022-12-03T09:57:10.952421Z",
     "start_time": "2022-12-03T09:57:10.937125Z"
    }
   },
   "outputs": [
    {
     "data": {
      "text/plain": [
       "array([[ 1,  2,  3,  4, 17, 18, 19, 20],\n",
       "       [ 5,  6,  7,  8, 21, 22, 23, 24],\n",
       "       [ 9, 10, 11, 12, 25, 26, 27, 28],\n",
       "       [13, 14, 15, 16, 29, 30, 31, 32]])"
      ]
     },
     "execution_count": 81,
     "metadata": {},
     "output_type": "execute_result"
    }
   ],
   "source": [
    "np.concatenate((arr1,arr2),axis=1)"
   ]
  },
  {
   "cell_type": "code",
   "execution_count": 82,
   "id": "ef05e663",
   "metadata": {
    "ExecuteTime": {
     "end_time": "2022-12-03T09:57:10.972661Z",
     "start_time": "2022-12-03T09:57:10.954047Z"
    }
   },
   "outputs": [
    {
     "data": {
      "text/plain": [
       "array([[ 1,  2,  3,  4],\n",
       "       [ 5,  6,  7,  8],\n",
       "       [ 9, 10, 11, 12],\n",
       "       [13, 14, 15, 16],\n",
       "       [17, 18, 19, 20],\n",
       "       [21, 22, 23, 24],\n",
       "       [25, 26, 27, 28],\n",
       "       [29, 30, 31, 32]])"
      ]
     },
     "execution_count": 82,
     "metadata": {},
     "output_type": "execute_result"
    }
   ],
   "source": [
    "np.vstack((arr1,arr2))"
   ]
  },
  {
   "cell_type": "code",
   "execution_count": 83,
   "id": "708ea6e3",
   "metadata": {
    "ExecuteTime": {
     "end_time": "2022-12-03T09:57:11.012674Z",
     "start_time": "2022-12-03T09:57:10.988660Z"
    }
   },
   "outputs": [
    {
     "data": {
      "text/plain": [
       "array([[ 1,  2,  3,  4, 17, 18, 19, 20],\n",
       "       [ 5,  6,  7,  8, 21, 22, 23, 24],\n",
       "       [ 9, 10, 11, 12, 25, 26, 27, 28],\n",
       "       [13, 14, 15, 16, 29, 30, 31, 32]])"
      ]
     },
     "execution_count": 83,
     "metadata": {},
     "output_type": "execute_result"
    }
   ],
   "source": [
    "np.hstack((arr1,arr2))"
   ]
  },
  {
   "cell_type": "code",
   "execution_count": 84,
   "id": "ab80f6f8",
   "metadata": {
    "ExecuteTime": {
     "end_time": "2022-12-03T09:57:11.033169Z",
     "start_time": "2022-12-03T09:57:11.012674Z"
    }
   },
   "outputs": [
    {
     "data": {
      "text/plain": [
       "array([[33, 34, 35, 36],\n",
       "       [37, 38, 39, 40],\n",
       "       [41, 42, 43, 44],\n",
       "       [45, 46, 47, 48]])"
      ]
     },
     "execution_count": 84,
     "metadata": {},
     "output_type": "execute_result"
    }
   ],
   "source": [
    "arr3 = np.arange(33,49).reshape(4,4)\n",
    "arr3"
   ]
  },
  {
   "cell_type": "code",
   "execution_count": 85,
   "id": "778cab1c",
   "metadata": {
    "ExecuteTime": {
     "end_time": "2022-12-03T09:57:11.051263Z",
     "start_time": "2022-12-03T09:57:11.037966Z"
    }
   },
   "outputs": [
    {
     "data": {
      "text/plain": [
       "[array([[1, 2, 3, 4],\n",
       "        [5, 6, 7, 8]]),\n",
       " array([[ 9, 10, 11, 12],\n",
       "        [13, 14, 15, 16]])]"
      ]
     },
     "execution_count": 85,
     "metadata": {},
     "output_type": "execute_result"
    }
   ],
   "source": [
    "np.split(arr1,2)"
   ]
  },
  {
   "cell_type": "code",
   "execution_count": 86,
   "id": "ab0d3ba3",
   "metadata": {
    "ExecuteTime": {
     "end_time": "2022-12-03T09:57:11.070677Z",
     "start_time": "2022-12-03T09:57:11.055216Z"
    }
   },
   "outputs": [
    {
     "data": {
      "text/plain": [
       "list"
      ]
     },
     "execution_count": 86,
     "metadata": {},
     "output_type": "execute_result"
    }
   ],
   "source": [
    "list1 = np.split(arr1,2)\n",
    "type(list1)"
   ]
  },
  {
   "cell_type": "code",
   "execution_count": 87,
   "id": "d27e4bbc",
   "metadata": {
    "ExecuteTime": {
     "end_time": "2022-12-03T09:57:11.090885Z",
     "start_time": "2022-12-03T09:57:11.074890Z"
    }
   },
   "outputs": [
    {
     "data": {
      "text/plain": [
       "array([[1, 2, 3, 4],\n",
       "       [5, 6, 7, 8]])"
      ]
     },
     "execution_count": 87,
     "metadata": {},
     "output_type": "execute_result"
    }
   ],
   "source": [
    "list1[0]"
   ]
  },
  {
   "cell_type": "code",
   "execution_count": 88,
   "id": "13f2a56a",
   "metadata": {
    "ExecuteTime": {
     "end_time": "2022-12-03T09:57:11.100895Z",
     "start_time": "2022-12-03T09:57:11.094249Z"
    }
   },
   "outputs": [
    {
     "data": {
      "text/plain": [
       "numpy.ndarray"
      ]
     },
     "execution_count": 88,
     "metadata": {},
     "output_type": "execute_result"
    }
   ],
   "source": [
    "type(list1[0])"
   ]
  },
  {
   "cell_type": "code",
   "execution_count": 89,
   "id": "a19e5e0e",
   "metadata": {
    "ExecuteTime": {
     "end_time": "2022-12-03T09:57:11.121888Z",
     "start_time": "2022-12-03T09:57:11.104608Z"
    }
   },
   "outputs": [
    {
     "data": {
      "text/plain": [
       "[array([[ 1,  2],\n",
       "        [ 5,  6],\n",
       "        [ 9, 10],\n",
       "        [13, 14]]),\n",
       " array([[ 3,  4],\n",
       "        [ 7,  8],\n",
       "        [11, 12],\n",
       "        [15, 16]])]"
      ]
     },
     "execution_count": 89,
     "metadata": {},
     "output_type": "execute_result"
    }
   ],
   "source": [
    "np.split(arr1,2,axis=1)"
   ]
  },
  {
   "cell_type": "code",
   "execution_count": 90,
   "id": "ac8842e8",
   "metadata": {
    "ExecuteTime": {
     "end_time": "2022-12-03T09:57:11.137978Z",
     "start_time": "2022-12-03T09:57:11.121888Z"
    }
   },
   "outputs": [],
   "source": [
    "_1d = np.array([4,5,6,7,8])"
   ]
  },
  {
   "cell_type": "code",
   "execution_count": 91,
   "id": "0238f83d",
   "metadata": {
    "ExecuteTime": {
     "end_time": "2022-12-03T09:57:11.153629Z",
     "start_time": "2022-12-03T09:57:11.137978Z"
    }
   },
   "outputs": [
    {
     "data": {
      "text/plain": [
       "[array([4]), array([5, 6]), array([7, 8])]"
      ]
     },
     "execution_count": 91,
     "metadata": {},
     "output_type": "execute_result"
    }
   ],
   "source": [
    "np.split(_1d,[1,3])"
   ]
  },
  {
   "cell_type": "markdown",
   "id": "423a0de7",
   "metadata": {},
   "source": [
    "# Find trigonometry sin(), cos(), and tan() using Numpy trigonometry functions"
   ]
  },
  {
   "cell_type": "code",
   "execution_count": 92,
   "id": "afe7e167",
   "metadata": {
    "ExecuteTime": {
     "end_time": "2022-12-03T09:57:13.086968Z",
     "start_time": "2022-12-03T09:57:11.153629Z"
    }
   },
   "outputs": [],
   "source": [
    "import matplotlib.pyplot as plt\n",
    "import numpy as np"
   ]
  },
  {
   "cell_type": "code",
   "execution_count": 93,
   "id": "c8af160d",
   "metadata": {
    "ExecuteTime": {
     "end_time": "2022-12-03T09:57:13.105576Z",
     "start_time": "2022-12-03T09:57:13.090548Z"
    }
   },
   "outputs": [
    {
     "data": {
      "text/plain": [
       "-0.8011526357338304"
      ]
     },
     "execution_count": 93,
     "metadata": {},
     "output_type": "execute_result"
    }
   ],
   "source": [
    "np.sin(180)"
   ]
  },
  {
   "cell_type": "code",
   "execution_count": 94,
   "id": "5a110eea",
   "metadata": {
    "ExecuteTime": {
     "end_time": "2022-12-03T09:57:13.128248Z",
     "start_time": "2022-12-03T09:57:13.108506Z"
    }
   },
   "outputs": [
    {
     "data": {
      "text/plain": [
       "1.2246467991473532e-16"
      ]
     },
     "execution_count": 94,
     "metadata": {},
     "output_type": "execute_result"
    }
   ],
   "source": [
    "np.sin(180 *  np.pi/180)"
   ]
  },
  {
   "cell_type": "code",
   "execution_count": 95,
   "id": "6dc9a190",
   "metadata": {
    "ExecuteTime": {
     "end_time": "2022-12-03T09:57:13.148416Z",
     "start_time": "2022-12-03T09:57:13.132006Z"
    }
   },
   "outputs": [
    {
     "data": {
      "text/plain": [
       "0.8939966636005579"
      ]
     },
     "execution_count": 95,
     "metadata": {},
     "output_type": "execute_result"
    }
   ],
   "source": [
    "np.sin(90)"
   ]
  },
  {
   "cell_type": "code",
   "execution_count": 96,
   "id": "b4b01948",
   "metadata": {
    "ExecuteTime": {
     "end_time": "2022-12-03T09:57:13.177149Z",
     "start_time": "2022-12-03T09:57:13.152039Z"
    }
   },
   "outputs": [
    {
     "data": {
      "text/plain": [
       "-0.5984600690578581"
      ]
     },
     "execution_count": 96,
     "metadata": {},
     "output_type": "execute_result"
    }
   ],
   "source": [
    "np.cos(180)"
   ]
  },
  {
   "cell_type": "code",
   "execution_count": 97,
   "id": "bb0c3ec8",
   "metadata": {
    "ExecuteTime": {
     "end_time": "2022-12-03T09:57:13.194115Z",
     "start_time": "2022-12-03T09:57:13.177208Z"
    }
   },
   "outputs": [
    {
     "data": {
      "text/plain": [
       "1.3386902103511544"
      ]
     },
     "execution_count": 97,
     "metadata": {},
     "output_type": "execute_result"
    }
   ],
   "source": [
    "np.tan(180)"
   ]
  },
  {
   "cell_type": "code",
   "execution_count": 98,
   "id": "3ca302f1",
   "metadata": {
    "ExecuteTime": {
     "end_time": "2022-12-03T09:57:13.213715Z",
     "start_time": "2022-12-03T09:57:13.194115Z"
    }
   },
   "outputs": [
    {
     "name": "stdout",
     "output_type": "stream",
     "text": [
      "[0.  0.1 0.2 0.3 0.4 0.5 0.6 0.7 0.8 0.9 1.  1.1 1.2 1.3 1.4 1.5 1.6 1.7\n",
      " 1.8 1.9 2.  2.1 2.2 2.3 2.4 2.5 2.6 2.7 2.8 2.9 3.  3.1 3.2 3.3 3.4 3.5\n",
      " 3.6 3.7 3.8 3.9 4.  4.1 4.2 4.3 4.4 4.5 4.6 4.7 4.8 4.9 5.  5.1 5.2 5.3\n",
      " 5.4 5.5 5.6 5.7 5.8 5.9 6.  6.1 6.2 6.3 6.4 6.5 6.6 6.7 6.8 6.9 7.  7.1\n",
      " 7.2 7.3 7.4 7.5 7.6 7.7 7.8 7.9 8.  8.1 8.2 8.3 8.4 8.5 8.6 8.7 8.8 8.9\n",
      " 9.  9.1 9.2 9.3 9.4]\n"
     ]
    }
   ],
   "source": [
    "x_sin = np.arange(0,3*np.pi,0.1)\n",
    "print(x_sin)"
   ]
  },
  {
   "cell_type": "code",
   "execution_count": 99,
   "id": "c115328b",
   "metadata": {
    "ExecuteTime": {
     "end_time": "2022-12-03T09:57:13.234253Z",
     "start_time": "2022-12-03T09:57:13.213715Z"
    }
   },
   "outputs": [
    {
     "name": "stdout",
     "output_type": "stream",
     "text": [
      "[ 0.          0.09983342  0.19866933  0.29552021  0.38941834  0.47942554\n",
      "  0.56464247  0.64421769  0.71735609  0.78332691  0.84147098  0.89120736\n",
      "  0.93203909  0.96355819  0.98544973  0.99749499  0.9995736   0.99166481\n",
      "  0.97384763  0.94630009  0.90929743  0.86320937  0.8084964   0.74570521\n",
      "  0.67546318  0.59847214  0.51550137  0.42737988  0.33498815  0.23924933\n",
      "  0.14112001  0.04158066 -0.05837414 -0.15774569 -0.2555411  -0.35078323\n",
      " -0.44252044 -0.52983614 -0.61185789 -0.68776616 -0.7568025  -0.81827711\n",
      " -0.87157577 -0.91616594 -0.95160207 -0.97753012 -0.993691   -0.99992326\n",
      " -0.99616461 -0.98245261 -0.95892427 -0.92581468 -0.88345466 -0.83226744\n",
      " -0.77276449 -0.70554033 -0.63126664 -0.55068554 -0.46460218 -0.37387666\n",
      " -0.2794155  -0.1821625  -0.0830894   0.0168139   0.1165492   0.21511999\n",
      "  0.31154136  0.40484992  0.49411335  0.57843976  0.6569866   0.72896904\n",
      "  0.79366786  0.85043662  0.8987081   0.93799998  0.96791967  0.98816823\n",
      "  0.99854335  0.99894134  0.98935825  0.96988981  0.94073056  0.90217183\n",
      "  0.85459891  0.79848711  0.7343971   0.66296923  0.58491719  0.50102086\n",
      "  0.41211849  0.31909836  0.22288991  0.12445442  0.02477543]\n"
     ]
    }
   ],
   "source": [
    "y_sin = np.sin(x_sin)\n",
    "print(y_sin)"
   ]
  },
  {
   "cell_type": "code",
   "execution_count": 100,
   "id": "1321a7a8",
   "metadata": {
    "ExecuteTime": {
     "end_time": "2022-12-03T09:57:13.590052Z",
     "start_time": "2022-12-03T09:57:13.238356Z"
    }
   },
   "outputs": [
    {
     "data": {
      "image/png": "[encoded data removed]",
      "text/plain": [
       "<Figure size 432x288 with 1 Axes>"
      ]
     },
     "metadata": {
      "needs_background": "light"
     },
     "output_type": "display_data"
    }
   ],
   "source": [
    "plt.plot(x_sin,y_sin)\n",
    "plt.show()"
   ]
  },
  {
   "cell_type": "code",
   "execution_count": 101,
   "id": "08982e05",
   "metadata": {
    "ExecuteTime": {
     "end_time": "2022-12-03T09:57:13.599880Z",
     "start_time": "2022-12-03T09:57:13.593301Z"
    }
   },
   "outputs": [
    {
     "name": "stdout",
     "output_type": "stream",
     "text": [
      "[ 1.          0.99500417  0.98006658  0.95533649  0.92106099  0.87758256\n",
      "  0.82533561  0.76484219  0.69670671  0.62160997  0.54030231  0.45359612\n",
      "  0.36235775  0.26749883  0.16996714  0.0707372  -0.02919952 -0.12884449\n",
      " -0.22720209 -0.32328957 -0.41614684 -0.5048461  -0.58850112 -0.66627602\n",
      " -0.73739372 -0.80114362 -0.85688875 -0.90407214 -0.94222234 -0.97095817\n",
      " -0.9899925  -0.99913515 -0.99829478 -0.98747977 -0.96679819 -0.93645669\n",
      " -0.89675842 -0.84810003 -0.79096771 -0.7259323  -0.65364362 -0.57482395\n",
      " -0.49026082 -0.40079917 -0.30733287 -0.2107958  -0.11215253 -0.01238866\n",
      "  0.08749898  0.18651237  0.28366219  0.37797774  0.46851667  0.55437434\n",
      "  0.63469288  0.70866977  0.77556588  0.83471278  0.88551952  0.92747843\n",
      "  0.96017029  0.98326844  0.9965421   0.99985864  0.99318492  0.97658763\n",
      "  0.95023259  0.91438315  0.86939749  0.8157251   0.75390225  0.68454667\n",
      "  0.60835131  0.52607752  0.43854733  0.34663532  0.25125984  0.15337386\n",
      "  0.05395542 -0.04600213 -0.14550003 -0.24354415 -0.33915486 -0.43137684\n",
      " -0.51928865 -0.6020119  -0.67872005 -0.74864665 -0.81109301 -0.86543521\n",
      " -0.91113026 -0.9477216  -0.97484362 -0.99222533 -0.99969304]\n"
     ]
    }
   ],
   "source": [
    "y_cos = np.cos(x_sin)\n",
    "print(y_cos)"
   ]
  },
  {
   "cell_type": "code",
   "execution_count": 102,
   "id": "482b792f",
   "metadata": {
    "ExecuteTime": {
     "end_time": "2022-12-03T09:57:13.810091Z",
     "start_time": "2022-12-03T09:57:13.601799Z"
    }
   },
   "outputs": [
    {
     "data": {
      "image/png": "[encoded data removed]",
      "text/plain": [
       "<Figure size 432x288 with 1 Axes>"
      ]
     },
     "metadata": {
      "needs_background": "light"
     },
     "output_type": "display_data"
    }
   ],
   "source": [
    "plt.plot(x_sin,y_cos)\n",
    "plt.show()"
   ]
  },
  {
   "cell_type": "code",
   "execution_count": 103,
   "id": "74572b6f",
   "metadata": {
    "ExecuteTime": {
     "end_time": "2022-12-03T09:57:13.828314Z",
     "start_time": "2022-12-03T09:57:13.810091Z"
    }
   },
   "outputs": [
    {
     "name": "stdout",
     "output_type": "stream",
     "text": [
      "[ 0.00000000e+00  1.00334672e-01  2.02710036e-01  3.09336250e-01\n",
      "  4.22793219e-01  5.46302490e-01  6.84136808e-01  8.42288380e-01\n",
      "  1.02963856e+00  1.26015822e+00  1.55740772e+00  1.96475966e+00\n",
      "  2.57215162e+00  3.60210245e+00  5.79788372e+00  1.41014199e+01\n",
      " -3.42325327e+01 -7.69660214e+00 -4.28626167e+00 -2.92709751e+00\n",
      " -2.18503986e+00 -1.70984654e+00 -1.37382306e+00 -1.11921364e+00\n",
      " -9.16014290e-01 -7.47022297e-01 -6.01596613e-01 -4.72727629e-01\n",
      " -3.55529832e-01 -2.46405394e-01 -1.42546543e-01 -4.16166546e-02\n",
      "  5.84738545e-02  1.59745748e-01  2.64316901e-01  3.74585640e-01\n",
      "  4.93466730e-01  6.24733075e-01  7.73556091e-01  9.47424650e-01\n",
      "  1.15782128e+00  1.42352648e+00  1.77777977e+00  2.28584788e+00\n",
      "  3.09632378e+00  4.63733205e+00  8.86017490e+00  8.07127630e+01\n",
      " -1.13848707e+01 -5.26749307e+00 -3.38051501e+00 -2.44938942e+00\n",
      " -1.88564188e+00 -1.50127340e+00 -1.21754082e+00 -9.95584052e-01\n",
      " -8.13943284e-01 -6.59730572e-01 -5.24666222e-01 -4.03110900e-01\n",
      " -2.91006191e-01 -1.85262231e-01 -8.33777149e-02  1.68162777e-02\n",
      "  1.17348947e-01  2.20277200e-01  3.27858007e-01  4.42757417e-01\n",
      "  5.68339979e-01  7.09111151e-01  8.71447983e-01  1.06489313e+00\n",
      "  1.30462094e+00  1.61656142e+00  2.04928417e+00  2.70601387e+00\n",
      "  3.85226569e+00  6.44287247e+00  1.85068216e+01 -2.17151127e+01\n",
      " -6.79971146e+00 -3.98239825e+00 -2.77374930e+00 -2.09137751e+00\n",
      " -1.64571073e+00 -1.32636433e+00 -1.08203242e+00 -8.85556937e-01\n",
      " -7.21146876e-01 -5.78923588e-01 -4.52315659e-01 -3.36700526e-01\n",
      " -2.28641712e-01 -1.25429598e-01 -2.47830328e-02]\n"
     ]
    }
   ],
   "source": [
    "y_tan = np.tan(x_sin)\n",
    "print(y_tan)"
   ]
  },
  {
   "cell_type": "code",
   "execution_count": 104,
   "id": "9014fde0",
   "metadata": {
    "ExecuteTime": {
     "end_time": "2022-12-03T09:57:14.024340Z",
     "start_time": "2022-12-03T09:57:13.829114Z"
    }
   },
   "outputs": [
    {
     "data": {
      "image/png": "[encoded data removed]",
      "text/plain": [
       "<Figure size 432x288 with 1 Axes>"
      ]
     },
     "metadata": {
      "needs_background": "light"
     },
     "output_type": "display_data"
    }
   ],
   "source": [
    "plt.plot(x_sin,y_tan)\n",
    "plt.show()"
   ]
  },
  {
   "cell_type": "markdown",
   "id": "6721328d",
   "metadata": {},
   "source": [
    "# Random Sampling with Numpy"
   ]
  },
  {
   "cell_type": "code",
   "execution_count": 105,
   "id": "15c61f87",
   "metadata": {
    "ExecuteTime": {
     "end_time": "2022-12-03T09:57:14.034009Z",
     "start_time": "2022-12-03T09:57:14.028153Z"
    }
   },
   "outputs": [],
   "source": [
    "import numpy as np\n",
    "import random"
   ]
  },
  {
   "cell_type": "code",
   "execution_count": 106,
   "id": "fc7b0d28",
   "metadata": {
    "ExecuteTime": {
     "end_time": "2022-12-03T09:57:14.059686Z",
     "start_time": "2022-12-03T09:57:14.038006Z"
    }
   },
   "outputs": [
    {
     "data": {
      "text/plain": [
       "array([0.53565126])"
      ]
     },
     "execution_count": 106,
     "metadata": {},
     "output_type": "execute_result"
    }
   ],
   "source": [
    "np.random.random(1)"
   ]
  },
  {
   "cell_type": "code",
   "execution_count": 107,
   "id": "a520cac8",
   "metadata": {
    "ExecuteTime": {
     "end_time": "2022-12-03T09:57:14.080294Z",
     "start_time": "2022-12-03T09:57:14.063298Z"
    }
   },
   "outputs": [
    {
     "data": {
      "text/plain": [
       "array([[0.71484157, 0.85206543, 0.10501713, 0.9800825 ],\n",
       "       [0.0365666 , 0.116431  , 0.98073025, 0.44879549],\n",
       "       [0.18871811, 0.59893409, 0.84379686, 0.16585085]])"
      ]
     },
     "execution_count": 107,
     "metadata": {},
     "output_type": "execute_result"
    }
   ],
   "source": [
    "np.random.random((3,4))"
   ]
  },
  {
   "cell_type": "code",
   "execution_count": 108,
   "id": "54d8cc02",
   "metadata": {
    "ExecuteTime": {
     "end_time": "2022-12-03T09:57:14.101403Z",
     "start_time": "2022-12-03T09:57:14.080294Z"
    }
   },
   "outputs": [
    {
     "data": {
      "text/plain": [
       "array([[1, 2, 1, 1],\n",
       "       [2, 2, 2, 1],\n",
       "       [1, 1, 2, 3],\n",
       "       [1, 3, 1, 1]])"
      ]
     },
     "execution_count": 108,
     "metadata": {},
     "output_type": "execute_result"
    }
   ],
   "source": [
    "np.random.randint(1,4,(4,4))"
   ]
  },
  {
   "cell_type": "code",
   "execution_count": 109,
   "id": "e3eae2ba",
   "metadata": {
    "ExecuteTime": {
     "end_time": "2022-12-03T09:57:14.123097Z",
     "start_time": "2022-12-03T09:57:14.105341Z"
    }
   },
   "outputs": [
    {
     "data": {
      "text/plain": [
       "array([[[1, 2, 1, 1],\n",
       "        [2, 1, 1, 1],\n",
       "        [1, 3, 3, 3],\n",
       "        [3, 2, 3, 3]],\n",
       "\n",
       "       [[3, 2, 3, 3],\n",
       "        [2, 2, 2, 3],\n",
       "        [2, 1, 2, 1],\n",
       "        [1, 2, 3, 1]],\n",
       "\n",
       "       [[1, 2, 2, 1],\n",
       "        [3, 1, 1, 3],\n",
       "        [3, 1, 3, 2],\n",
       "        [1, 3, 2, 2]]])"
      ]
     },
     "execution_count": 109,
     "metadata": {},
     "output_type": "execute_result"
    }
   ],
   "source": [
    "np.random.randint(1,4,(3,4,4))"
   ]
  },
  {
   "cell_type": "code",
   "execution_count": 110,
   "id": "ea927ed8",
   "metadata": {
    "ExecuteTime": {
     "end_time": "2022-12-03T09:57:14.142910Z",
     "start_time": "2022-12-03T09:57:14.123097Z"
    }
   },
   "outputs": [
    {
     "data": {
      "text/plain": [
       "array([[[2, 2, 1, 1],\n",
       "        [2, 1, 2, 2],\n",
       "        [1, 2, 2, 3],\n",
       "        [1, 2, 1, 3]],\n",
       "\n",
       "       [[1, 3, 1, 1],\n",
       "        [1, 3, 1, 3],\n",
       "        [3, 2, 1, 1],\n",
       "        [3, 2, 3, 2]],\n",
       "\n",
       "       [[2, 2, 2, 3],\n",
       "        [2, 1, 3, 3],\n",
       "        [3, 2, 1, 2],\n",
       "        [2, 1, 3, 2]]])"
      ]
     },
     "execution_count": 110,
     "metadata": {},
     "output_type": "execute_result"
    }
   ],
   "source": [
    "np.random.seed(10)\n",
    "np.random.randint(1,4,(3,4,4))"
   ]
  },
  {
   "cell_type": "code",
   "execution_count": 111,
   "id": "45900f50",
   "metadata": {
    "ExecuteTime": {
     "end_time": "2022-12-03T09:57:14.161589Z",
     "start_time": "2022-12-03T09:57:14.142910Z"
    }
   },
   "outputs": [
    {
     "data": {
      "text/plain": [
       "array([0.60103895, 0.8052232 , 0.52164715])"
      ]
     },
     "execution_count": 111,
     "metadata": {},
     "output_type": "execute_result"
    }
   ],
   "source": [
    "np.random.rand(3)"
   ]
  },
  {
   "cell_type": "code",
   "execution_count": 112,
   "id": "9a8935af",
   "metadata": {
    "ExecuteTime": {
     "end_time": "2022-12-03T09:57:14.189191Z",
     "start_time": "2022-12-03T09:57:14.161589Z"
    }
   },
   "outputs": [
    {
     "data": {
      "text/plain": [
       "array([[0.90864888, 0.31923609],\n",
       "       [0.09045935, 0.30070006],\n",
       "       [0.11398436, 0.82868133]])"
      ]
     },
     "execution_count": 112,
     "metadata": {},
     "output_type": "execute_result"
    }
   ],
   "source": [
    "np.random.rand(3,2)"
   ]
  },
  {
   "cell_type": "code",
   "execution_count": 113,
   "id": "ac7b0b08",
   "metadata": {
    "ExecuteTime": {
     "end_time": "2022-12-03T09:57:14.211530Z",
     "start_time": "2022-12-03T09:57:14.189191Z"
    }
   },
   "outputs": [
    {
     "data": {
      "text/plain": [
       "array([[ 0.1327083 , -0.47614201,  1.30847308],\n",
       "       [ 0.19501328,  0.40020999, -0.33763234],\n",
       "       [ 1.25647226, -0.7319695 ,  0.66023155]])"
      ]
     },
     "execution_count": 113,
     "metadata": {},
     "output_type": "execute_result"
    }
   ],
   "source": [
    "#Std norm dist\n",
    "np.random.randn(3,3)"
   ]
  },
  {
   "cell_type": "code",
   "execution_count": 114,
   "id": "c04057d5",
   "metadata": {
    "ExecuteTime": {
     "end_time": "2022-12-03T09:57:14.233642Z",
     "start_time": "2022-12-03T09:57:14.211530Z"
    }
   },
   "outputs": [
    {
     "data": {
      "text/plain": [
       "4"
      ]
     },
     "execution_count": 114,
     "metadata": {},
     "output_type": "execute_result"
    }
   ],
   "source": [
    "x = [1,2,3,4]\n",
    "np.random.choice(x)"
   ]
  },
  {
   "cell_type": "code",
   "execution_count": 115,
   "id": "0c46d591",
   "metadata": {
    "ExecuteTime": {
     "end_time": "2022-12-03T09:57:14.251986Z",
     "start_time": "2022-12-03T09:57:14.235631Z"
    }
   },
   "outputs": [
    {
     "name": "stdout",
     "output_type": "stream",
     "text": [
      "2\n",
      "1\n",
      "4\n",
      "2\n",
      "3\n",
      "3\n",
      "2\n",
      "3\n",
      "3\n",
      "4\n"
     ]
    }
   ],
   "source": [
    "for i in range(10):\n",
    "    print(np.random.choice(x))"
   ]
  },
  {
   "cell_type": "code",
   "execution_count": 116,
   "id": "cad442a6",
   "metadata": {
    "ExecuteTime": {
     "end_time": "2022-12-03T09:57:14.275960Z",
     "start_time": "2022-12-03T09:57:14.254869Z"
    }
   },
   "outputs": [
    {
     "data": {
      "text/plain": [
       "array([2, 3, 4, 1])"
      ]
     },
     "execution_count": 116,
     "metadata": {},
     "output_type": "execute_result"
    }
   ],
   "source": [
    "np.random.permutation(x)"
   ]
  },
  {
   "cell_type": "code",
   "execution_count": 117,
   "id": "0dd7923b",
   "metadata": {
    "ExecuteTime": {
     "end_time": "2022-12-03T09:57:14.284290Z",
     "start_time": "2022-12-03T09:57:14.276456Z"
    }
   },
   "outputs": [],
   "source": [
    "#np.random.shuffle(x)"
   ]
  },
  {
   "cell_type": "markdown",
   "id": "839a6463",
   "metadata": {},
   "source": [
    "# String Operation, Comparision, and information"
   ]
  },
  {
   "cell_type": "code",
   "execution_count": 118,
   "id": "cdd867aa",
   "metadata": {
    "ExecuteTime": {
     "end_time": "2022-12-03T09:57:14.293631Z",
     "start_time": "2022-12-03T09:57:14.289196Z"
    }
   },
   "outputs": [],
   "source": [
    "import numpy as np"
   ]
  },
  {
   "cell_type": "code",
   "execution_count": 119,
   "id": "df96dc9d",
   "metadata": {
    "ExecuteTime": {
     "end_time": "2022-12-03T09:57:14.313087Z",
     "start_time": "2022-12-03T09:57:14.294738Z"
    }
   },
   "outputs": [],
   "source": [
    "pip = \"Python\"\n",
    "lib = \"Numpy\""
   ]
  },
  {
   "cell_type": "code",
   "execution_count": 120,
   "id": "a38d893d",
   "metadata": {
    "ExecuteTime": {
     "end_time": "2022-12-03T09:57:14.338483Z",
     "start_time": "2022-12-03T09:57:14.313087Z"
    }
   },
   "outputs": [
    {
     "data": {
      "text/plain": [
       "array('PythonNumpy', dtype='<U11')"
      ]
     },
     "execution_count": 120,
     "metadata": {},
     "output_type": "execute_result"
    }
   ],
   "source": [
    "np.char.add(pip,lib)"
   ]
  },
  {
   "cell_type": "code",
   "execution_count": 121,
   "id": "7cd02ba3",
   "metadata": {
    "ExecuteTime": {
     "end_time": "2022-12-03T09:57:14.363137Z",
     "start_time": "2022-12-03T09:57:14.342049Z"
    }
   },
   "outputs": [
    {
     "data": {
      "text/plain": [
       "array('python', dtype='<U6')"
      ]
     },
     "execution_count": 121,
     "metadata": {},
     "output_type": "execute_result"
    }
   ],
   "source": [
    "np.char.lower(pip)"
   ]
  },
  {
   "cell_type": "code",
   "execution_count": 122,
   "id": "6f71fbdf",
   "metadata": {
    "ExecuteTime": {
     "end_time": "2022-12-03T09:57:14.380885Z",
     "start_time": "2022-12-03T09:57:14.367589Z"
    }
   },
   "outputs": [
    {
     "data": {
      "text/plain": [
       "array('NUMPY', dtype='<U5')"
      ]
     },
     "execution_count": 122,
     "metadata": {},
     "output_type": "execute_result"
    }
   ],
   "source": [
    "np.char.upper(lib)"
   ]
  },
  {
   "cell_type": "code",
   "execution_count": 123,
   "id": "dff233ea",
   "metadata": {
    "ExecuteTime": {
     "end_time": "2022-12-03T09:57:14.399938Z",
     "start_time": "2022-12-03T09:57:14.384317Z"
    }
   },
   "outputs": [
    {
     "data": {
      "text/plain": [
       "array('___________________________________Numpy___________________________________',\n",
       "      dtype='<U75')"
      ]
     },
     "execution_count": 123,
     "metadata": {},
     "output_type": "execute_result"
    }
   ],
   "source": [
    "np.char.center(lib,75,fillchar=\"_\")"
   ]
  },
  {
   "cell_type": "code",
   "execution_count": 124,
   "id": "84afcda0",
   "metadata": {
    "ExecuteTime": {
     "end_time": "2022-12-03T09:57:14.416170Z",
     "start_time": "2022-12-03T09:57:14.402652Z"
    }
   },
   "outputs": [],
   "source": [
    "#Split\n",
    "pack = \"Python numpy learning\""
   ]
  },
  {
   "cell_type": "code",
   "execution_count": 125,
   "id": "6c956417",
   "metadata": {
    "ExecuteTime": {
     "end_time": "2022-12-03T09:57:14.434700Z",
     "start_time": "2022-12-03T09:57:14.418075Z"
    }
   },
   "outputs": [
    {
     "data": {
      "text/plain": [
       "array(list(['Python', 'numpy', 'learning']), dtype=object)"
      ]
     },
     "execution_count": 125,
     "metadata": {},
     "output_type": "execute_result"
    }
   ],
   "source": [
    "np.char.split(pack)"
   ]
  },
  {
   "cell_type": "code",
   "execution_count": 126,
   "id": "8152ed59",
   "metadata": {
    "ExecuteTime": {
     "end_time": "2022-12-03T09:57:14.454259Z",
     "start_time": "2022-12-03T09:57:14.434700Z"
    }
   },
   "outputs": [
    {
     "data": {
      "text/plain": [
       "array(list(['Numpy', 'Python']), dtype=object)"
      ]
     },
     "execution_count": 126,
     "metadata": {},
     "output_type": "execute_result"
    }
   ],
   "source": [
    "np.char.splitlines(\"Numpy\\nPython\")"
   ]
  },
  {
   "cell_type": "code",
   "execution_count": 127,
   "id": "7cbb8285",
   "metadata": {
    "ExecuteTime": {
     "end_time": "2022-12-03T09:57:14.467631Z",
     "start_time": "2022-12-03T09:57:14.454259Z"
    }
   },
   "outputs": [
    {
     "data": {
      "text/plain": [
       "array(['d:m:y', 'd/m/y'], dtype='<U5')"
      ]
     },
     "execution_count": 127,
     "metadata": {},
     "output_type": "execute_result"
    }
   ],
   "source": [
    "str1 = \"dmy\"\n",
    "str2 = \"dmy\"\n",
    "np.char.join([':',\"/\"],[str1,str2])"
   ]
  },
  {
   "cell_type": "code",
   "execution_count": 128,
   "id": "33128815",
   "metadata": {
    "ExecuteTime": {
     "end_time": "2022-12-03T09:57:14.486651Z",
     "start_time": "2022-12-03T09:57:14.468128Z"
    }
   },
   "outputs": [
    {
     "data": {
      "text/plain": [
       "array('Python numpy learning', dtype='<U21')"
      ]
     },
     "execution_count": 128,
     "metadata": {},
     "output_type": "execute_result"
    }
   ],
   "source": [
    "np.char.replace(pack,\"Learning\",\"Participation\")"
   ]
  },
  {
   "cell_type": "code",
   "execution_count": 129,
   "id": "210ba116",
   "metadata": {
    "ExecuteTime": {
     "end_time": "2022-12-03T09:57:14.503108Z",
     "start_time": "2022-12-03T09:57:14.486651Z"
    }
   },
   "outputs": [
    {
     "data": {
      "text/plain": [
       "array(True)"
      ]
     },
     "execution_count": 129,
     "metadata": {},
     "output_type": "execute_result"
    }
   ],
   "source": [
    "np.char.equal(str1,str2)"
   ]
  },
  {
   "cell_type": "code",
   "execution_count": 130,
   "id": "3e420fd8",
   "metadata": {
    "ExecuteTime": {
     "end_time": "2022-12-03T09:57:14.525747Z",
     "start_time": "2022-12-03T09:57:14.505032Z"
    }
   },
   "outputs": [
    {
     "data": {
      "text/plain": [
       "array(4)"
      ]
     },
     "execution_count": 130,
     "metadata": {},
     "output_type": "execute_result"
    }
   ],
   "source": [
    "np.char.count(pack,\"n\")"
   ]
  },
  {
   "cell_type": "code",
   "execution_count": 131,
   "id": "6e50285a",
   "metadata": {
    "ExecuteTime": {
     "end_time": "2022-12-03T09:57:14.543338Z",
     "start_time": "2022-12-03T09:57:14.527646Z"
    }
   },
   "outputs": [
    {
     "data": {
      "text/plain": [
       "array(-1)"
      ]
     },
     "execution_count": 131,
     "metadata": {},
     "output_type": "execute_result"
    }
   ],
   "source": [
    "np.char.find(pack,\"N\")"
   ]
  },
  {
   "cell_type": "markdown",
   "id": "37e38da4",
   "metadata": {},
   "source": [
    "# CampusX"
   ]
  },
  {
   "cell_type": "code",
   "execution_count": 132,
   "id": "0ed5d46a",
   "metadata": {
    "ExecuteTime": {
     "end_time": "2022-12-03T09:57:14.559290Z",
     "start_time": "2022-12-03T09:57:14.543338Z"
    }
   },
   "outputs": [],
   "source": [
    "import numpy as np"
   ]
  },
  {
   "cell_type": "code",
   "execution_count": 133,
   "id": "2891bab0",
   "metadata": {
    "ExecuteTime": {
     "end_time": "2022-12-03T09:57:14.580132Z",
     "start_time": "2022-12-03T09:57:14.562572Z"
    }
   },
   "outputs": [
    {
     "data": {
      "text/plain": [
       "array([1, 2, 3, 4, 5])"
      ]
     },
     "execution_count": 133,
     "metadata": {},
     "output_type": "execute_result"
    }
   ],
   "source": [
    "arr1 = np.array([1,2,3,4,5])\n",
    "arr1"
   ]
  },
  {
   "cell_type": "code",
   "execution_count": 134,
   "id": "5f9aa325",
   "metadata": {
    "ExecuteTime": {
     "end_time": "2022-12-03T09:57:14.596595Z",
     "start_time": "2022-12-03T09:57:14.584505Z"
    }
   },
   "outputs": [
    {
     "data": {
      "text/plain": [
       "numpy.ndarray"
      ]
     },
     "execution_count": 134,
     "metadata": {},
     "output_type": "execute_result"
    }
   ],
   "source": [
    "type(arr1)"
   ]
  },
  {
   "cell_type": "code",
   "execution_count": 135,
   "id": "ba9d36e4",
   "metadata": {
    "ExecuteTime": {
     "end_time": "2022-12-03T09:57:14.617953Z",
     "start_time": "2022-12-03T09:57:14.601021Z"
    }
   },
   "outputs": [
    {
     "data": {
      "text/plain": [
       "array([[1, 3, 5],\n",
       "       [2, 4, 6]])"
      ]
     },
     "execution_count": 135,
     "metadata": {},
     "output_type": "execute_result"
    }
   ],
   "source": [
    "arr2 = np.array([[1,3,5],[2,4,6]])\n",
    "arr2"
   ]
  },
  {
   "cell_type": "code",
   "execution_count": 136,
   "id": "67548a3f",
   "metadata": {
    "ExecuteTime": {
     "end_time": "2022-12-03T09:57:14.635539Z",
     "start_time": "2022-12-03T09:57:14.618452Z"
    }
   },
   "outputs": [
    {
     "data": {
      "text/plain": [
       "array([[0., 0., 0.],\n",
       "       [0., 0., 0.]])"
      ]
     },
     "execution_count": 136,
     "metadata": {},
     "output_type": "execute_result"
    }
   ],
   "source": [
    "arr3 = np.zeros((2,3))\n",
    "arr3"
   ]
  },
  {
   "cell_type": "code",
   "execution_count": 137,
   "id": "bf267a93",
   "metadata": {
    "ExecuteTime": {
     "end_time": "2022-12-03T09:57:14.648327Z",
     "start_time": "2022-12-03T09:57:14.635539Z"
    }
   },
   "outputs": [
    {
     "data": {
      "text/plain": [
       "array([[1., 1., 1., 1.],\n",
       "       [1., 1., 1., 1.],\n",
       "       [1., 1., 1., 1.]])"
      ]
     },
     "execution_count": 137,
     "metadata": {},
     "output_type": "execute_result"
    }
   ],
   "source": [
    "arr4 = np.ones((3,4))\n",
    "arr4"
   ]
  },
  {
   "cell_type": "code",
   "execution_count": 138,
   "id": "a2914d6c",
   "metadata": {
    "ExecuteTime": {
     "end_time": "2022-12-03T09:57:14.669510Z",
     "start_time": "2022-12-03T09:57:14.651682Z"
    }
   },
   "outputs": [
    {
     "data": {
      "text/plain": [
       "array([[1., 0., 0., 0., 0.],\n",
       "       [0., 1., 0., 0., 0.],\n",
       "       [0., 0., 1., 0., 0.],\n",
       "       [0., 0., 0., 1., 0.],\n",
       "       [0., 0., 0., 0., 1.]])"
      ]
     },
     "execution_count": 138,
     "metadata": {},
     "output_type": "execute_result"
    }
   ],
   "source": [
    "arr5 = np.identity((5))\n",
    "arr5"
   ]
  },
  {
   "cell_type": "code",
   "execution_count": 139,
   "id": "5e9e1229",
   "metadata": {
    "ExecuteTime": {
     "end_time": "2022-12-03T09:57:14.688653Z",
     "start_time": "2022-12-03T09:57:14.669510Z"
    }
   },
   "outputs": [
    {
     "data": {
      "text/plain": [
       "array([ 7,  9, 11, 13, 15, 17])"
      ]
     },
     "execution_count": 139,
     "metadata": {},
     "output_type": "execute_result"
    }
   ],
   "source": [
    "arr6 = np.arange(7,19,2)\n",
    "arr6"
   ]
  },
  {
   "cell_type": "code",
   "execution_count": 140,
   "id": "ed5a35a5",
   "metadata": {
    "ExecuteTime": {
     "end_time": "2022-12-03T09:57:14.701048Z",
     "start_time": "2022-12-03T09:57:14.688653Z"
    }
   },
   "outputs": [
    {
     "data": {
      "text/plain": [
       "array([10.        , 11.11111111, 12.22222222, 13.33333333, 14.44444444,\n",
       "       15.55555556, 16.66666667, 17.77777778, 18.88888889, 20.        ])"
      ]
     },
     "execution_count": 140,
     "metadata": {},
     "output_type": "execute_result"
    }
   ],
   "source": [
    "arr7 = np.linspace(10,20,10)\n",
    "arr7"
   ]
  },
  {
   "cell_type": "code",
   "execution_count": 141,
   "id": "9544caba",
   "metadata": {
    "ExecuteTime": {
     "end_time": "2022-12-03T09:57:14.719471Z",
     "start_time": "2022-12-03T09:57:14.702186Z"
    }
   },
   "outputs": [
    {
     "data": {
      "text/plain": [
       "array([10.        , 11.11111111, 12.22222222, 13.33333333, 14.44444444,\n",
       "       15.55555556, 16.66666667, 17.77777778, 18.88888889, 20.        ])"
      ]
     },
     "execution_count": 141,
     "metadata": {},
     "output_type": "execute_result"
    }
   ],
   "source": [
    "#Copy\n",
    "arr8 = arr7.copy()\n",
    "arr8"
   ]
  },
  {
   "cell_type": "code",
   "execution_count": 142,
   "id": "73be05fc",
   "metadata": {
    "ExecuteTime": {
     "end_time": "2022-12-03T09:57:14.738393Z",
     "start_time": "2022-12-03T09:57:14.723532Z"
    }
   },
   "outputs": [
    {
     "data": {
      "text/plain": [
       "(5,)"
      ]
     },
     "execution_count": 142,
     "metadata": {},
     "output_type": "execute_result"
    }
   ],
   "source": [
    "arr1.shape"
   ]
  },
  {
   "cell_type": "code",
   "execution_count": 143,
   "id": "78ab2de3",
   "metadata": {
    "ExecuteTime": {
     "end_time": "2022-12-03T09:57:14.759111Z",
     "start_time": "2022-12-03T09:57:14.738393Z"
    }
   },
   "outputs": [
    {
     "data": {
      "text/plain": [
       "(2, 3)"
      ]
     },
     "execution_count": 143,
     "metadata": {},
     "output_type": "execute_result"
    }
   ],
   "source": [
    "arr2.shape"
   ]
  },
  {
   "cell_type": "code",
   "execution_count": 144,
   "id": "d9f2756f",
   "metadata": {
    "ExecuteTime": {
     "end_time": "2022-12-03T09:57:14.778935Z",
     "start_time": "2022-12-03T09:57:14.759111Z"
    }
   },
   "outputs": [
    {
     "data": {
      "text/plain": [
       "array([[[1, 2],\n",
       "        [3, 4],\n",
       "        [5, 6],\n",
       "        [7, 8]]])"
      ]
     },
     "execution_count": 144,
     "metadata": {},
     "output_type": "execute_result"
    }
   ],
   "source": [
    "arr9 = np.array([[[1,2],[3,4],[5,6],[7,8]]])\n",
    "arr9"
   ]
  },
  {
   "cell_type": "code",
   "execution_count": 145,
   "id": "6d480936",
   "metadata": {
    "ExecuteTime": {
     "end_time": "2022-12-03T09:57:14.796771Z",
     "start_time": "2022-12-03T09:57:14.778935Z"
    }
   },
   "outputs": [
    {
     "data": {
      "text/plain": [
       "(1, 4, 2)"
      ]
     },
     "execution_count": 145,
     "metadata": {},
     "output_type": "execute_result"
    }
   ],
   "source": [
    "arr9.shape"
   ]
  },
  {
   "cell_type": "code",
   "execution_count": 146,
   "id": "26f6a5ea",
   "metadata": {
    "ExecuteTime": {
     "end_time": "2022-12-03T09:57:14.812299Z",
     "start_time": "2022-12-03T09:57:14.802121Z"
    }
   },
   "outputs": [
    {
     "data": {
      "text/plain": [
       "3"
      ]
     },
     "execution_count": 146,
     "metadata": {},
     "output_type": "execute_result"
    }
   ],
   "source": [
    "arr9.ndim"
   ]
  },
  {
   "cell_type": "code",
   "execution_count": 147,
   "id": "98c9845a",
   "metadata": {
    "ExecuteTime": {
     "end_time": "2022-12-03T09:57:14.832309Z",
     "start_time": "2022-12-03T09:57:14.814815Z"
    }
   },
   "outputs": [
    {
     "data": {
      "text/plain": [
       "8"
      ]
     },
     "execution_count": 147,
     "metadata": {},
     "output_type": "execute_result"
    }
   ],
   "source": [
    "arr9.size"
   ]
  },
  {
   "cell_type": "code",
   "execution_count": 148,
   "id": "42361154",
   "metadata": {
    "ExecuteTime": {
     "end_time": "2022-12-03T09:57:14.848323Z",
     "start_time": "2022-12-03T09:57:14.832309Z"
    }
   },
   "outputs": [
    {
     "data": {
      "text/plain": [
       "4"
      ]
     },
     "execution_count": 148,
     "metadata": {},
     "output_type": "execute_result"
    }
   ],
   "source": [
    "arr9.itemsize"
   ]
  },
  {
   "cell_type": "code",
   "execution_count": 149,
   "id": "4b048536",
   "metadata": {
    "ExecuteTime": {
     "end_time": "2022-12-03T09:57:14.867456Z",
     "start_time": "2022-12-03T09:57:14.851447Z"
    }
   },
   "outputs": [
    {
     "data": {
      "text/plain": [
       "dtype('int32')"
      ]
     },
     "execution_count": 149,
     "metadata": {},
     "output_type": "execute_result"
    }
   ],
   "source": [
    "arr9.dtype"
   ]
  },
  {
   "cell_type": "code",
   "execution_count": 150,
   "id": "8cd0fa21",
   "metadata": {
    "ExecuteTime": {
     "end_time": "2022-12-03T09:57:14.886995Z",
     "start_time": "2022-12-03T09:57:14.867456Z"
    }
   },
   "outputs": [
    {
     "data": {
      "text/plain": [
       "array([[[1., 2.],\n",
       "        [3., 4.],\n",
       "        [5., 6.],\n",
       "        [7., 8.]]])"
      ]
     },
     "execution_count": 150,
     "metadata": {},
     "output_type": "execute_result"
    }
   ],
   "source": [
    "arr9.astype(\"float\")"
   ]
  },
  {
   "cell_type": "code",
   "execution_count": 151,
   "id": "33aecf7d",
   "metadata": {
    "ExecuteTime": {
     "end_time": "2022-12-03T09:57:14.903748Z",
     "start_time": "2022-12-03T09:57:14.886995Z"
    }
   },
   "outputs": [],
   "source": [
    "list1 = range(100)\n",
    "arr11 = np.arange(100)"
   ]
  },
  {
   "cell_type": "code",
   "execution_count": 152,
   "id": "2d040793",
   "metadata": {
    "ExecuteTime": {
     "end_time": "2022-12-03T09:57:14.919081Z",
     "start_time": "2022-12-03T09:57:14.904430Z"
    }
   },
   "outputs": [],
   "source": [
    "import sys"
   ]
  },
  {
   "cell_type": "code",
   "execution_count": 153,
   "id": "54609520",
   "metadata": {
    "ExecuteTime": {
     "end_time": "2022-12-03T09:57:14.931361Z",
     "start_time": "2022-12-03T09:57:14.920460Z"
    }
   },
   "outputs": [
    {
     "name": "stdout",
     "output_type": "stream",
     "text": [
      "2800\n"
     ]
    }
   ],
   "source": [
    "print(sys.getsizeof(87)*len(list1))"
   ]
  },
  {
   "cell_type": "code",
   "execution_count": 154,
   "id": "354d7d81",
   "metadata": {
    "ExecuteTime": {
     "end_time": "2022-12-03T09:57:14.947529Z",
     "start_time": "2022-12-03T09:57:14.934065Z"
    }
   },
   "outputs": [
    {
     "name": "stdout",
     "output_type": "stream",
     "text": [
      "4\n"
     ]
    }
   ],
   "source": [
    "print(arr11.itemsize)"
   ]
  },
  {
   "cell_type": "code",
   "execution_count": 155,
   "id": "c334ee3c",
   "metadata": {
    "ExecuteTime": {
     "end_time": "2022-12-03T09:57:14.970006Z",
     "start_time": "2022-12-03T09:57:14.951678Z"
    }
   },
   "outputs": [
    {
     "name": "stdout",
     "output_type": "stream",
     "text": [
      "100\n"
     ]
    }
   ],
   "source": [
    "print(arr11.size)"
   ]
  },
  {
   "cell_type": "code",
   "execution_count": 156,
   "id": "02e7dc4c",
   "metadata": {
    "ExecuteTime": {
     "end_time": "2022-12-03T09:57:14.978459Z",
     "start_time": "2022-12-03T09:57:14.971763Z"
    }
   },
   "outputs": [
    {
     "name": "stdout",
     "output_type": "stream",
     "text": [
      "400\n"
     ]
    }
   ],
   "source": [
    "print(arr11.itemsize*arr11.size)"
   ]
  },
  {
   "cell_type": "code",
   "execution_count": 157,
   "id": "aad8e8cc",
   "metadata": {
    "ExecuteTime": {
     "end_time": "2022-12-03T09:57:14.987303Z",
     "start_time": "2022-12-03T09:57:14.981199Z"
    }
   },
   "outputs": [],
   "source": [
    "import time"
   ]
  },
  {
   "cell_type": "code",
   "execution_count": 158,
   "id": "9ceef35d",
   "metadata": {
    "ExecuteTime": {
     "end_time": "2022-12-03T09:57:15.027429Z",
     "start_time": "2022-12-03T09:57:14.989231Z"
    }
   },
   "outputs": [
    {
     "name": "stdout",
     "output_type": "stream",
     "text": [
      "0.01764535903930664\n"
     ]
    }
   ],
   "source": [
    "x = range(100000)\n",
    "y = range(100000,200000)\n",
    "\n",
    "start_time = time.time()\n",
    "\n",
    "c = [x + y for x,y in zip(x,y)]\n",
    "\n",
    "print(time.time() - start_time)"
   ]
  },
  {
   "cell_type": "code",
   "execution_count": 159,
   "id": "90171c93",
   "metadata": {
    "ExecuteTime": {
     "end_time": "2022-12-03T09:57:15.062519Z",
     "start_time": "2022-12-03T09:57:15.027429Z"
    }
   },
   "outputs": [
    {
     "name": "stdout",
     "output_type": "stream",
     "text": [
      "0.01665806770324707\n"
     ]
    }
   ],
   "source": [
    "a = np.arange(100000)\n",
    "b = np.arange(100000,200000)\n",
    "\n",
    "start_time = time.time()\n",
    "\n",
    "c = c + b\n",
    "\n",
    "print(time.time() - start_time)"
   ]
  },
  {
   "cell_type": "code",
   "execution_count": 160,
   "id": "0a15309d",
   "metadata": {
    "ExecuteTime": {
     "end_time": "2022-12-03T09:57:15.084197Z",
     "start_time": "2022-12-03T09:57:15.066998Z"
    }
   },
   "outputs": [
    {
     "data": {
      "text/plain": [
       "array([[ 0,  1,  2,  3],\n",
       "       [ 4,  5,  6,  7],\n",
       "       [ 8,  9, 10, 11],\n",
       "       [12, 13, 14, 15],\n",
       "       [16, 17, 18, 19],\n",
       "       [20, 21, 22, 23]])"
      ]
     },
     "execution_count": 160,
     "metadata": {},
     "output_type": "execute_result"
    }
   ],
   "source": [
    "arr12 = np.arange(24).reshape(6,4)\n",
    "arr12"
   ]
  },
  {
   "cell_type": "code",
   "execution_count": 161,
   "id": "a798ca25",
   "metadata": {
    "ExecuteTime": {
     "end_time": "2022-12-03T09:57:15.101660Z",
     "start_time": "2022-12-03T09:57:15.087575Z"
    }
   },
   "outputs": [
    {
     "data": {
      "text/plain": [
       "array([[ 1,  2],\n",
       "       [ 5,  6],\n",
       "       [ 9, 10],\n",
       "       [13, 14],\n",
       "       [17, 18],\n",
       "       [21, 22]])"
      ]
     },
     "execution_count": 161,
     "metadata": {},
     "output_type": "execute_result"
    }
   ],
   "source": [
    "arr12[:,1:3]"
   ]
  },
  {
   "cell_type": "code",
   "execution_count": 162,
   "id": "851fa466",
   "metadata": {
    "ExecuteTime": {
     "end_time": "2022-12-03T09:57:15.121084Z",
     "start_time": "2022-12-03T09:57:15.104928Z"
    }
   },
   "outputs": [
    {
     "data": {
      "text/plain": [
       "array([[ 9, 10],\n",
       "       [13, 14]])"
      ]
     },
     "execution_count": 162,
     "metadata": {},
     "output_type": "execute_result"
    }
   ],
   "source": [
    "arr12[2:4,1:3]"
   ]
  },
  {
   "cell_type": "code",
   "execution_count": 163,
   "id": "fab6c680",
   "metadata": {
    "ExecuteTime": {
     "end_time": "2022-12-03T09:57:15.137798Z",
     "start_time": "2022-12-03T09:57:15.121084Z"
    }
   },
   "outputs": [
    {
     "data": {
      "text/plain": [
       "array([[11],\n",
       "       [15],\n",
       "       [19],\n",
       "       [23]])"
      ]
     },
     "execution_count": 163,
     "metadata": {},
     "output_type": "execute_result"
    }
   ],
   "source": [
    "arr12[2:,3:]"
   ]
  },
  {
   "cell_type": "code",
   "execution_count": 164,
   "id": "8842afc0",
   "metadata": {
    "ExecuteTime": {
     "end_time": "2022-12-03T09:57:15.153800Z",
     "start_time": "2022-12-03T09:57:15.137798Z"
    }
   },
   "outputs": [
    {
     "name": "stdout",
     "output_type": "stream",
     "text": [
      "[0 1 2 3]\n",
      "[4 5 6 7]\n",
      "[ 8  9 10 11]\n",
      "[12 13 14 15]\n",
      "[16 17 18 19]\n",
      "[20 21 22 23]\n"
     ]
    }
   ],
   "source": [
    "for i in arr12:\n",
    "    print(i)"
   ]
  },
  {
   "cell_type": "code",
   "execution_count": 165,
   "id": "815c2aaa",
   "metadata": {
    "ExecuteTime": {
     "end_time": "2022-12-03T09:57:15.172454Z",
     "start_time": "2022-12-03T09:57:15.153800Z"
    }
   },
   "outputs": [
    {
     "name": "stdout",
     "output_type": "stream",
     "text": [
      "0\n",
      "1\n",
      "2\n",
      "3\n",
      "4\n",
      "5\n",
      "6\n",
      "7\n",
      "8\n",
      "9\n",
      "10\n",
      "11\n",
      "12\n",
      "13\n",
      "14\n",
      "15\n",
      "16\n",
      "17\n",
      "18\n",
      "19\n",
      "20\n",
      "21\n",
      "22\n",
      "23\n"
     ]
    }
   ],
   "source": [
    "for i in np.nditer(arr12):\n",
    "    print(i)"
   ]
  },
  {
   "cell_type": "code",
   "execution_count": 166,
   "id": "a4a4ca4c",
   "metadata": {
    "ExecuteTime": {
     "end_time": "2022-12-03T09:57:15.191910Z",
     "start_time": "2022-12-03T09:57:15.172454Z"
    }
   },
   "outputs": [],
   "source": [
    "arr_1 = np.array([1,2,3,4,5,6])\n",
    "arr_2 = np.array([4,5,6,7,8,9])"
   ]
  },
  {
   "cell_type": "code",
   "execution_count": 167,
   "id": "1a5477a9",
   "metadata": {
    "ExecuteTime": {
     "end_time": "2022-12-03T09:57:15.210330Z",
     "start_time": "2022-12-03T09:57:15.191910Z"
    }
   },
   "outputs": [
    {
     "data": {
      "text/plain": [
       "array([-3, -3, -3, -3, -3, -3])"
      ]
     },
     "execution_count": 167,
     "metadata": {},
     "output_type": "execute_result"
    }
   ],
   "source": [
    "arr_1 - arr_2"
   ]
  },
  {
   "cell_type": "code",
   "execution_count": 168,
   "id": "169941ca",
   "metadata": {
    "ExecuteTime": {
     "end_time": "2022-12-03T09:57:15.230022Z",
     "start_time": "2022-12-03T09:57:15.210330Z"
    }
   },
   "outputs": [
    {
     "data": {
      "text/plain": [
       "array([ 4, 10, 18, 28, 40, 54])"
      ]
     },
     "execution_count": 168,
     "metadata": {},
     "output_type": "execute_result"
    }
   ],
   "source": [
    "arr_1 * arr_2"
   ]
  },
  {
   "cell_type": "code",
   "execution_count": 169,
   "id": "4fde17ef",
   "metadata": {
    "ExecuteTime": {
     "end_time": "2022-12-03T09:57:15.241790Z",
     "start_time": "2022-12-03T09:57:15.233781Z"
    }
   },
   "outputs": [
    {
     "data": {
      "text/plain": [
       "array([ 8, 10, 12, 14, 16, 18])"
      ]
     },
     "execution_count": 169,
     "metadata": {},
     "output_type": "execute_result"
    }
   ],
   "source": [
    "arr_2 * 2 "
   ]
  },
  {
   "cell_type": "code",
   "execution_count": 170,
   "id": "ce2859ad",
   "metadata": {
    "ExecuteTime": {
     "end_time": "2022-12-03T09:57:15.262110Z",
     "start_time": "2022-12-03T09:57:15.244568Z"
    }
   },
   "outputs": [
    {
     "data": {
      "text/plain": [
       "array([False, False, False,  True,  True,  True])"
      ]
     },
     "execution_count": 170,
     "metadata": {},
     "output_type": "execute_result"
    }
   ],
   "source": [
    "arr_2 > 6"
   ]
  },
  {
   "cell_type": "code",
   "execution_count": 171,
   "id": "1df6f8e2",
   "metadata": {
    "ExecuteTime": {
     "end_time": "2022-12-03T09:57:15.278484Z",
     "start_time": "2022-12-03T09:57:15.262110Z"
    }
   },
   "outputs": [
    {
     "name": "stdout",
     "output_type": "stream",
     "text": [
      "[[0 1 2]\n",
      " [3 4 5]]\n",
      "[[ 6  7]\n",
      " [ 8  9]\n",
      " [10 11]]\n"
     ]
    }
   ],
   "source": [
    "arr_3 = np.arange(6).reshape(2,3)\n",
    "arr_4 = np.arange(6,12).reshape(3,2)\n",
    "\n",
    "print(arr_3)\n",
    "print(arr_4)"
   ]
  },
  {
   "cell_type": "code",
   "execution_count": 172,
   "id": "1d26be83",
   "metadata": {
    "ExecuteTime": {
     "end_time": "2022-12-03T09:57:15.297950Z",
     "start_time": "2022-12-03T09:57:15.279344Z"
    }
   },
   "outputs": [
    {
     "data": {
      "text/plain": [
       "array([[ 28,  31],\n",
       "       [100, 112]])"
      ]
     },
     "execution_count": 172,
     "metadata": {},
     "output_type": "execute_result"
    }
   ],
   "source": [
    "arr_3.dot(arr_4)"
   ]
  },
  {
   "cell_type": "code",
   "execution_count": 173,
   "id": "dd9d57db",
   "metadata": {
    "ExecuteTime": {
     "end_time": "2022-12-03T09:57:15.309057Z",
     "start_time": "2022-12-03T09:57:15.301761Z"
    }
   },
   "outputs": [
    {
     "data": {
      "text/plain": [
       "154"
      ]
     },
     "execution_count": 173,
     "metadata": {},
     "output_type": "execute_result"
    }
   ],
   "source": [
    "arr_1.dot(arr_2)"
   ]
  },
  {
   "cell_type": "code",
   "execution_count": 174,
   "id": "551d2773",
   "metadata": {
    "ExecuteTime": {
     "end_time": "2022-12-03T09:57:15.327607Z",
     "start_time": "2022-12-03T09:57:15.311334Z"
    }
   },
   "outputs": [
    {
     "data": {
      "text/plain": [
       "11"
      ]
     },
     "execution_count": 174,
     "metadata": {},
     "output_type": "execute_result"
    }
   ],
   "source": [
    "arr_4.max()"
   ]
  },
  {
   "cell_type": "code",
   "execution_count": 175,
   "id": "3df232d8",
   "metadata": {
    "ExecuteTime": {
     "end_time": "2022-12-03T09:57:15.347317Z",
     "start_time": "2022-12-03T09:57:15.329065Z"
    }
   },
   "outputs": [
    {
     "data": {
      "text/plain": [
       "6"
      ]
     },
     "execution_count": 175,
     "metadata": {},
     "output_type": "execute_result"
    }
   ],
   "source": [
    "arr_4.min()"
   ]
  },
  {
   "cell_type": "code",
   "execution_count": 176,
   "id": "8a816bc7",
   "metadata": {
    "ExecuteTime": {
     "end_time": "2022-12-03T09:57:15.374004Z",
     "start_time": "2022-12-03T09:57:15.350618Z"
    }
   },
   "outputs": [
    {
     "data": {
      "text/plain": [
       "array([6, 7])"
      ]
     },
     "execution_count": 176,
     "metadata": {},
     "output_type": "execute_result"
    }
   ],
   "source": [
    "arr_4.min(axis=0)"
   ]
  },
  {
   "cell_type": "code",
   "execution_count": 177,
   "id": "1398bdff",
   "metadata": {
    "ExecuteTime": {
     "end_time": "2022-12-03T09:57:15.394288Z",
     "start_time": "2022-12-03T09:57:15.374004Z"
    }
   },
   "outputs": [
    {
     "data": {
      "text/plain": [
       "array([ 6,  8, 10])"
      ]
     },
     "execution_count": 177,
     "metadata": {},
     "output_type": "execute_result"
    }
   ],
   "source": [
    "arr_4.min(axis=1)"
   ]
  },
  {
   "cell_type": "code",
   "execution_count": 178,
   "id": "3a25c47e",
   "metadata": {
    "ExecuteTime": {
     "end_time": "2022-12-03T09:57:15.412273Z",
     "start_time": "2022-12-03T09:57:15.394288Z"
    }
   },
   "outputs": [
    {
     "data": {
      "text/plain": [
       "51"
      ]
     },
     "execution_count": 178,
     "metadata": {},
     "output_type": "execute_result"
    }
   ],
   "source": [
    "arr_4.sum()"
   ]
  },
  {
   "cell_type": "code",
   "execution_count": 179,
   "id": "af83afcc",
   "metadata": {
    "ExecuteTime": {
     "end_time": "2022-12-03T09:57:15.438784Z",
     "start_time": "2022-12-03T09:57:15.412273Z"
    }
   },
   "outputs": [
    {
     "data": {
      "text/plain": [
       "array([24, 27])"
      ]
     },
     "execution_count": 179,
     "metadata": {},
     "output_type": "execute_result"
    }
   ],
   "source": [
    "arr_4.sum(axis=0)"
   ]
  },
  {
   "cell_type": "code",
   "execution_count": 180,
   "id": "608d7451",
   "metadata": {
    "ExecuteTime": {
     "end_time": "2022-12-03T09:57:15.462198Z",
     "start_time": "2022-12-03T09:57:15.438784Z"
    }
   },
   "outputs": [
    {
     "data": {
      "text/plain": [
       "array([13, 17, 21])"
      ]
     },
     "execution_count": 180,
     "metadata": {},
     "output_type": "execute_result"
    }
   ],
   "source": [
    "arr_4.sum(axis=1)"
   ]
  },
  {
   "cell_type": "code",
   "execution_count": 181,
   "id": "aef9c3e0",
   "metadata": {
    "ExecuteTime": {
     "end_time": "2022-12-03T09:57:15.481924Z",
     "start_time": "2022-12-03T09:57:15.462198Z"
    }
   },
   "outputs": [
    {
     "data": {
      "text/plain": [
       "8.5"
      ]
     },
     "execution_count": 181,
     "metadata": {},
     "output_type": "execute_result"
    }
   ],
   "source": [
    "arr_4.mean()"
   ]
  },
  {
   "cell_type": "code",
   "execution_count": 182,
   "id": "d57b3d4d",
   "metadata": {
    "ExecuteTime": {
     "end_time": "2022-12-03T09:57:15.497724Z",
     "start_time": "2022-12-03T09:57:15.484799Z"
    }
   },
   "outputs": [
    {
     "data": {
      "text/plain": [
       "1.707825127659933"
      ]
     },
     "execution_count": 182,
     "metadata": {},
     "output_type": "execute_result"
    }
   ],
   "source": [
    "arr_4.std()"
   ]
  },
  {
   "cell_type": "code",
   "execution_count": 183,
   "id": "b4799ebc",
   "metadata": {
    "ExecuteTime": {
     "end_time": "2022-12-03T09:57:15.517276Z",
     "start_time": "2022-12-03T09:57:15.501250Z"
    }
   },
   "outputs": [
    {
     "data": {
      "text/plain": [
       "8.5"
      ]
     },
     "execution_count": 183,
     "metadata": {},
     "output_type": "execute_result"
    }
   ],
   "source": [
    "np.median(arr_4)"
   ]
  },
  {
   "cell_type": "code",
   "execution_count": 184,
   "id": "b5f04644",
   "metadata": {
    "ExecuteTime": {
     "end_time": "2022-12-03T09:57:15.539301Z",
     "start_time": "2022-12-03T09:57:15.517276Z"
    }
   },
   "outputs": [
    {
     "data": {
      "text/plain": [
       "array([[-0.2794155 ,  0.6569866 ],\n",
       "       [ 0.98935825,  0.41211849],\n",
       "       [-0.54402111, -0.99999021]])"
      ]
     },
     "execution_count": 184,
     "metadata": {},
     "output_type": "execute_result"
    }
   ],
   "source": [
    "np.sin(arr_4)"
   ]
  },
  {
   "cell_type": "code",
   "execution_count": 185,
   "id": "c28f4e21",
   "metadata": {
    "ExecuteTime": {
     "end_time": "2022-12-03T09:57:15.559457Z",
     "start_time": "2022-12-03T09:57:15.541976Z"
    }
   },
   "outputs": [
    {
     "data": {
      "text/plain": [
       "array([[  403.42879349,  1096.63315843],\n",
       "       [ 2980.95798704,  8103.08392758],\n",
       "       [22026.46579481, 59874.1417152 ]])"
      ]
     },
     "execution_count": 185,
     "metadata": {},
     "output_type": "execute_result"
    }
   ],
   "source": [
    "np.exp(arr_4)"
   ]
  },
  {
   "cell_type": "raw",
   "id": "8c753f9e",
   "metadata": {},
   "source": [
    "#Reshaping_numpy_array"
   ]
  },
  {
   "cell_type": "code",
   "execution_count": 186,
   "id": "e8f12426",
   "metadata": {
    "ExecuteTime": {
     "end_time": "2022-12-03T09:57:15.578732Z",
     "start_time": "2022-12-03T09:57:15.559457Z"
    }
   },
   "outputs": [
    {
     "data": {
      "text/plain": [
       "array([[ 6,  7],\n",
       "       [ 8,  9],\n",
       "       [10, 11]])"
      ]
     },
     "execution_count": 186,
     "metadata": {},
     "output_type": "execute_result"
    }
   ],
   "source": [
    "arr_4"
   ]
  },
  {
   "cell_type": "code",
   "execution_count": 187,
   "id": "7ce74559",
   "metadata": {
    "ExecuteTime": {
     "end_time": "2022-12-03T09:57:15.597691Z",
     "start_time": "2022-12-03T09:57:15.583252Z"
    }
   },
   "outputs": [
    {
     "data": {
      "text/plain": [
       "2"
      ]
     },
     "execution_count": 187,
     "metadata": {},
     "output_type": "execute_result"
    }
   ],
   "source": [
    "arr_4.ndim"
   ]
  },
  {
   "cell_type": "code",
   "execution_count": 188,
   "id": "61b78b89",
   "metadata": {
    "ExecuteTime": {
     "end_time": "2022-12-03T09:57:15.617927Z",
     "start_time": "2022-12-03T09:57:15.600171Z"
    }
   },
   "outputs": [
    {
     "data": {
      "text/plain": [
       "array([ 6,  7,  8,  9, 10, 11])"
      ]
     },
     "execution_count": 188,
     "metadata": {},
     "output_type": "execute_result"
    }
   ],
   "source": [
    "arr_4.ravel()"
   ]
  },
  {
   "cell_type": "code",
   "execution_count": 189,
   "id": "8e2af844",
   "metadata": {
    "ExecuteTime": {
     "end_time": "2022-12-03T09:57:15.636417Z",
     "start_time": "2022-12-03T09:57:15.620360Z"
    }
   },
   "outputs": [
    {
     "data": {
      "text/plain": [
       "array([[ 6,  8, 10],\n",
       "       [ 7,  9, 11]])"
      ]
     },
     "execution_count": 189,
     "metadata": {},
     "output_type": "execute_result"
    }
   ],
   "source": [
    "#Row_Col * Col_Row\n",
    "arr_4.transpose()"
   ]
  },
  {
   "cell_type": "code",
   "execution_count": 190,
   "id": "7b28986a",
   "metadata": {
    "ExecuteTime": {
     "end_time": "2022-12-03T09:57:15.658133Z",
     "start_time": "2022-12-03T09:57:15.640555Z"
    }
   },
   "outputs": [
    {
     "data": {
      "text/plain": [
       "array([[12, 13, 14],\n",
       "       [15, 16, 17]])"
      ]
     },
     "execution_count": 190,
     "metadata": {},
     "output_type": "execute_result"
    }
   ],
   "source": [
    "arr_5 = np.arange(12,18).reshape(2,3)\n",
    "arr_5"
   ]
  },
  {
   "cell_type": "code",
   "execution_count": 191,
   "id": "5470f263",
   "metadata": {
    "ExecuteTime": {
     "end_time": "2022-12-03T09:57:15.680507Z",
     "start_time": "2022-12-03T09:57:15.659256Z"
    }
   },
   "outputs": [
    {
     "data": {
      "text/plain": [
       "array([[ 0,  1,  2, 12, 13, 14],\n",
       "       [ 3,  4,  5, 15, 16, 17]])"
      ]
     },
     "execution_count": 191,
     "metadata": {},
     "output_type": "execute_result"
    }
   ],
   "source": [
    "np.hstack((arr_3,arr_5))"
   ]
  },
  {
   "cell_type": "code",
   "execution_count": 192,
   "id": "342d12f5",
   "metadata": {
    "ExecuteTime": {
     "end_time": "2022-12-03T09:57:15.710432Z",
     "start_time": "2022-12-03T09:57:15.680507Z"
    }
   },
   "outputs": [
    {
     "data": {
      "text/plain": [
       "array([[ 0,  1,  2],\n",
       "       [ 3,  4,  5],\n",
       "       [12, 13, 14],\n",
       "       [15, 16, 17]])"
      ]
     },
     "execution_count": 192,
     "metadata": {},
     "output_type": "execute_result"
    }
   ],
   "source": [
    "np.vstack((arr_3,arr_5))"
   ]
  },
  {
   "cell_type": "code",
   "execution_count": 193,
   "id": "22d28329",
   "metadata": {
    "ExecuteTime": {
     "end_time": "2022-12-03T09:57:15.740105Z",
     "start_time": "2022-12-03T09:57:15.710432Z"
    }
   },
   "outputs": [
    {
     "data": {
      "text/plain": [
       "[array([[0],\n",
       "        [3]]),\n",
       " array([[1],\n",
       "        [4]]),\n",
       " array([[2],\n",
       "        [5]])]"
      ]
     },
     "execution_count": 193,
     "metadata": {},
     "output_type": "execute_result"
    }
   ],
   "source": [
    "np.hsplit(arr_3,3)"
   ]
  },
  {
   "cell_type": "code",
   "execution_count": 194,
   "id": "62d71e59",
   "metadata": {
    "ExecuteTime": {
     "end_time": "2022-12-03T09:57:15.758635Z",
     "start_time": "2022-12-03T09:57:15.740105Z"
    }
   },
   "outputs": [
    {
     "data": {
      "text/plain": [
       "[array([[12, 13, 14]]), array([[15, 16, 17]])]"
      ]
     },
     "execution_count": 194,
     "metadata": {},
     "output_type": "execute_result"
    }
   ],
   "source": [
    "np.vsplit(arr_5,2)"
   ]
  },
  {
   "cell_type": "code",
   "execution_count": 195,
   "id": "afb86cc7",
   "metadata": {
    "ExecuteTime": {
     "end_time": "2022-12-03T09:57:15.778262Z",
     "start_time": "2022-12-03T09:57:15.758635Z"
    }
   },
   "outputs": [
    {
     "data": {
      "text/plain": [
       "array([[ 0,  1,  2,  3],\n",
       "       [ 4,  5,  6,  7],\n",
       "       [ 8,  9, 10, 11],\n",
       "       [12, 13, 14, 15],\n",
       "       [16, 17, 18, 19],\n",
       "       [20, 21, 22, 23]])"
      ]
     },
     "execution_count": 195,
     "metadata": {},
     "output_type": "execute_result"
    }
   ],
   "source": [
    "arr_8 = np.arange(24).reshape(6,4)\n",
    "arr_8"
   ]
  },
  {
   "cell_type": "code",
   "execution_count": 196,
   "id": "7c4ea63f",
   "metadata": {
    "ExecuteTime": {
     "end_time": "2022-12-03T09:57:15.801251Z",
     "start_time": "2022-12-03T09:57:15.789094Z"
    }
   },
   "outputs": [
    {
     "data": {
      "text/plain": [
       "array([[ 0,  1,  2,  3],\n",
       "       [ 8,  9, 10, 11],\n",
       "       [16, 17, 18, 19]])"
      ]
     },
     "execution_count": 196,
     "metadata": {},
     "output_type": "execute_result"
    }
   ],
   "source": [
    "arr_8[[0,2,4]]"
   ]
  },
  {
   "cell_type": "markdown",
   "id": "affc9662",
   "metadata": {},
   "source": [
    "# Indexing using boolean array"
   ]
  },
  {
   "cell_type": "code",
   "execution_count": 197,
   "id": "91df6e9d",
   "metadata": {
    "ExecuteTime": {
     "end_time": "2022-12-03T09:57:15.824159Z",
     "start_time": "2022-12-03T09:57:15.801251Z"
    }
   },
   "outputs": [
    {
     "data": {
      "text/plain": [
       "array([[97, 63, 58, 80, 43],\n",
       "       [58, 98, 51, 46, 41],\n",
       "       [90, 74, 38,  1, 19],\n",
       "       [24,  4, 30, 17, 85]])"
      ]
     },
     "execution_count": 197,
     "metadata": {},
     "output_type": "execute_result"
    }
   ],
   "source": [
    "arr = np.random.randint(low = 1,high = 100,size = 20).reshape(4,5)\n",
    "arr"
   ]
  },
  {
   "cell_type": "code",
   "execution_count": 198,
   "id": "224401ed",
   "metadata": {
    "ExecuteTime": {
     "end_time": "2022-12-03T09:57:18.327349Z",
     "start_time": "2022-12-03T09:57:18.309213Z"
    }
   },
   "outputs": [
    {
     "data": {
      "text/plain": [
       "array([97, 63, 58, 80, 43])"
      ]
     },
     "execution_count": 198,
     "metadata": {},
     "output_type": "execute_result"
    }
   ],
   "source": [
    "arr[0]"
   ]
  },
  {
   "cell_type": "code",
   "execution_count": 199,
   "id": "c77942f1",
   "metadata": {
    "ExecuteTime": {
     "end_time": "2022-12-03T09:57:44.418109Z",
     "start_time": "2022-12-03T09:57:44.400270Z"
    }
   },
   "outputs": [
    {
     "data": {
      "text/plain": [
       "array([[ True,  True,  True,  True, False],\n",
       "       [ True,  True,  True, False, False],\n",
       "       [ True,  True, False, False, False],\n",
       "       [False, False, False, False,  True]])"
      ]
     },
     "execution_count": 199,
     "metadata": {},
     "output_type": "execute_result"
    }
   ],
   "source": [
    "arr > 50 "
   ]
  },
  {
   "cell_type": "code",
   "execution_count": 201,
   "id": "d394e22f",
   "metadata": {
    "ExecuteTime": {
     "end_time": "2022-12-03T09:58:29.341963Z",
     "start_time": "2022-12-03T09:58:29.328648Z"
    }
   },
   "outputs": [
    {
     "data": {
      "text/plain": [
       "(4, 5)"
      ]
     },
     "execution_count": 201,
     "metadata": {},
     "output_type": "execute_result"
    }
   ],
   "source": [
    "(arr > 50).shape"
   ]
  },
  {
   "cell_type": "code",
   "execution_count": 202,
   "id": "3e9f7b95",
   "metadata": {
    "ExecuteTime": {
     "end_time": "2022-12-03T09:59:24.971997Z",
     "start_time": "2022-12-03T09:59:24.951572Z"
    }
   },
   "outputs": [
    {
     "data": {
      "text/plain": [
       "array([97, 63, 51, 85])"
      ]
     },
     "execution_count": 202,
     "metadata": {},
     "output_type": "execute_result"
    }
   ],
   "source": [
    "arr[(arr > 50) & (arr % 2 != 0)] "
   ]
  },
  {
   "cell_type": "code",
   "execution_count": 203,
   "id": "854424e6",
   "metadata": {
    "ExecuteTime": {
     "end_time": "2022-12-03T09:59:54.419942Z",
     "start_time": "2022-12-03T09:59:54.403558Z"
    }
   },
   "outputs": [],
   "source": [
    "arr[(arr > 50) & (arr % 2 != 0)] = 0"
   ]
  },
  {
   "cell_type": "code",
   "execution_count": 204,
   "id": "2dc4240f",
   "metadata": {
    "ExecuteTime": {
     "end_time": "2022-12-03T09:59:59.356392Z",
     "start_time": "2022-12-03T09:59:59.349113Z"
    }
   },
   "outputs": [
    {
     "data": {
      "text/plain": [
       "array([[ 0,  0, 58, 80, 43],\n",
       "       [58, 98,  0, 46, 41],\n",
       "       [90, 74, 38,  1, 19],\n",
       "       [24,  4, 30, 17,  0]])"
      ]
     },
     "execution_count": 204,
     "metadata": {},
     "output_type": "execute_result"
    }
   ],
   "source": [
    "arr"
   ]
  },
  {
   "cell_type": "code",
   "execution_count": 206,
   "id": "5ce944b9",
   "metadata": {
    "ExecuteTime": {
     "end_time": "2022-12-03T10:01:23.422130Z",
     "start_time": "2022-12-03T10:01:23.402171Z"
    }
   },
   "outputs": [
    {
     "data": {
      "text/plain": [
       "100"
      ]
     },
     "execution_count": 206,
     "metadata": {},
     "output_type": "execute_result"
    }
   ],
   "source": [
    "x = np.linspace(-40,40,100)\n",
    "x.size "
   ]
  },
  {
   "cell_type": "code",
   "execution_count": 209,
   "id": "8de99be3",
   "metadata": {
    "ExecuteTime": {
     "end_time": "2022-12-03T10:01:57.448593Z",
     "start_time": "2022-12-03T10:01:57.418410Z"
    }
   },
   "outputs": [
    {
     "data": {
      "text/plain": [
       "100"
      ]
     },
     "execution_count": 209,
     "metadata": {},
     "output_type": "execute_result"
    }
   ],
   "source": [
    "y = np.sin(x)\n",
    "y.size"
   ]
  },
  {
   "cell_type": "code",
   "execution_count": 210,
   "id": "7f6903ac",
   "metadata": {
    "ExecuteTime": {
     "end_time": "2022-12-03T10:02:53.668782Z",
     "start_time": "2022-12-03T10:02:53.377613Z"
    }
   },
   "outputs": [
    {
     "data": {
      "text/plain": [
       "<function matplotlib.pyplot.show(close=None, block=None)>"
      ]
     },
     "execution_count": 210,
     "metadata": {},
     "output_type": "execute_result"
    },
    {
     "data": {
      "image/png": "[encoded data removed]",
      "text/plain": [
       "<Figure size 432x288 with 1 Axes>"
      ]
     },
     "metadata": {
      "needs_background": "light"
     },
     "output_type": "display_data"
    }
   ],
   "source": [
    "import matplotlib.pyplot as plt\n",
    "%matplotlib inline\n",
    "plt.plot(x,y)\n",
    "plt.show"
   ]
  },
  {
   "cell_type": "code",
   "execution_count": 211,
   "id": "34243f68",
   "metadata": {
    "ExecuteTime": {
     "end_time": "2022-12-03T10:03:24.709733Z",
     "start_time": "2022-12-03T10:03:24.699169Z"
    }
   },
   "outputs": [],
   "source": [
    "y = x * x + 2 * x + 6"
   ]
  },
  {
   "cell_type": "code",
   "execution_count": 213,
   "id": "107c8790",
   "metadata": {
    "ExecuteTime": {
     "end_time": "2022-12-03T10:04:02.957382Z",
     "start_time": "2022-12-03T10:04:02.707673Z"
    }
   },
   "outputs": [
    {
     "data": {
      "image/png": "[encoded data removed]",
      "text/plain": [
       "<Figure size 432x288 with 1 Axes>"
      ]
     },
     "metadata": {
      "needs_background": "light"
     },
     "output_type": "display_data"
    }
   ],
   "source": [
    "plt.plot(x,y)\n",
    "plt.show()"
   ]
  },
  {
   "cell_type": "markdown",
   "id": "d5813565",
   "metadata": {},
   "source": [
    "# Broadcasting"
   ]
  },
  {
   "cell_type": "code",
   "execution_count": 214,
   "id": "0add74c5",
   "metadata": {
    "ExecuteTime": {
     "end_time": "2022-12-03T10:05:24.688760Z",
     "start_time": "2022-12-03T10:05:24.664581Z"
    }
   },
   "outputs": [],
   "source": [
    "a_1 = np.arange(8).reshape(2,4)\n",
    "a_2 = np.arange(8,16).reshape(2,4)"
   ]
  },
  {
   "cell_type": "code",
   "execution_count": 215,
   "id": "53c59de1",
   "metadata": {
    "ExecuteTime": {
     "end_time": "2022-12-03T10:05:51.369109Z",
     "start_time": "2022-12-03T10:05:51.350695Z"
    }
   },
   "outputs": [
    {
     "name": "stdout",
     "output_type": "stream",
     "text": [
      "[[0 1 2 3]\n",
      " [4 5 6 7]]\n",
      "[[ 8  9 10 11]\n",
      " [12 13 14 15]]\n"
     ]
    }
   ],
   "source": [
    "print(a_1)\n",
    "print(a_2)"
   ]
  },
  {
   "cell_type": "code",
   "execution_count": 216,
   "id": "7ff2dda8",
   "metadata": {
    "ExecuteTime": {
     "end_time": "2022-12-03T10:06:47.510708Z",
     "start_time": "2022-12-03T10:06:47.501305Z"
    }
   },
   "outputs": [],
   "source": [
    "a_3= np.arange(9).reshape(3,3)\n",
    "a_4 = np.arange(3).reshape(1,3)"
   ]
  },
  {
   "cell_type": "code",
   "execution_count": 217,
   "id": "18a207e7",
   "metadata": {
    "ExecuteTime": {
     "end_time": "2022-12-03T10:07:01.311236Z",
     "start_time": "2022-12-03T10:07:01.291061Z"
    }
   },
   "outputs": [
    {
     "name": "stdout",
     "output_type": "stream",
     "text": [
      "[[0 1 2]\n",
      " [3 4 5]\n",
      " [6 7 8]]\n",
      "[[0 1 2]]\n"
     ]
    }
   ],
   "source": [
    "print(a_3)\n",
    "print(a_4)"
   ]
  },
  {
   "cell_type": "code",
   "execution_count": 218,
   "id": "cc827b89",
   "metadata": {
    "ExecuteTime": {
     "end_time": "2022-12-03T10:07:14.250668Z",
     "start_time": "2022-12-03T10:07:14.230308Z"
    }
   },
   "outputs": [
    {
     "data": {
      "text/plain": [
       "array([[ 0,  2,  4],\n",
       "       [ 3,  5,  7],\n",
       "       [ 6,  8, 10]])"
      ]
     },
     "execution_count": 218,
     "metadata": {},
     "output_type": "execute_result"
    }
   ],
   "source": [
    "a_3 + a_4"
   ]
  },
  {
   "cell_type": "code",
   "execution_count": 219,
   "id": "f9924be8",
   "metadata": {
    "ExecuteTime": {
     "end_time": "2022-12-03T10:08:27.248740Z",
     "start_time": "2022-12-03T10:08:27.230232Z"
    }
   },
   "outputs": [],
   "source": [
    "a_5 = np.arange(3).reshape(1,3)\n",
    "a_6 = np.arange(12).reshape(4,3)"
   ]
  },
  {
   "cell_type": "code",
   "execution_count": 220,
   "id": "4db97ceb",
   "metadata": {
    "ExecuteTime": {
     "end_time": "2022-12-03T10:08:36.235019Z",
     "start_time": "2022-12-03T10:08:36.209498Z"
    }
   },
   "outputs": [
    {
     "name": "stdout",
     "output_type": "stream",
     "text": [
      "[[0 1 2]]\n",
      "[[ 0  1  2]\n",
      " [ 3  4  5]\n",
      " [ 6  7  8]\n",
      " [ 9 10 11]]\n"
     ]
    }
   ],
   "source": [
    "print(a_5)\n",
    "print(a_6)"
   ]
  },
  {
   "cell_type": "code",
   "execution_count": 221,
   "id": "c0bf43c0",
   "metadata": {
    "ExecuteTime": {
     "end_time": "2022-12-03T10:08:58.030338Z",
     "start_time": "2022-12-03T10:08:58.012397Z"
    }
   },
   "outputs": [
    {
     "data": {
      "text/plain": [
       "array([[ 0,  2,  4],\n",
       "       [ 3,  5,  7],\n",
       "       [ 6,  8, 10],\n",
       "       [ 9, 11, 13]])"
      ]
     },
     "execution_count": 221,
     "metadata": {},
     "output_type": "execute_result"
    }
   ],
   "source": [
    "a_5 + a_6"
   ]
  },
  {
   "cell_type": "markdown",
   "id": "83fe2dac",
   "metadata": {},
   "source": [
    "# Important numpy functions"
   ]
  },
  {
   "cell_type": "code",
   "execution_count": 222,
   "id": "72352ece",
   "metadata": {
    "ExecuteTime": {
     "end_time": "2022-12-03T10:10:06.963153Z",
     "start_time": "2022-12-03T10:10:06.943192Z"
    }
   },
   "outputs": [],
   "source": [
    "import numpy as np "
   ]
  },
  {
   "cell_type": "code",
   "execution_count": 223,
   "id": "3dc5bb82",
   "metadata": {
    "ExecuteTime": {
     "end_time": "2022-12-03T10:10:50.837905Z",
     "start_time": "2022-12-03T10:10:50.820265Z"
    }
   },
   "outputs": [
    {
     "data": {
      "text/plain": [
       "0.330719311982132"
      ]
     },
     "execution_count": 223,
     "metadata": {},
     "output_type": "execute_result"
    }
   ],
   "source": [
    "np.random.random()"
   ]
  },
  {
   "cell_type": "code",
   "execution_count": 225,
   "id": "6ad5e493",
   "metadata": {
    "ExecuteTime": {
     "end_time": "2022-12-03T10:11:38.500142Z",
     "start_time": "2022-12-03T10:11:38.479010Z"
    }
   },
   "outputs": [
    {
     "data": {
      "text/plain": [
       "0.417022004702574"
      ]
     },
     "execution_count": 225,
     "metadata": {},
     "output_type": "execute_result"
    }
   ],
   "source": [
    "np.random.seed(1)\n",
    "np.random.random()"
   ]
  },
  {
   "cell_type": "code",
   "execution_count": 227,
   "id": "069f39ff",
   "metadata": {
    "ExecuteTime": {
     "end_time": "2022-12-03T10:12:07.226699Z",
     "start_time": "2022-12-03T10:12:07.209147Z"
    }
   },
   "outputs": [
    {
     "data": {
      "text/plain": [
       "1.0113231069171438"
      ]
     },
     "execution_count": 227,
     "metadata": {},
     "output_type": "execute_result"
    }
   ],
   "source": [
    "np.random.uniform(1,100)"
   ]
  },
  {
   "cell_type": "code",
   "execution_count": 228,
   "id": "0ebe75e1",
   "metadata": {
    "ExecuteTime": {
     "end_time": "2022-12-03T10:12:40.749282Z",
     "start_time": "2022-12-03T10:12:40.730186Z"
    }
   },
   "outputs": [
    {
     "data": {
      "text/plain": [
       "array([[30.93092469, 15.52883319, 10.14152088, 19.43976093, 35.21051198],\n",
       "       [40.27997995, 54.34285667, 42.50025693, 68.83673054, 21.24077272]])"
      ]
     },
     "execution_count": 228,
     "metadata": {},
     "output_type": "execute_result"
    }
   ],
   "source": [
    "np.random.uniform(1,100,10).reshape(2,5)"
   ]
  },
  {
   "cell_type": "code",
   "execution_count": 232,
   "id": "faeadb5f",
   "metadata": {
    "ExecuteTime": {
     "end_time": "2022-12-03T10:18:20.001316Z",
     "start_time": "2022-12-03T10:18:19.979346Z"
    }
   },
   "outputs": [
    {
     "data": {
      "text/plain": [
       "array([[5, 1, 4, 3, 1],\n",
       "       [5, 3, 8, 8, 9],\n",
       "       [7, 4, 8, 8, 5]])"
      ]
     },
     "execution_count": 232,
     "metadata": {},
     "output_type": "execute_result"
    }
   ],
   "source": [
    "np.random.randint(1,10,15).reshape(3,5)"
   ]
  },
  {
   "cell_type": "code",
   "execution_count": 235,
   "id": "336b5437",
   "metadata": {
    "ExecuteTime": {
     "end_time": "2022-12-03T10:19:07.614391Z",
     "start_time": "2022-12-03T10:19:07.594733Z"
    }
   },
   "outputs": [
    {
     "name": "stdout",
     "output_type": "stream",
     "text": [
      "[8 8 8 4 1 9]\n"
     ]
    }
   ],
   "source": [
    "a = np.random.randint(1,10,6)\n",
    "print(a)"
   ]
  },
  {
   "cell_type": "code",
   "execution_count": 236,
   "id": "7c83de2d",
   "metadata": {
    "ExecuteTime": {
     "end_time": "2022-12-03T10:19:10.280779Z",
     "start_time": "2022-12-03T10:19:10.260292Z"
    }
   },
   "outputs": [
    {
     "data": {
      "text/plain": [
       "9"
      ]
     },
     "execution_count": 236,
     "metadata": {},
     "output_type": "execute_result"
    }
   ],
   "source": [
    "np.max(a)"
   ]
  },
  {
   "cell_type": "code",
   "execution_count": 237,
   "id": "e61c7b0d",
   "metadata": {
    "ExecuteTime": {
     "end_time": "2022-12-03T10:19:20.309934Z",
     "start_time": "2022-12-03T10:19:20.300006Z"
    }
   },
   "outputs": [
    {
     "data": {
      "text/plain": [
       "1"
      ]
     },
     "execution_count": 237,
     "metadata": {},
     "output_type": "execute_result"
    }
   ],
   "source": [
    "np.min(a)"
   ]
  },
  {
   "cell_type": "code",
   "execution_count": 238,
   "id": "01058dcd",
   "metadata": {
    "ExecuteTime": {
     "end_time": "2022-12-03T10:19:51.567438Z",
     "start_time": "2022-12-03T10:19:51.547258Z"
    }
   },
   "outputs": [
    {
     "data": {
      "text/plain": [
       "array([ 8,  8,  8,  4, -1, -1])"
      ]
     },
     "execution_count": 238,
     "metadata": {},
     "output_type": "execute_result"
    }
   ],
   "source": [
    "a[a % 2 == 1] = -1\n",
    "a"
   ]
  },
  {
   "cell_type": "code",
   "execution_count": 240,
   "id": "8de58057",
   "metadata": {
    "ExecuteTime": {
     "end_time": "2022-12-03T10:24:35.068472Z",
     "start_time": "2022-12-03T10:24:35.048665Z"
    }
   },
   "outputs": [
    {
     "name": "stdout",
     "output_type": "stream",
     "text": [
      "[ 7 22  7  3 13 28]\n"
     ]
    }
   ],
   "source": [
    "b = np.random.randint(1,50,6)\n",
    "print(b)"
   ]
  },
  {
   "cell_type": "code",
   "execution_count": 241,
   "id": "4d13911b",
   "metadata": {
    "ExecuteTime": {
     "end_time": "2022-12-03T10:25:48.062485Z",
     "start_time": "2022-12-03T10:25:48.044700Z"
    }
   },
   "outputs": [
    {
     "data": {
      "text/plain": [
       "array([-1, 22, -1, -1, -1, 28])"
      ]
     },
     "execution_count": 241,
     "metadata": {},
     "output_type": "execute_result"
    }
   ],
   "source": [
    "np.where(b % 2 == 1,-1,b)"
   ]
  },
  {
   "cell_type": "code",
   "execution_count": 243,
   "id": "cf77db9b",
   "metadata": {
    "ExecuteTime": {
     "end_time": "2022-12-03T10:30:42.612979Z",
     "start_time": "2022-12-03T10:30:42.594441Z"
    }
   },
   "outputs": [
    {
     "data": {
      "text/plain": [
       "array([-1, 22, -1, -1, -1, 28])"
      ]
     },
     "execution_count": 243,
     "metadata": {},
     "output_type": "execute_result"
    }
   ],
   "source": [
    "out = np.where(b % 2 == 1,-1,b)\n",
    "out"
   ]
  },
  {
   "cell_type": "code",
   "execution_count": 245,
   "id": "3d92f1a9",
   "metadata": {
    "ExecuteTime": {
     "end_time": "2022-12-03T10:31:41.398873Z",
     "start_time": "2022-12-03T10:31:41.389498Z"
    }
   },
   "outputs": [
    {
     "name": "stdout",
     "output_type": "stream",
     "text": [
      "[22 12  8 14  9 12 13 44 21 31]\n"
     ]
    }
   ],
   "source": [
    "c = np.random.randint(1,50,10)\n",
    "print(c)"
   ]
  },
  {
   "cell_type": "code",
   "execution_count": 246,
   "id": "5a66447b",
   "metadata": {
    "ExecuteTime": {
     "end_time": "2022-12-03T10:31:54.201039Z",
     "start_time": "2022-12-03T10:31:54.176760Z"
    }
   },
   "outputs": [
    {
     "data": {
      "text/plain": [
       "array([ 8,  9, 12, 12, 13, 14, 21, 22, 31, 44])"
      ]
     },
     "execution_count": 246,
     "metadata": {},
     "output_type": "execute_result"
    }
   ],
   "source": [
    "np.sort(c)"
   ]
  },
  {
   "cell_type": "code",
   "execution_count": 247,
   "id": "c1c6b74a",
   "metadata": {
    "ExecuteTime": {
     "end_time": "2022-12-03T10:32:22.584545Z",
     "start_time": "2022-12-03T10:32:22.564449Z"
    }
   },
   "outputs": [
    {
     "data": {
      "text/plain": [
       "12.0"
      ]
     },
     "execution_count": 247,
     "metadata": {},
     "output_type": "execute_result"
    }
   ],
   "source": [
    "np.percentile(c,25)"
   ]
  },
  {
   "cell_type": "code",
   "execution_count": 248,
   "id": "b53295e3",
   "metadata": {
    "ExecuteTime": {
     "end_time": "2022-12-03T10:32:46.784313Z",
     "start_time": "2022-12-03T10:32:46.768475Z"
    }
   },
   "outputs": [
    {
     "data": {
      "text/plain": [
       "13.5"
      ]
     },
     "execution_count": 248,
     "metadata": {},
     "output_type": "execute_result"
    }
   ],
   "source": [
    "np.percentile(c,50)"
   ]
  },
  {
   "cell_type": "code",
   "execution_count": 249,
   "id": "96a27e3a",
   "metadata": {
    "ExecuteTime": {
     "end_time": "2022-12-03T10:33:01.522485Z",
     "start_time": "2022-12-03T10:33:01.505740Z"
    }
   },
   "outputs": [
    {
     "data": {
      "text/plain": [
       "43.76599999999999"
      ]
     },
     "execution_count": 249,
     "metadata": {},
     "output_type": "execute_result"
    }
   ],
   "source": [
    "np.percentile(c,99.8)"
   ]
  }
 ],
 "metadata": {
  "kernelspec": {
   "display_name": "Python 3 (ipykernel)",
   "language": "python",
   "name": "python3"
  },
  "language_info": {
   "codemirror_mode": {
    "name": "ipython",
    "version": 3
   },
   "file_extension": ".py",
   "mimetype": "text/x-python",
   "name": "python",
   "nbconvert_exporter": "python",
   "pygments_lexer": "ipython3",
   "version": "3.9.12"
  }
 },
 "nbformat": 4,
 "nbformat_minor": 5
}
